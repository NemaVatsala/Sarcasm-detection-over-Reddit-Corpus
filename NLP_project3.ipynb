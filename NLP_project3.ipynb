{
  "cells": [
    {
      "cell_type": "code",
      "execution_count": 1,
      "metadata": {},
      "outputs": [],
      "source": [
        "!source env/bin/activate"
      ]
    },
    {
      "cell_type": "markdown",
      "metadata": {
        "id": "gEOgEkSOG2s3"
      },
      "source": [
        "**Importing libraries**"
      ]
    },
    {
      "cell_type": "code",
      "execution_count": 2,
      "metadata": {
        "id": "kCQMxr852yrE"
      },
      "outputs": [],
      "source": [
        "import pandas as pd\n",
        "import numpy as np\n",
        "import matplotlib.pyplot as plt\n",
        "import seaborn as sns\n",
        "from wordcloud import WordCloud, STOPWORDS\n",
        "from nltk.tokenize import word_tokenize, sent_tokenize, wordpunct_tokenize, TreebankWordTokenizer, TweetTokenizer, MWETokenizer\n",
        "from nltk.corpus import stopwords\n",
        "from nltk import ngrams\n",
        "from nltk.stem import WordNetLemmatizer\n",
        "from nltk.stem import PorterStemmer\n",
        "import pandas as pd\n",
        "from sklearn.feature_extraction.text import TfidfVectorizer\n",
        "from sklearn.feature_extraction.text import CountVectorizer\n",
        "from os import path\n",
        "sns.set()\n",
        "from sklearn.model_selection import train_test_split\n",
        "\n",
        "from sklearn.linear_model import LogisticRegression\n",
        "from sklearn.pipeline import Pipeline\n",
        "from sklearn.metrics import accuracy_score, confusion_matrix, recall_score, precision_score, f1_score\n",
        "\n",
        "from sklearn.model_selection import cross_val_score\n",
        "from sklearn.model_selection import GridSearchCV\n",
        "import calendar\n",
        "from sklearn.feature_extraction.text import TfidfVectorizer\n",
        "from sklearn.metrics.pairwise import cosine_similarity\n",
        "%matplotlib inline\n",
        "import time"
      ]
    },
    {
      "cell_type": "markdown",
      "metadata": {
        "id": "wpKD_So7G-FY"
      },
      "source": [
        "**Importing CSV files**"
      ]
    },
    {
      "cell_type": "code",
      "execution_count": 3,
      "metadata": {
        "colab": {
          "base_uri": "https://localhost:8080/"
        },
        "id": "LeRSkBPZ28rQ",
        "outputId": "37704462-d8ca-4f39-b7d4-f2f9cd01912b"
      },
      "outputs": [
        {
          "name": "stderr",
          "output_type": "stream",
          "text": [
            "/tmp/ipykernel_3767946/2147414233.py:1: FutureWarning: The error_bad_lines argument has been deprecated and will be removed in a future version. Use on_bad_lines in the future.\n",
            "\n",
            "\n",
            "  train_df = pd.read_csv(\"project_training_data_with_class_labels.csv\", error_bad_lines=False)\n",
            "b'Skipping line 36926: expected 4 fields, saw 5\\nSkipping line 72352: expected 4 fields, saw 5\\nSkipping line 104352: expected 4 fields, saw 5\\n'\n",
            "b'Skipping line 202373: expected 4 fields, saw 5\\nSkipping line 207923: expected 4 fields, saw 5\\n'\n",
            "b'Skipping line 309632: expected 4 fields, saw 5\\n'\n",
            "b'Skipping line 409346: expected 4 fields, saw 5\\n'\n",
            "b'Skipping line 651860: expected 4 fields, saw 5\\n'\n",
            "b'Skipping line 664720: expected 4 fields, saw 5\\nSkipping line 734905: expected 4 fields, saw 5\\n'\n",
            "b'Skipping line 790510: expected 4 fields, saw 5\\n'\n"
          ]
        }
      ],
      "source": [
        "train_df = pd.read_csv(\"project_training_data_with_class_labels.csv\", error_bad_lines=False)"
      ]
    },
    {
      "cell_type": "code",
      "execution_count": 4,
      "metadata": {
        "colab": {
          "base_uri": "https://localhost:8080/",
          "height": 424
        },
        "id": "Hk_ufL1G3Etx",
        "outputId": "05468c46-6398-4018-cf51-53e83126fe38"
      },
      "outputs": [
        {
          "data": {
            "text/html": [
              "<div>\n",
              "<style scoped>\n",
              "    .dataframe tbody tr th:only-of-type {\n",
              "        vertical-align: middle;\n",
              "    }\n",
              "\n",
              "    .dataframe tbody tr th {\n",
              "        vertical-align: top;\n",
              "    }\n",
              "\n",
              "    .dataframe thead th {\n",
              "        text-align: right;\n",
              "    }\n",
              "</style>\n",
              "<table border=\"1\" class=\"dataframe\">\n",
              "  <thead>\n",
              "    <tr style=\"text-align: right;\">\n",
              "      <th></th>\n",
              "      <th>ID</th>\n",
              "      <th>Comments</th>\n",
              "      <th>Parent Comments</th>\n",
              "      <th>Class Labels</th>\n",
              "    </tr>\n",
              "  </thead>\n",
              "  <tbody>\n",
              "    <tr>\n",
              "      <th>0</th>\n",
              "      <td>ocxtitan</td>\n",
              "      <td>Central Illinois</td>\n",
              "      <td>Jesus; where do you live?</td>\n",
              "      <td>non-sarcastic</td>\n",
              "    </tr>\n",
              "    <tr>\n",
              "      <th>1</th>\n",
              "      <td>LeChuckly</td>\n",
              "      <td>To think - CNN used to be the acronym synonymo...</td>\n",
              "      <td>Even The CNN Staff Is Sick Of The Wall-To-Wall...</td>\n",
              "      <td>non-sarcastic</td>\n",
              "    </tr>\n",
              "    <tr>\n",
              "      <th>2</th>\n",
              "      <td>throwitskrub8</td>\n",
              "      <td>But then again; you have to consider that all ...</td>\n",
              "      <td>agree to that part.It can also mean that gujra...</td>\n",
              "      <td>non-sarcastic</td>\n",
              "    </tr>\n",
              "    <tr>\n",
              "      <th>3</th>\n",
              "      <td>fresherthanyouuu</td>\n",
              "      <td>ughhhhh</td>\n",
              "      <td>If a guy told you he doesn't use social media ...</td>\n",
              "      <td>non-sarcastic</td>\n",
              "    </tr>\n",
              "    <tr>\n",
              "      <th>4</th>\n",
              "      <td>_kushagra</td>\n",
              "      <td>I should've put the</td>\n",
              "      <td>No; it's just a programming bug. After all; th...</td>\n",
              "      <td>sarcastic</td>\n",
              "    </tr>\n",
              "    <tr>\n",
              "      <th>...</th>\n",
              "      <td>...</td>\n",
              "      <td>...</td>\n",
              "      <td>...</td>\n",
              "      <td>...</td>\n",
              "    </tr>\n",
              "    <tr>\n",
              "      <th>808085</th>\n",
              "      <td>Arectarius</td>\n",
              "      <td>50% hp/def elgif; impiety orb; bourn jewel che...</td>\n",
              "      <td>Hate to break it to you; but Gloomy can't do a...</td>\n",
              "      <td>sarcastic</td>\n",
              "    </tr>\n",
              "    <tr>\n",
              "      <th>808086</th>\n",
              "      <td>dale1v</td>\n",
              "      <td>Rubicon Mango.</td>\n",
              "      <td>Hey Reddit; if you could only drink one flavor...</td>\n",
              "      <td>non-sarcastic</td>\n",
              "    </tr>\n",
              "    <tr>\n",
              "      <th>808087</th>\n",
              "      <td>Semyonov</td>\n",
              "      <td>Essentially GAP insurance right?</td>\n",
              "      <td>I'm sure you can pay for it. Most insurance pl...</td>\n",
              "      <td>non-sarcastic</td>\n",
              "    </tr>\n",
              "    <tr>\n",
              "      <th>808088</th>\n",
              "      <td>futalover99</td>\n",
              "      <td>Yeah; but sometimes that weird kid keeps tryin...</td>\n",
              "      <td>Ive been subscribed to that for a while; and a...</td>\n",
              "      <td>non-sarcastic</td>\n",
              "    </tr>\n",
              "    <tr>\n",
              "      <th>808089</th>\n",
              "      <td>SuperSpartacus</td>\n",
              "      <td>Petroleum doesn't really require a terroir lik...</td>\n",
              "      <td>It must be very different for oil then. I know...</td>\n",
              "      <td>non-sarcastic</td>\n",
              "    </tr>\n",
              "  </tbody>\n",
              "</table>\n",
              "<p>808090 rows × 4 columns</p>\n",
              "</div>"
            ],
            "text/plain": [
              "                      ID                                           Comments  \\\n",
              "0               ocxtitan                                   Central Illinois   \n",
              "1              LeChuckly  To think - CNN used to be the acronym synonymo...   \n",
              "2          throwitskrub8  But then again; you have to consider that all ...   \n",
              "3       fresherthanyouuu                                            ughhhhh   \n",
              "4              _kushagra                                I should've put the   \n",
              "...                  ...                                                ...   \n",
              "808085        Arectarius  50% hp/def elgif; impiety orb; bourn jewel che...   \n",
              "808086            dale1v                                     Rubicon Mango.   \n",
              "808087          Semyonov                   Essentially GAP insurance right?   \n",
              "808088       futalover99  Yeah; but sometimes that weird kid keeps tryin...   \n",
              "808089    SuperSpartacus  Petroleum doesn't really require a terroir lik...   \n",
              "\n",
              "                                          Parent Comments  Class Labels   \n",
              "0                               Jesus; where do you live?  non-sarcastic  \n",
              "1       Even The CNN Staff Is Sick Of The Wall-To-Wall...  non-sarcastic  \n",
              "2       agree to that part.It can also mean that gujra...  non-sarcastic  \n",
              "3       If a guy told you he doesn't use social media ...  non-sarcastic  \n",
              "4       No; it's just a programming bug. After all; th...      sarcastic  \n",
              "...                                                   ...            ...  \n",
              "808085  Hate to break it to you; but Gloomy can't do a...      sarcastic  \n",
              "808086  Hey Reddit; if you could only drink one flavor...  non-sarcastic  \n",
              "808087  I'm sure you can pay for it. Most insurance pl...  non-sarcastic  \n",
              "808088  Ive been subscribed to that for a while; and a...  non-sarcastic  \n",
              "808089  It must be very different for oil then. I know...  non-sarcastic  \n",
              "\n",
              "[808090 rows x 4 columns]"
            ]
          },
          "execution_count": 4,
          "metadata": {},
          "output_type": "execute_result"
        }
      ],
      "source": [
        "train_df "
      ]
    },
    {
      "cell_type": "markdown",
      "metadata": {
        "id": "02CAARD7AhJv"
      },
      "source": [
        "**Cleaning the dataset**"
      ]
    },
    {
      "cell_type": "code",
      "execution_count": 5,
      "metadata": {
        "id": "D_ytyOe33aui"
      },
      "outputs": [],
      "source": [
        "df1 = train_df[train_df.isna().any(axis=1)]"
      ]
    },
    {
      "cell_type": "code",
      "execution_count": 6,
      "metadata": {
        "colab": {
          "base_uri": "https://localhost:8080/",
          "height": 175
        },
        "id": "vGB6UGwDAYsr",
        "outputId": "88d96206-00ac-4605-9a9b-bb51d8141d52"
      },
      "outputs": [
        {
          "data": {
            "text/html": [
              "<div>\n",
              "<style scoped>\n",
              "    .dataframe tbody tr th:only-of-type {\n",
              "        vertical-align: middle;\n",
              "    }\n",
              "\n",
              "    .dataframe tbody tr th {\n",
              "        vertical-align: top;\n",
              "    }\n",
              "\n",
              "    .dataframe thead th {\n",
              "        text-align: right;\n",
              "    }\n",
              "</style>\n",
              "<table border=\"1\" class=\"dataframe\">\n",
              "  <thead>\n",
              "    <tr style=\"text-align: right;\">\n",
              "      <th></th>\n",
              "      <th>ID</th>\n",
              "      <th>Comments</th>\n",
              "      <th>Parent Comments</th>\n",
              "      <th>Class Labels</th>\n",
              "    </tr>\n",
              "  </thead>\n",
              "  <tbody>\n",
              "    <tr>\n",
              "      <th>8917</th>\n",
              "      <td>self_defeating</td>\n",
              "      <td>NaN</td>\n",
              "      <td>Because we have chosen them as sources of mind...</td>\n",
              "      <td>sarcastic</td>\n",
              "    </tr>\n",
              "    <tr>\n",
              "      <th>9396</th>\n",
              "      <td>Khvostov_7g-02</td>\n",
              "      <td>NaN</td>\n",
              "      <td>woah; thanks.</td>\n",
              "      <td>non-sarcastic</td>\n",
              "    </tr>\n",
              "    <tr>\n",
              "      <th>9469</th>\n",
              "      <td>roybringus</td>\n",
              "      <td>NaN</td>\n",
              "      <td>I am just shocked an upstanding group like thi...</td>\n",
              "      <td>sarcastic</td>\n",
              "    </tr>\n",
              "    <tr>\n",
              "      <th>39976</th>\n",
              "      <td>MObaid27</td>\n",
              "      <td>NaN</td>\n",
              "      <td>Bebe is a beautiful &amp;amp; wonderfully gifted f...</td>\n",
              "      <td>sarcastic</td>\n",
              "    </tr>\n",
              "    <tr>\n",
              "      <th>41499</th>\n",
              "      <td>abdiascoronel</td>\n",
              "      <td>Said the bruised ego.,Pretending to be an idi...</td>\n",
              "      <td>non-sarcastic</td>\n",
              "      <td>NaN</td>\n",
              "    </tr>\n",
              "    <tr>\n",
              "      <th>56037</th>\n",
              "      <td>texasboyf150</td>\n",
              "      <td>Going on about they lives...that's an opinion ...</td>\n",
              "      <td>non-sarcastic</td>\n",
              "      <td>NaN</td>\n",
              "    </tr>\n",
              "    <tr>\n",
              "      <th>84428</th>\n",
              "      <td>CenaW</td>\n",
              "      <td>NaN</td>\n",
              "      <td>thanks Democrats.</td>\n",
              "      <td>sarcastic</td>\n",
              "    </tr>\n",
              "    <tr>\n",
              "      <th>88537</th>\n",
              "      <td>IndigenousOres</td>\n",
              "      <td>NaN</td>\n",
              "      <td>Lol you didn't got it</td>\n",
              "      <td>sarcastic</td>\n",
              "    </tr>\n",
              "    <tr>\n",
              "      <th>104232</th>\n",
              "      <td>roguetroll</td>\n",
              "      <td>But it's wint... *falls over leg* DAMN IT!,*st...</td>\n",
              "      <td>sarcastic</td>\n",
              "      <td>NaN</td>\n",
              "    </tr>\n",
              "    <tr>\n",
              "      <th>127616</th>\n",
              "      <td>mattindustries</td>\n",
              "      <td>NaN</td>\n",
              "      <td>Droids are just objectively better. Doesn't ta...</td>\n",
              "      <td>sarcastic</td>\n",
              "    </tr>\n",
              "    <tr>\n",
              "      <th>134668</th>\n",
              "      <td>Ps3Dave</td>\n",
              "      <td>I don't care how loud your screams are; you're...</td>\n",
              "      <td>non-sarcastic</td>\n",
              "      <td>NaN</td>\n",
              "    </tr>\n",
              "    <tr>\n",
              "      <th>161395</th>\n",
              "      <td>Crusty_white_sock</td>\n",
              "      <td>You're nice; but the reason I don't want to da...</td>\n",
              "      <td>non-sarcastic</td>\n",
              "      <td>NaN</td>\n",
              "    </tr>\n",
              "    <tr>\n",
              "      <th>162258</th>\n",
              "      <td>butteryrice123</td>\n",
              "      <td>DLC 5 has been announced as a PS4 exclusive,De...</td>\n",
              "      <td>non-sarcastic</td>\n",
              "      <td>NaN</td>\n",
              "    </tr>\n",
              "    <tr>\n",
              "      <th>172361</th>\n",
              "      <td>lantech</td>\n",
              "      <td>NaN</td>\n",
              "      <td>We need a sarcasm font. Or perhaps I'm a retard.</td>\n",
              "      <td>sarcastic</td>\n",
              "    </tr>\n",
              "    <tr>\n",
              "      <th>175541</th>\n",
              "      <td>XHo-Oh</td>\n",
              "      <td>This new Shugesh form will have its own rarity...</td>\n",
              "      <td>non-sarcastic</td>\n",
              "      <td>NaN</td>\n",
              "    </tr>\n",
              "    <tr>\n",
              "      <th>207469</th>\n",
              "      <td>So12rovv</td>\n",
              "      <td>NaN</td>\n",
              "      <td>Will do. EU or NA?</td>\n",
              "      <td>non-sarcastic</td>\n",
              "    </tr>\n",
              "    <tr>\n",
              "      <th>231580</th>\n",
              "      <td>jhn_rob</td>\n",
              "      <td>NaN</td>\n",
              "      <td>Yes; using game features is an exploit</td>\n",
              "      <td>sarcastic</td>\n",
              "    </tr>\n",
              "    <tr>\n",
              "      <th>278199</th>\n",
              "      <td>VanDriver1</td>\n",
              "      <td>It will be better when it's one lane each way ...</td>\n",
              "      <td>sarcastic</td>\n",
              "      <td>NaN</td>\n",
              "    </tr>\n",
              "    <tr>\n",
              "      <th>285272</th>\n",
              "      <td>chamclouder</td>\n",
              "      <td>I cant believe Team: goalie with a bridge cont...</td>\n",
              "      <td>sarcastic</td>\n",
              "      <td>NaN</td>\n",
              "    </tr>\n",
              "    <tr>\n",
              "      <th>289901</th>\n",
              "      <td>Synsc</td>\n",
              "      <td>NaN</td>\n",
              "      <td>House \"of\" Commons</td>\n",
              "      <td>non-sarcastic</td>\n",
              "    </tr>\n",
              "    <tr>\n",
              "      <th>293003</th>\n",
              "      <td>ShyBiDude89</td>\n",
              "      <td>It's ok if I do it; it's those other people yo...</td>\n",
              "      <td>sarcastic</td>\n",
              "      <td>NaN</td>\n",
              "    </tr>\n",
              "    <tr>\n",
              "      <th>312887</th>\n",
              "      <td>BrightIdeaDude</td>\n",
              "      <td>NaN</td>\n",
              "      <td>SERIOUSLY?! THIS IS THE FREE ITEM I GOT FOR PL...</td>\n",
              "      <td>sarcastic</td>\n",
              "    </tr>\n",
              "    <tr>\n",
              "      <th>334963</th>\n",
              "      <td>sailingonward</td>\n",
              "      <td>NaN</td>\n",
              "      <td>Are you proposing that the stock market should...</td>\n",
              "      <td>sarcastic</td>\n",
              "    </tr>\n",
              "    <tr>\n",
              "      <th>348402</th>\n",
              "      <td>atlacatl</td>\n",
              "      <td>NaN</td>\n",
              "      <td>Doesn't matter if that experience is garbage</td>\n",
              "      <td>sarcastic</td>\n",
              "    </tr>\n",
              "    <tr>\n",
              "      <th>349834</th>\n",
              "      <td>RAGGA_MUFFIN</td>\n",
              "      <td>NaN</td>\n",
              "      <td>Uh; what about that looks like a ghetto to you?</td>\n",
              "      <td>sarcastic</td>\n",
              "    </tr>\n",
              "    <tr>\n",
              "      <th>364333</th>\n",
              "      <td>qubi</td>\n",
              "      <td>NaN</td>\n",
              "      <td>No kidding</td>\n",
              "      <td>sarcastic</td>\n",
              "    </tr>\n",
              "    <tr>\n",
              "      <th>364928</th>\n",
              "      <td>Wemorg</td>\n",
              "      <td>NaN</td>\n",
              "      <td>Your favourite lol joke?</td>\n",
              "      <td>sarcastic</td>\n",
              "    </tr>\n",
              "    <tr>\n",
              "      <th>365270</th>\n",
              "      <td>Mdgt_Pope</td>\n",
              "      <td>could've,They could of played 3 bad teams in t...</td>\n",
              "      <td>non-sarcastic</td>\n",
              "      <td>NaN</td>\n",
              "    </tr>\n",
              "    <tr>\n",
              "      <th>366544</th>\n",
              "      <td>DJGow</td>\n",
              "      <td>NaN</td>\n",
              "      <td>And thus an universal sarcasm indicator is born.</td>\n",
              "      <td>sarcastic</td>\n",
              "    </tr>\n",
              "    <tr>\n",
              "      <th>367749</th>\n",
              "      <td>kerplunkerfish</td>\n",
              "      <td>We were just outside Barstow; on the edge of t...</td>\n",
              "      <td>sarcastic</td>\n",
              "      <td>NaN</td>\n",
              "    </tr>\n",
              "    <tr>\n",
              "      <th>379882</th>\n",
              "      <td>New-Hitler-Hillary</td>\n",
              "      <td>$10;000 cheap,Cheap V-8 Turbo Build! LS-Turbo ...</td>\n",
              "      <td>non-sarcastic</td>\n",
              "      <td>NaN</td>\n",
              "    </tr>\n",
              "    <tr>\n",
              "      <th>401222</th>\n",
              "      <td>Trout_Tickler</td>\n",
              "      <td>NaN</td>\n",
              "      <td>Nah; that's Tux</td>\n",
              "      <td>sarcastic</td>\n",
              "    </tr>\n",
              "    <tr>\n",
              "      <th>410604</th>\n",
              "      <td>Puffin_fan</td>\n",
              "      <td>give everyone the power to share anything with...</td>\n",
              "      <td>non-sarcastic</td>\n",
              "      <td>NaN</td>\n",
              "    </tr>\n",
              "    <tr>\n",
              "      <th>414019</th>\n",
              "      <td>Ryan94985</td>\n",
              "      <td>NaN</td>\n",
              "      <td>Even if she is under 18 it isn't pornography. ...</td>\n",
              "      <td>sarcastic</td>\n",
              "    </tr>\n",
              "    <tr>\n",
              "      <th>421408</th>\n",
              "      <td>Kiux97</td>\n",
              "      <td>NaN</td>\n",
              "      <td>Because with the newer cell it looks stupid?</td>\n",
              "      <td>sarcastic</td>\n",
              "    </tr>\n",
              "    <tr>\n",
              "      <th>442200</th>\n",
              "      <td>havok0159</td>\n",
              "      <td>[]</td>\n",
              "      <td>NaN</td>\n",
              "      <td>sarcastic</td>\n",
              "    </tr>\n",
              "    <tr>\n",
              "      <th>450895</th>\n",
              "      <td>calo9000</td>\n",
              "      <td>NaN</td>\n",
              "      <td>Valiant sir stands up against the console dron...</td>\n",
              "      <td>sarcastic</td>\n",
              "    </tr>\n",
              "    <tr>\n",
              "      <th>487177</th>\n",
              "      <td>TinHao</td>\n",
              "      <td>NaN</td>\n",
              "      <td>integrity?</td>\n",
              "      <td>sarcastic</td>\n",
              "    </tr>\n",
              "    <tr>\n",
              "      <th>491552</th>\n",
              "      <td>Knorikus</td>\n",
              "      <td>NaN</td>\n",
              "      <td>There probably won't be master chief Might be ...</td>\n",
              "      <td>sarcastic</td>\n",
              "    </tr>\n",
              "    <tr>\n",
              "      <th>507437</th>\n",
              "      <td>ellen_pao</td>\n",
              "      <td>NaN</td>\n",
              "      <td>very true; not all girls like the \"bad boy\"</td>\n",
              "      <td>sarcastic</td>\n",
              "    </tr>\n",
              "    <tr>\n",
              "      <th>509766</th>\n",
              "      <td>Jobcv314</td>\n",
              "      <td>Oh; sorry your honor; I thought the law was *o...</td>\n",
              "      <td>non-sarcastic</td>\n",
              "      <td>NaN</td>\n",
              "    </tr>\n",
              "    <tr>\n",
              "      <th>531255</th>\n",
              "      <td>The_Leedle</td>\n",
              "      <td>But EDM isn't music; it's just sounds *because...</td>\n",
              "      <td>sarcastic</td>\n",
              "      <td>NaN</td>\n",
              "    </tr>\n",
              "    <tr>\n",
              "      <th>578745</th>\n",
              "      <td>Nessie</td>\n",
              "      <td>NaN</td>\n",
              "      <td>I cant tell if this is sarcasm or not; but so ...</td>\n",
              "      <td>sarcastic</td>\n",
              "    </tr>\n",
              "    <tr>\n",
              "      <th>582988</th>\n",
              "      <td>Ziffelbrixx</td>\n",
              "      <td>NaN</td>\n",
              "      <td>Kinda wish the article showed the bridges on t...</td>\n",
              "      <td>non-sarcastic</td>\n",
              "    </tr>\n",
              "    <tr>\n",
              "      <th>587198</th>\n",
              "      <td>SodokuIRL</td>\n",
              "      <td>NaN</td>\n",
              "      <td>LPL shitshow; EU LCS shitshow. What isn't a sh...</td>\n",
              "      <td>sarcastic</td>\n",
              "    </tr>\n",
              "    <tr>\n",
              "      <th>616317</th>\n",
              "      <td>iloveyoujesuschriist</td>\n",
              "      <td>Lend-Lease aid did not arrive in sufficient qu...</td>\n",
              "      <td>sarcastic</td>\n",
              "      <td>NaN</td>\n",
              "    </tr>\n",
              "    <tr>\n",
              "      <th>634685</th>\n",
              "      <td>MrOxi</td>\n",
              "      <td>NaN</td>\n",
              "      <td>Make sure he doesn't overdose! Too many people...</td>\n",
              "      <td>sarcastic</td>\n",
              "    </tr>\n",
              "    <tr>\n",
              "      <th>635051</th>\n",
              "      <td>TheCavalierLads</td>\n",
              "      <td>NaN</td>\n",
              "      <td>But then no one sees how many active friends y...</td>\n",
              "      <td>sarcastic</td>\n",
              "    </tr>\n",
              "    <tr>\n",
              "      <th>638355</th>\n",
              "      <td>RealityIsMyReligion</td>\n",
              "      <td>NaN</td>\n",
              "      <td>Pharmacists of Reddit; how much do you judge p...</td>\n",
              "      <td>non-sarcastic</td>\n",
              "    </tr>\n",
              "    <tr>\n",
              "      <th>638916</th>\n",
              "      <td>curbstickle</td>\n",
              "      <td>NaN</td>\n",
              "      <td>if only there was a way to convey sarcasm thro...</td>\n",
              "      <td>sarcastic</td>\n",
              "    </tr>\n",
              "    <tr>\n",
              "      <th>653324</th>\n",
              "      <td>Thief39</td>\n",
              "      <td>Something like that',Great minds think alike. ...</td>\n",
              "      <td>sarcastic</td>\n",
              "      <td>NaN</td>\n",
              "    </tr>\n",
              "    <tr>\n",
              "      <th>653687</th>\n",
              "      <td>dont_wear_a_C</td>\n",
              "      <td>NaN</td>\n",
              "      <td>Thu 2016-08-04 accessing vault............unlo...</td>\n",
              "      <td>non-sarcastic</td>\n",
              "    </tr>\n",
              "    <tr>\n",
              "      <th>654055</th>\n",
              "      <td>FieldDay</td>\n",
              "      <td>NaN</td>\n",
              "      <td>Fuck you too; buddy.</td>\n",
              "      <td>non-sarcastic</td>\n",
              "    </tr>\n",
              "    <tr>\n",
              "      <th>711972</th>\n",
              "      <td>waldo686</td>\n",
              "      <td>I don't think we; as law enforcement; can supp...</td>\n",
              "      <td>sarcastic</td>\n",
              "      <td>NaN</td>\n",
              "    </tr>\n",
              "    <tr>\n",
              "      <th>739776</th>\n",
              "      <td>insanePower</td>\n",
              "      <td>NaN</td>\n",
              "      <td>jiji still shitstomps solo q against NALCS mid...</td>\n",
              "      <td>non-sarcastic</td>\n",
              "    </tr>\n",
              "    <tr>\n",
              "      <th>750918</th>\n",
              "      <td>PoochDoobie</td>\n",
              "      <td>NaN</td>\n",
              "      <td>lol I can't believe that your cat slept throug...</td>\n",
              "      <td>sarcastic</td>\n",
              "    </tr>\n",
              "    <tr>\n",
              "      <th>753557</th>\n",
              "      <td>Dalmazz</td>\n",
              "      <td>NaN</td>\n",
              "      <td>Best region?</td>\n",
              "      <td>sarcastic</td>\n",
              "    </tr>\n",
              "    <tr>\n",
              "      <th>778552</th>\n",
              "      <td>wedontlikespaces</td>\n",
              "      <td>NaN</td>\n",
              "      <td>What symbol denotes suck?</td>\n",
              "      <td>sarcastic</td>\n",
              "    </tr>\n",
              "    <tr>\n",
              "      <th>787209</th>\n",
              "      <td>Untoldstory55</td>\n",
              "      <td>NaN</td>\n",
              "      <td>If only it was that simple; but one fix may im...</td>\n",
              "      <td>sarcastic</td>\n",
              "    </tr>\n",
              "  </tbody>\n",
              "</table>\n",
              "</div>"
            ],
            "text/plain": [
              "                          ID  \\\n",
              "8917          self_defeating   \n",
              "9396          Khvostov_7g-02   \n",
              "9469              roybringus   \n",
              "39976               MObaid27   \n",
              "41499          abdiascoronel   \n",
              "56037           texasboyf150   \n",
              "84428                  CenaW   \n",
              "88537         IndigenousOres   \n",
              "104232            roguetroll   \n",
              "127616        mattindustries   \n",
              "134668               Ps3Dave   \n",
              "161395     Crusty_white_sock   \n",
              "162258        butteryrice123   \n",
              "172361               lantech   \n",
              "175541                XHo-Oh   \n",
              "207469              So12rovv   \n",
              "231580               jhn_rob   \n",
              "278199            VanDriver1   \n",
              "285272           chamclouder   \n",
              "289901                 Synsc   \n",
              "293003           ShyBiDude89   \n",
              "312887        BrightIdeaDude   \n",
              "334963         sailingonward   \n",
              "348402              atlacatl   \n",
              "349834          RAGGA_MUFFIN   \n",
              "364333                  qubi   \n",
              "364928                Wemorg   \n",
              "365270             Mdgt_Pope   \n",
              "366544                 DJGow   \n",
              "367749        kerplunkerfish   \n",
              "379882    New-Hitler-Hillary   \n",
              "401222         Trout_Tickler   \n",
              "410604            Puffin_fan   \n",
              "414019             Ryan94985   \n",
              "421408                Kiux97   \n",
              "442200             havok0159   \n",
              "450895              calo9000   \n",
              "487177                TinHao   \n",
              "491552              Knorikus   \n",
              "507437             ellen_pao   \n",
              "509766              Jobcv314   \n",
              "531255            The_Leedle   \n",
              "578745                Nessie   \n",
              "582988           Ziffelbrixx   \n",
              "587198             SodokuIRL   \n",
              "616317  iloveyoujesuschriist   \n",
              "634685                 MrOxi   \n",
              "635051       TheCavalierLads   \n",
              "638355   RealityIsMyReligion   \n",
              "638916           curbstickle   \n",
              "653324               Thief39   \n",
              "653687         dont_wear_a_C   \n",
              "654055              FieldDay   \n",
              "711972              waldo686   \n",
              "739776           insanePower   \n",
              "750918           PoochDoobie   \n",
              "753557               Dalmazz   \n",
              "778552      wedontlikespaces   \n",
              "787209         Untoldstory55   \n",
              "\n",
              "                                                 Comments  \\\n",
              "8917                                                  NaN   \n",
              "9396                                                  NaN   \n",
              "9469                                                  NaN   \n",
              "39976                                                 NaN   \n",
              "41499    Said the bruised ego.,Pretending to be an idi...   \n",
              "56037   Going on about they lives...that's an opinion ...   \n",
              "84428                                                 NaN   \n",
              "88537                                                 NaN   \n",
              "104232  But it's wint... *falls over leg* DAMN IT!,*st...   \n",
              "127616                                                NaN   \n",
              "134668  I don't care how loud your screams are; you're...   \n",
              "161395  You're nice; but the reason I don't want to da...   \n",
              "162258  DLC 5 has been announced as a PS4 exclusive,De...   \n",
              "172361                                                NaN   \n",
              "175541  This new Shugesh form will have its own rarity...   \n",
              "207469                                                NaN   \n",
              "231580                                                NaN   \n",
              "278199  It will be better when it's one lane each way ...   \n",
              "285272  I cant believe Team: goalie with a bridge cont...   \n",
              "289901                                                NaN   \n",
              "293003  It's ok if I do it; it's those other people yo...   \n",
              "312887                                                NaN   \n",
              "334963                                                NaN   \n",
              "348402                                                NaN   \n",
              "349834                                                NaN   \n",
              "364333                                                NaN   \n",
              "364928                                                NaN   \n",
              "365270  could've,They could of played 3 bad teams in t...   \n",
              "366544                                                NaN   \n",
              "367749  We were just outside Barstow; on the edge of t...   \n",
              "379882  $10;000 cheap,Cheap V-8 Turbo Build! LS-Turbo ...   \n",
              "401222                                                NaN   \n",
              "410604  give everyone the power to share anything with...   \n",
              "414019                                                NaN   \n",
              "421408                                                NaN   \n",
              "442200                                                 []   \n",
              "450895                                                NaN   \n",
              "487177                                                NaN   \n",
              "491552                                                NaN   \n",
              "507437                                                NaN   \n",
              "509766  Oh; sorry your honor; I thought the law was *o...   \n",
              "531255  But EDM isn't music; it's just sounds *because...   \n",
              "578745                                                NaN   \n",
              "582988                                                NaN   \n",
              "587198                                                NaN   \n",
              "616317  Lend-Lease aid did not arrive in sufficient qu...   \n",
              "634685                                                NaN   \n",
              "635051                                                NaN   \n",
              "638355                                                NaN   \n",
              "638916                                                NaN   \n",
              "653324  Something like that',Great minds think alike. ...   \n",
              "653687                                                NaN   \n",
              "654055                                                NaN   \n",
              "711972  I don't think we; as law enforcement; can supp...   \n",
              "739776                                                NaN   \n",
              "750918                                                NaN   \n",
              "753557                                                NaN   \n",
              "778552                                                NaN   \n",
              "787209                                                NaN   \n",
              "\n",
              "                                          Parent Comments  Class Labels   \n",
              "8917    Because we have chosen them as sources of mind...      sarcastic  \n",
              "9396                                        woah; thanks.  non-sarcastic  \n",
              "9469    I am just shocked an upstanding group like thi...      sarcastic  \n",
              "39976   Bebe is a beautiful &amp; wonderfully gifted f...      sarcastic  \n",
              "41499                                       non-sarcastic            NaN  \n",
              "56037                                       non-sarcastic            NaN  \n",
              "84428                                   thanks Democrats.      sarcastic  \n",
              "88537                               Lol you didn't got it      sarcastic  \n",
              "104232                                          sarcastic            NaN  \n",
              "127616  Droids are just objectively better. Doesn't ta...      sarcastic  \n",
              "134668                                      non-sarcastic            NaN  \n",
              "161395                                      non-sarcastic            NaN  \n",
              "162258                                      non-sarcastic            NaN  \n",
              "172361   We need a sarcasm font. Or perhaps I'm a retard.      sarcastic  \n",
              "175541                                      non-sarcastic            NaN  \n",
              "207469                                 Will do. EU or NA?  non-sarcastic  \n",
              "231580             Yes; using game features is an exploit      sarcastic  \n",
              "278199                                          sarcastic            NaN  \n",
              "285272                                          sarcastic            NaN  \n",
              "289901                                 House \"of\" Commons  non-sarcastic  \n",
              "293003                                          sarcastic            NaN  \n",
              "312887  SERIOUSLY?! THIS IS THE FREE ITEM I GOT FOR PL...      sarcastic  \n",
              "334963  Are you proposing that the stock market should...      sarcastic  \n",
              "348402       Doesn't matter if that experience is garbage      sarcastic  \n",
              "349834    Uh; what about that looks like a ghetto to you?      sarcastic  \n",
              "364333                                         No kidding      sarcastic  \n",
              "364928                           Your favourite lol joke?      sarcastic  \n",
              "365270                                      non-sarcastic            NaN  \n",
              "366544   And thus an universal sarcasm indicator is born.      sarcastic  \n",
              "367749                                          sarcastic            NaN  \n",
              "379882                                      non-sarcastic            NaN  \n",
              "401222                                    Nah; that's Tux      sarcastic  \n",
              "410604                                      non-sarcastic            NaN  \n",
              "414019  Even if she is under 18 it isn't pornography. ...      sarcastic  \n",
              "421408       Because with the newer cell it looks stupid?      sarcastic  \n",
              "442200                                                NaN      sarcastic  \n",
              "450895  Valiant sir stands up against the console dron...      sarcastic  \n",
              "487177                                         integrity?      sarcastic  \n",
              "491552  There probably won't be master chief Might be ...      sarcastic  \n",
              "507437        very true; not all girls like the \"bad boy\"      sarcastic  \n",
              "509766                                      non-sarcastic            NaN  \n",
              "531255                                          sarcastic            NaN  \n",
              "578745  I cant tell if this is sarcasm or not; but so ...      sarcastic  \n",
              "582988  Kinda wish the article showed the bridges on t...  non-sarcastic  \n",
              "587198  LPL shitshow; EU LCS shitshow. What isn't a sh...      sarcastic  \n",
              "616317                                          sarcastic            NaN  \n",
              "634685  Make sure he doesn't overdose! Too many people...      sarcastic  \n",
              "635051  But then no one sees how many active friends y...      sarcastic  \n",
              "638355  Pharmacists of Reddit; how much do you judge p...  non-sarcastic  \n",
              "638916  if only there was a way to convey sarcasm thro...      sarcastic  \n",
              "653324                                          sarcastic            NaN  \n",
              "653687  Thu 2016-08-04 accessing vault............unlo...  non-sarcastic  \n",
              "654055                               Fuck you too; buddy.  non-sarcastic  \n",
              "711972                                          sarcastic            NaN  \n",
              "739776  jiji still shitstomps solo q against NALCS mid...  non-sarcastic  \n",
              "750918  lol I can't believe that your cat slept throug...      sarcastic  \n",
              "753557                                       Best region?      sarcastic  \n",
              "778552                          What symbol denotes suck?      sarcastic  \n",
              "787209  If only it was that simple; but one fix may im...      sarcastic  "
            ]
          },
          "execution_count": 6,
          "metadata": {},
          "output_type": "execute_result"
        }
      ],
      "source": [
        "df1"
      ]
    },
    {
      "cell_type": "code",
      "execution_count": 7,
      "metadata": {
        "id": "dHu7ilBxAl0i"
      },
      "outputs": [],
      "source": [
        "df5= train_df.dropna()"
      ]
    },
    {
      "cell_type": "code",
      "execution_count": 8,
      "metadata": {
        "id": "6kWDOg6cCLtD"
      },
      "outputs": [
        {
          "name": "stderr",
          "output_type": "stream",
          "text": [
            "/tmp/ipykernel_3767946/4288661854.py:1: SettingWithCopyWarning: \n",
            "A value is trying to be set on a copy of a slice from a DataFrame\n",
            "\n",
            "See the caveats in the documentation: https://pandas.pydata.org/pandas-docs/stable/user_guide/indexing.html#returning-a-view-versus-a-copy\n",
            "  df5.rename(columns = {' Class Labels ':'label'}, inplace = True)\n"
          ]
        }
      ],
      "source": [
        "df5.rename(columns = {' Class Labels ':'label'}, inplace = True)"
      ]
    },
    {
      "cell_type": "code",
      "execution_count": 9,
      "metadata": {
        "id": "KpWM6NYqBFuW"
      },
      "outputs": [
        {
          "name": "stderr",
          "output_type": "stream",
          "text": [
            "/tmp/ipykernel_3767946/864785083.py:1: SettingWithCopyWarning: \n",
            "A value is trying to be set on a copy of a slice from a DataFrame\n",
            "\n",
            "See the caveats in the documentation: https://pandas.pydata.org/pandas-docs/stable/user_guide/indexing.html#returning-a-view-versus-a-copy\n",
            "  df5['label'].replace(['non-sarcastic','sarcastic'],[1,0], inplace = True)\n"
          ]
        }
      ],
      "source": [
        "df5['label'].replace(['non-sarcastic','sarcastic'],[1,0], inplace = True)"
      ]
    },
    {
      "cell_type": "code",
      "execution_count": 10,
      "metadata": {
        "colab": {
          "base_uri": "https://localhost:8080/",
          "height": 206
        },
        "id": "bumL72PcDAht",
        "outputId": "dc48720b-00dd-4b03-b081-6d6af75b30b3"
      },
      "outputs": [
        {
          "data": {
            "text/html": [
              "<div>\n",
              "<style scoped>\n",
              "    .dataframe tbody tr th:only-of-type {\n",
              "        vertical-align: middle;\n",
              "    }\n",
              "\n",
              "    .dataframe tbody tr th {\n",
              "        vertical-align: top;\n",
              "    }\n",
              "\n",
              "    .dataframe thead th {\n",
              "        text-align: right;\n",
              "    }\n",
              "</style>\n",
              "<table border=\"1\" class=\"dataframe\">\n",
              "  <thead>\n",
              "    <tr style=\"text-align: right;\">\n",
              "      <th></th>\n",
              "      <th>ID</th>\n",
              "      <th>Comments</th>\n",
              "      <th>Parent Comments</th>\n",
              "      <th>label</th>\n",
              "    </tr>\n",
              "  </thead>\n",
              "  <tbody>\n",
              "    <tr>\n",
              "      <th>0</th>\n",
              "      <td>ocxtitan</td>\n",
              "      <td>Central Illinois</td>\n",
              "      <td>Jesus; where do you live?</td>\n",
              "      <td>1</td>\n",
              "    </tr>\n",
              "    <tr>\n",
              "      <th>1</th>\n",
              "      <td>LeChuckly</td>\n",
              "      <td>To think - CNN used to be the acronym synonymo...</td>\n",
              "      <td>Even The CNN Staff Is Sick Of The Wall-To-Wall...</td>\n",
              "      <td>1</td>\n",
              "    </tr>\n",
              "    <tr>\n",
              "      <th>2</th>\n",
              "      <td>throwitskrub8</td>\n",
              "      <td>But then again; you have to consider that all ...</td>\n",
              "      <td>agree to that part.It can also mean that gujra...</td>\n",
              "      <td>1</td>\n",
              "    </tr>\n",
              "    <tr>\n",
              "      <th>3</th>\n",
              "      <td>fresherthanyouuu</td>\n",
              "      <td>ughhhhh</td>\n",
              "      <td>If a guy told you he doesn't use social media ...</td>\n",
              "      <td>1</td>\n",
              "    </tr>\n",
              "    <tr>\n",
              "      <th>4</th>\n",
              "      <td>_kushagra</td>\n",
              "      <td>I should've put the</td>\n",
              "      <td>No; it's just a programming bug. After all; th...</td>\n",
              "      <td>0</td>\n",
              "    </tr>\n",
              "  </tbody>\n",
              "</table>\n",
              "</div>"
            ],
            "text/plain": [
              "                 ID                                           Comments  \\\n",
              "0          ocxtitan                                   Central Illinois   \n",
              "1         LeChuckly  To think - CNN used to be the acronym synonymo...   \n",
              "2     throwitskrub8  But then again; you have to consider that all ...   \n",
              "3  fresherthanyouuu                                            ughhhhh   \n",
              "4         _kushagra                                I should've put the   \n",
              "\n",
              "                                     Parent Comments  label  \n",
              "0                          Jesus; where do you live?      1  \n",
              "1  Even The CNN Staff Is Sick Of The Wall-To-Wall...      1  \n",
              "2  agree to that part.It can also mean that gujra...      1  \n",
              "3  If a guy told you he doesn't use social media ...      1  \n",
              "4  No; it's just a programming bug. After all; th...      0  "
            ]
          },
          "execution_count": 10,
          "metadata": {},
          "output_type": "execute_result"
        }
      ],
      "source": [
        "df5.head()"
      ]
    },
    {
      "cell_type": "code",
      "execution_count": 11,
      "metadata": {
        "colab": {
          "base_uri": "https://localhost:8080/"
        },
        "id": "Iv4UuycbUYgL",
        "outputId": "8cb2f14d-0750-4d72-b357-fe855c740f62"
      },
      "outputs": [
        {
          "name": "stdout",
          "output_type": "stream",
          "text": [
            "<class 'pandas.core.frame.DataFrame'>\n",
            "Int64Index: 808031 entries, 0 to 808089\n",
            "Data columns (total 4 columns):\n",
            " #   Column           Non-Null Count   Dtype \n",
            "---  ------           --------------   ----- \n",
            " 0   ID               808031 non-null  object\n",
            " 1   Comments         808031 non-null  object\n",
            " 2   Parent Comments  808031 non-null  object\n",
            " 3   label            808031 non-null  int64 \n",
            "dtypes: int64(1), object(3)\n",
            "memory usage: 30.8+ MB\n"
          ]
        }
      ],
      "source": [
        "df5.info()"
      ]
    },
    {
      "cell_type": "markdown",
      "metadata": {
        "id": "8yFX6sseGms9"
      },
      "source": [
        "**Exploratory Data Analysis**"
      ]
    },
    {
      "cell_type": "code",
      "execution_count": 12,
      "metadata": {
        "colab": {
          "base_uri": "https://localhost:8080/"
        },
        "id": "jB7HGEorDcvH",
        "outputId": "8409445b-f751-4a81-cb78-f2220d43e05f"
      },
      "outputs": [
        {
          "data": {
            "text/plain": [
              "0    404020\n",
              "1    404011\n",
              "Name: label, dtype: int64"
            ]
          },
          "execution_count": 12,
          "metadata": {},
          "output_type": "execute_result"
        }
      ],
      "source": [
        "# to check number of sarcastic and non-sarcastic comments\n",
        "df5['label'].value_counts()"
      ]
    },
    {
      "cell_type": "markdown",
      "metadata": {
        "id": "uylIXRBuBEdt"
      },
      "source": [
        "Almost equal number of sarcastic and non-sarcastic comments."
      ]
    },
    {
      "cell_type": "code",
      "execution_count": 13,
      "metadata": {
        "colab": {
          "base_uri": "https://localhost:8080/"
        },
        "id": "yRYnQalNFYU4",
        "outputId": "1a97f4bf-1365-480f-d030-a864071ae966"
      },
      "outputs": [
        {
          "name": "stdout",
          "output_type": "stream",
          "text": [
            "0    0.500006\n",
            "1    0.499994\n",
            "Name: label, dtype: float64\n"
          ]
        }
      ],
      "source": [
        "print(df5['label'].value_counts()/len(df5))"
      ]
    },
    {
      "cell_type": "code",
      "execution_count": 14,
      "metadata": {
        "colab": {
          "base_uri": "https://localhost:8080/",
          "height": 350
        },
        "id": "B_pE94BtBSuP",
        "outputId": "2bdb5535-3d8d-4fca-9597-7e711512739c"
      },
      "outputs": [
        {
          "data": {
            "image/png": "[encoded data removed]",
            "text/plain": [
              "<Figure size 500x500 with 1 Axes>"
            ]
          },
          "metadata": {},
          "output_type": "display_data"
        }
      ],
      "source": [
        "plt.figure(figsize=(5,5))\n",
        "ax = sns.countplot(x='label',  data= df5)\n",
        "ax.set(title = \"Distribution of Classes\", xlabel=\"Sarcasm Status\", ylabel = \"Total Count\")\n",
        "total = float(len(train_df))\n",
        "for p in ax.patches:\n",
        "    height = p.get_height()\n",
        "    ax.text(p.get_x()+p.get_width()/2.,\n",
        "            height + 3,\n",
        "            '{:1.1f}%'.format((height/total)*100),\n",
        "            ha=\"center\") \n",
        "plt.show()"
      ]
    },
    {
      "cell_type": "code",
      "execution_count": 15,
      "metadata": {
        "colab": {
          "base_uri": "https://localhost:8080/",
          "height": 281
        },
        "id": "hO5UX2J10MMb",
        "outputId": "d33ec26d-d223-4a3b-c602-17e2201577ea"
      },
      "outputs": [
        {
          "data": {
            "image/png": "[encoded data removed]",
            "text/plain": [
              "<Figure size 640x480 with 1 Axes>"
            ]
          },
          "metadata": {},
          "output_type": "display_data"
        }
      ],
      "source": [
        "# To check if there is any relation between the length of the comment and its label\n",
        "#train_df.loc[train_df,'Comments'].str.len().apply(np.log1p).hist(label='sarcastic,alpha=.5)\n",
        "df5.loc[df5['label']==1,'Comments'].str.len().apply(np.log1p).hist(label='sarcastic', alpha=.5)\n",
        "df5.loc[df5['label']==0,'Comments'].str.len().apply(np.log1p).hist(label='non-sarcastic', alpha=.5)\n",
        "plt.legend()\n",
        "plt.title('Natural Log Length of Comments')\n",
        "plt.show()"
      ]
    },
    {
      "cell_type": "markdown",
      "metadata": {
        "id": "_9o3RzVnd70t"
      },
      "source": [
        "Sarcastic comments are normally distributed in length. Non-sarcastic comments has a right-skew."
      ]
    },
    {
      "cell_type": "code",
      "execution_count": 16,
      "metadata": {
        "colab": {
          "base_uri": "https://localhost:8080/",
          "height": 386
        },
        "id": "wOkkCnR6B939",
        "outputId": "fd76ec42-f99d-4da9-f9cd-0d9affd76693"
      },
      "outputs": [
        {
          "name": "stderr",
          "output_type": "stream",
          "text": [
            "/tmp/ipykernel_3767946/2449768073.py:8: MatplotlibDeprecationWarning: The 'b' parameter of grid() has been renamed 'visible' since Matplotlib 3.5; support for the old name will be dropped two minor releases later.\n",
            "  plt.grid(b= False)\n"
          ]
        },
        {
          "data": {
            "image/png": "[encoded data removed]",
            "text/plain": [
              "<Figure size 1200x1200 with 1 Axes>"
            ]
          },
          "metadata": {},
          "output_type": "display_data"
        }
      ],
      "source": [
        "# Most common words in the sarcastic comments \n",
        "wordcloud = WordCloud(background_color='black', stopwords = STOPWORDS,\n",
        "                max_words = 200, max_font_size = 100, \n",
        "                random_state = 17, width=800, height=400)\n",
        "\n",
        "plt.figure(figsize=(12, 12))\n",
        "wordcloud.generate(str(df5.loc[df5['label'] == 1, 'Parent Comments']))\n",
        "plt.grid(b= False)\n",
        "plt.imshow(wordcloud);"
      ]
    },
    {
      "cell_type": "code",
      "execution_count": 17,
      "metadata": {
        "id": "G6sZoOaLCuDl"
      },
      "outputs": [],
      "source": [
        "# Comparing sarcastic comments with Parent comments\n",
        "sarcasm_comm_len = np.array(df5.loc[df5['label'] == 1]['Comments'].str.len())\n",
        "parent_comm_len = np.array(df5.loc[df5['label'] == 1]['Parent Comments'].str.len())\n",
        "ratio_len = np.array((df5.loc[df5['label'] == 1]['Comments'].str.len())/(df5.loc[df5['label'] == 1]['Parent Comments'].str.len()))"
      ]
    },
    {
      "cell_type": "code",
      "execution_count": 18,
      "metadata": {
        "id": "gRR1wNN9DIFw"
      },
      "outputs": [],
      "source": [
        "d = pd.DataFrame({'Comment Length': sarcasm_comm_len, 'Parent Comment Length': parent_comm_len, 'Ratio Length': ratio_len}, columns=['Comment Length', 'Parent Comment Length', 'Ratio Length'])"
      ]
    },
    {
      "cell_type": "code",
      "execution_count": 19,
      "metadata": {
        "colab": {
          "base_uri": "https://localhost:8080/",
          "height": 295
        },
        "id": "c8bNU05FDQeU",
        "outputId": "2ffca103-5cd7-4b6e-8916-762aaba0c5be"
      },
      "outputs": [
        {
          "data": {
            "image/png": "[encoded data removed]",
            "text/plain": [
              "<Figure size 640x480 with 1 Axes>"
            ]
          },
          "metadata": {},
          "output_type": "display_data"
        }
      ],
      "source": [
        "ax = plt.axes()\n",
        "sns.scatterplot(data=d, x=\"Comment Length\", y=\"Parent Comment Length\",  size=ratio_len)\n",
        "ax.set_title(\"Comparing Sarcastic Comment Length with Parent Comment\")\n",
        "# control x and y limits\n",
        "plt.ylim(0, 12000)\n",
        "plt.xlim(0, 800)\n",
        "plt.show()"
      ]
    },
    {
      "cell_type": "code",
      "execution_count": 26,
      "metadata": {
        "id": "I9Ks4VjwDoFp"
      },
      "outputs": [],
      "source": [
        "df5 = df5[:10000]"
      ]
    },
    {
      "cell_type": "code",
      "execution_count": 27,
      "metadata": {
        "id": "SF7pD1UxEPN_"
      },
      "outputs": [],
      "source": [
        "corpus = df5['Comments'].values.astype('U')"
      ]
    },
    {
      "cell_type": "code",
      "execution_count": 28,
      "metadata": {
        "colab": {
          "base_uri": "https://localhost:8080/"
        },
        "id": "vYUakysLvpYJ",
        "outputId": "dec8e1c3-185d-4902-ff3f-bee88e707b87"
      },
      "outputs": [
        {
          "data": {
            "text/plain": [
              "array(['Central Illinois',\n",
              "       'To think - CNN used to be the acronym synonymous with news.',\n",
              "       \"But then again; you have to consider that all husbands suspecting adultery don't or are simply can't afford to go for a paternity test.\",\n",
              "       ..., 'According to what sources',\n",
              "       'Wow you sure nailed it; we girls just love to gossip and anything related to reading; typing; roleplaying or using imagination is boy stuff!',\n",
              "       \"Both are restoring armor; can't they think of something new?\"],\n",
              "      dtype='<U821')"
            ]
          },
          "execution_count": 28,
          "metadata": {},
          "output_type": "execute_result"
        }
      ],
      "source": [
        "corpus"
      ]
    },
    {
      "cell_type": "markdown",
      "metadata": {
        "id": "WKBsY-OPAPJA"
      },
      "source": [
        "Tfidf vectorizer"
      ]
    },
    {
      "cell_type": "markdown",
      "metadata": {
        "id": "-Q8Azgz5y7oZ"
      },
      "source": [
        "Stop words removed"
      ]
    },
    {
      "cell_type": "code",
      "execution_count": 29,
      "metadata": {
        "colab": {
          "base_uri": "https://localhost:8080/"
        },
        "id": "miyEGChGu7lM",
        "outputId": "e9b89b68-c4cb-40d5-aeb1-4d9c44011d51"
      },
      "outputs": [],
      "source": [
        "\"\"\"Tfidf vectorizer\n",
        "\n",
        "Stop words removed\n",
        "\"\"\"\n",
        "\n",
        "#method=\"Binary\"\n",
        "\n",
        "\n",
        "\n",
        "#if method==\"Tfidf\":\n",
        "vectorizer = TfidfVectorizer(stop_words='english', ngram_range=(1,1))\n",
        "#elif method==\"Binary\":\n",
        "    #vectorizer = CountVectorizer(stop_words='english', ngram_range=(1,2), min_df=2)\n",
        "    \n",
        "#tfidf= TfidfVectorizer(stop_words='english', ngram_range=(1,1))\n",
        "\n",
        "X = vectorizer.fit_transform(corpus)\n",
        "#np.shape(X)"
      ]
    },
    {
      "cell_type": "code",
      "execution_count": 30,
      "metadata": {},
      "outputs": [
        {
          "data": {
            "text/plain": [
              "<10000x13173 sparse matrix of type '<class 'numpy.float64'>'\n",
              "\twith 49401 stored elements in Compressed Sparse Row format>"
            ]
          },
          "execution_count": 30,
          "metadata": {},
          "output_type": "execute_result"
        }
      ],
      "source": [
        "X"
      ]
    },
    {
      "cell_type": "code",
      "execution_count": 31,
      "metadata": {
        "id": "oNLdJXV83i_r"
      },
      "outputs": [],
      "source": [
        "labels = df5['label'].to_list()"
      ]
    },
    {
      "cell_type": "code",
      "execution_count": 32,
      "metadata": {
        "colab": {
          "base_uri": "https://localhost:8080/"
        },
        "id": "MWkkhY9Ww7N3",
        "outputId": "3b8f9ed3-ea78-460d-d14e-1222668376ac"
      },
      "outputs": [
        {
          "name": "stdout",
          "output_type": "stream",
          "text": [
            "       00  000  0035  00s   01   02   03   04   05   06  ...  zoolocks  \\\n",
            "0     0.0  0.0   0.0  0.0  0.0  0.0  0.0  0.0  0.0  0.0  ...       0.0   \n",
            "1     0.0  0.0   0.0  0.0  0.0  0.0  0.0  0.0  0.0  0.0  ...       0.0   \n",
            "2     0.0  0.0   0.0  0.0  0.0  0.0  0.0  0.0  0.0  0.0  ...       0.0   \n",
            "3     0.0  0.0   0.0  0.0  0.0  0.0  0.0  0.0  0.0  0.0  ...       0.0   \n",
            "4     0.0  0.0   0.0  0.0  0.0  0.0  0.0  0.0  0.0  0.0  ...       0.0   \n",
            "...   ...  ...   ...  ...  ...  ...  ...  ...  ...  ...  ...       ...   \n",
            "9995  0.0  0.0   0.0  0.0  0.0  0.0  0.0  0.0  0.0  0.0  ...       0.0   \n",
            "9996  0.0  0.0   0.0  0.0  0.0  0.0  0.0  0.0  0.0  0.0  ...       0.0   \n",
            "9997  0.0  0.0   0.0  0.0  0.0  0.0  0.0  0.0  0.0  0.0  ...       0.0   \n",
            "9998  0.0  0.0   0.0  0.0  0.0  0.0  0.0  0.0  0.0  0.0  ...       0.0   \n",
            "9999  0.0  0.0   0.0  0.0  0.0  0.0  0.0  0.0  0.0  0.0  ...       0.0   \n",
            "\n",
            "      zoomed  zooming  zooted  zoro  zou  zumba  zunino   zx  zxcvbnm  \n",
            "0        0.0      0.0     0.0   0.0  0.0    0.0     0.0  0.0      0.0  \n",
            "1        0.0      0.0     0.0   0.0  0.0    0.0     0.0  0.0      0.0  \n",
            "2        0.0      0.0     0.0   0.0  0.0    0.0     0.0  0.0      0.0  \n",
            "3        0.0      0.0     0.0   0.0  0.0    0.0     0.0  0.0      0.0  \n",
            "4        0.0      0.0     0.0   0.0  0.0    0.0     0.0  0.0      0.0  \n",
            "...      ...      ...     ...   ...  ...    ...     ...  ...      ...  \n",
            "9995     0.0      0.0     0.0   0.0  0.0    0.0     0.0  0.0      0.0  \n",
            "9996     0.0      0.0     0.0   0.0  0.0    0.0     0.0  0.0      0.0  \n",
            "9997     0.0      0.0     0.0   0.0  0.0    0.0     0.0  0.0      0.0  \n",
            "9998     0.0      0.0     0.0   0.0  0.0    0.0     0.0  0.0      0.0  \n",
            "9999     0.0      0.0     0.0   0.0  0.0    0.0     0.0  0.0      0.0  \n",
            "\n",
            "[10000 rows x 13173 columns]\n"
          ]
        },
        {
          "name": "stderr",
          "output_type": "stream",
          "text": [
            "/usr/local/lib/python3.10/dist-packages/sklearn/utils/deprecation.py:87: FutureWarning: Function get_feature_names is deprecated; get_feature_names is deprecated in 1.0 and will be removed in 1.2. Please use get_feature_names_out instead.\n",
            "  warnings.warn(msg, category=FutureWarning)\n"
          ]
        }
      ],
      "source": [
        "cv_dataframe=pd.DataFrame(X.toarray(),columns=vectorizer.get_feature_names())\n",
        "print(cv_dataframe)"
      ]
    },
    {
      "cell_type": "code",
      "execution_count": 27,
      "metadata": {
        "id": "B-h47HfR0x2J"
      },
      "outputs": [],
      "source": [
        "# bigram_vectorizer = CountVectorizer(ngram_range=(1, 2),token_pattern=r'\\b\\w+\\b', min_df=1).build_analyzer()"
      ]
    },
    {
      "cell_type": "code",
      "execution_count": 33,
      "metadata": {
        "id": "G4Yp5as412tE"
      },
      "outputs": [],
      "source": [
        "from sklearn.model_selection import train_test_split\n",
        "\n",
        "x_train, x_test, y_train, y_test = train_test_split(corpus, labels , test_size= 0.25, random_state=42)"
      ]
    },
    {
      "cell_type": "code",
      "execution_count": 54,
      "metadata": {
        "id": "jCm3sht904hT"
      },
      "outputs": [],
      "source": [
        "from sklearn.feature_extraction.text import TfidfTransformer"
      ]
    },
    {
      "cell_type": "code",
      "execution_count": 57,
      "metadata": {
        "id": "vMMdQu6m07ik"
      },
      "outputs": [],
      "source": [
        "parameters = {'solver': [ 'lbfgs', 'liblinear', 'saga'], 'verbose': [0, 1, 2]}\n",
        "\n",
        "# multinomial logistic regression a.k.a softmax classifier\n",
        "logit = LogisticRegression(random_state= 42)\n",
        "\n",
        "logit_classifier = GridSearchCV(logit, parameters, cv = 10, n_jobs= 4)\n",
        "\n",
        "# sklearn's pipeline\n",
        "tfidf_logit_pipeline = Pipeline([('vectorizer', vectorizer), \n",
        "('tfidf', TfidfTransformer(use_idf=True,smooth_idf=True)), ('logit_classifier', logit_classifier)])"
      ]
    },
    {
      "cell_type": "code",
      "execution_count": 58,
      "metadata": {},
      "outputs": [
        {
          "name": "stderr",
          "output_type": "stream",
          "text": [
            "[Parallel(n_jobs=1)]: Using backend SequentialBackend with 1 concurrent workers.\n",
            " This problem is unconstrained.\n"
          ]
        },
        {
          "name": "stdout",
          "output_type": "stream",
          "text": [
            "RUNNING THE L-BFGS-B CODE\n",
            "\n",
            "           * * *\n",
            "\n",
            "Machine precision = 2.220D-16\n",
            " N =        11076     M =           10\n",
            "\n",
            "At X0         0 variables are exactly at the bounds\n",
            "\n",
            "At iterate    0    f=  4.67874D+03    |proj g|=  2.20066D+01\n"
          ]
        },
        {
          "name": "stderr",
          "output_type": "stream",
          "text": [
            "[Parallel(n_jobs=1)]: Using backend SequentialBackend with 1 concurrent workers.\n",
            " This problem is unconstrained.\n"
          ]
        },
        {
          "name": "stdout",
          "output_type": "stream",
          "text": [
            "RUNNING THE L-BFGS-B CODE\n",
            "\n",
            "           * * *\n",
            "\n",
            "Machine precision = 2.220D-16\n",
            " N =        11076     M =           10\n",
            "\n",
            "At X0         0 variables are exactly at the bounds\n",
            "\n",
            "At iterate    0    f=  4.67874D+03    |proj g|=  1.96812D+01\n",
            "\n",
            "           * * *\n",
            "\n",
            "Tit   = total number of iterations\n",
            "Tnf   = total number of function evaluations\n",
            "Tnint = total number of segments explored during Cauchy searches\n",
            "Skip  = number of BFGS updates skipped\n",
            "Nact  = number of active bounds at final generalized Cauchy point\n",
            "Projg = norm of the final projected gradient\n",
            "F     = final function value\n",
            "\n",
            "           * * *\n",
            "\n",
            "   N    Tit     Tnf  Tnint  Skip  Nact     Projg        F\n",
            "11076     27     29      1     0     0   2.178D-03   3.945D+03\n",
            "  F =   3944.6842050038208     \n",
            "\n",
            "CONVERGENCE: REL_REDUCTION_OF_F_<=_FACTR*EPSMCH             \n",
            "RUNNING THE L-BFGS-B CODE\n",
            "\n",
            "           * * *\n",
            "\n",
            "Machine precision = 2.220D-16\n",
            " N =        11076     M =           10\n",
            "\n",
            "At X0         0 variables are exactly at the bounds\n",
            "\n",
            "At iterate    0    f=  4.67874D+03    |proj g|=  1.97849D+01\n"
          ]
        },
        {
          "name": "stderr",
          "output_type": "stream",
          "text": [
            "[Parallel(n_jobs=1)]: Done   1 out of   1 | elapsed:    3.3s finished\n",
            "[Parallel(n_jobs=1)]: Using backend SequentialBackend with 1 concurrent workers.\n",
            " This problem is unconstrained.\n",
            "[Parallel(n_jobs=1)]: Using backend SequentialBackend with 1 concurrent workers.\n",
            " This problem is unconstrained.\n"
          ]
        },
        {
          "name": "stdout",
          "output_type": "stream",
          "text": [
            "RUNNING THE L-BFGS-B CODE\n",
            "\n",
            "           * * *\n",
            "\n",
            "Machine precision = 2.220D-16\n",
            " N =        11076     M =           10\n",
            "\n",
            "At X0         0 variables are exactly at the bounds\n",
            "\n",
            "At iterate    0    f=  4.67874D+03    |proj g|=  2.07950D+01\n",
            "\n",
            "           * * *\n",
            "\n",
            "Tit   = total number of iterations\n",
            "Tnf   = total number of function evaluations\n",
            "Tnint = total number of segments explored during Cauchy searches\n",
            "Skip  = number of BFGS updates skipped\n",
            "Nact  = number of active bounds at final generalized Cauchy point\n",
            "Projg = norm of the final projected gradient\n",
            "F     = final function value\n",
            "\n",
            "           * * *\n",
            "\n",
            "   N    Tit     Tnf  Tnint  Skip  Nact     Projg        F\n",
            "11076     48     57      1     0     0   4.443D-02   3.945D+03\n",
            "  F =   3945.3797312878819     \n",
            "\n",
            "CONVERGENCE: REL_REDUCTION_OF_F_<=_FACTR*EPSMCH             \n",
            "RUNNING THE L-BFGS-B CODE\n",
            "\n",
            "           * * *\n",
            "\n",
            "Machine precision = 2.220D-16\n",
            " N =        11076     M =           10\n",
            "\n",
            "At X0         0 variables are exactly at the bounds\n",
            "\n",
            "At iterate    0    f=  4.67874D+03    |proj g|=  2.10619D+01\n"
          ]
        },
        {
          "name": "stderr",
          "output_type": "stream",
          "text": [
            "[Parallel(n_jobs=1)]: Done   1 out of   1 | elapsed:    4.5s finished\n",
            "[Parallel(n_jobs=1)]: Using backend SequentialBackend with 1 concurrent workers.\n",
            " This problem is unconstrained.\n",
            "[Parallel(n_jobs=1)]: Using backend SequentialBackend with 1 concurrent workers.\n"
          ]
        },
        {
          "name": "stdout",
          "output_type": "stream",
          "text": [
            "RUNNING THE L-BFGS-B CODE\n",
            "\n",
            "           * * *\n",
            "\n",
            "Machine precision = 2.220D-16\n",
            " N =        11076     M =           10\n",
            "\n",
            "At X0         0 variables are exactly at the bounds\n",
            "\n",
            "At iterate    0    f=  4.67874D+03    |proj g|=  2.15891D+01\n"
          ]
        },
        {
          "name": "stderr",
          "output_type": "stream",
          "text": [
            " This problem is unconstrained.\n"
          ]
        },
        {
          "name": "stdout",
          "output_type": "stream",
          "text": [
            "\n",
            "At iterate   50    f=  3.94662D+03    |proj g|=  2.49346D-03\n",
            "\n",
            "           * * *\n",
            "\n",
            "Tit   = total number of iterations\n",
            "Tnf   = total number of function evaluations\n",
            "Tnint = total number of segments explored during Cauchy searches\n",
            "Skip  = number of BFGS updates skipped\n",
            "Nact  = number of active bounds at final generalized Cauchy point\n",
            "Projg = norm of the final projected gradient\n",
            "F     = final function value\n",
            "\n",
            "           * * *\n",
            "\n",
            "   N    Tit     Tnf  Tnint  Skip  Nact     Projg        F\n",
            "11076     50     55      1     0     0   2.493D-03   3.947D+03\n",
            "  F =   3946.6238047910010     \n",
            "\n",
            "CONVERGENCE: REL_REDUCTION_OF_F_<=_FACTR*EPSMCH             \n"
          ]
        },
        {
          "name": "stderr",
          "output_type": "stream",
          "text": [
            "[Parallel(n_jobs=1)]: Done   1 out of   1 | elapsed:    5.6s finished\n",
            "[Parallel(n_jobs=1)]: Using backend SequentialBackend with 1 concurrent workers.\n"
          ]
        },
        {
          "name": "stdout",
          "output_type": "stream",
          "text": [
            "RUNNING THE L-BFGS-B CODE\n",
            "\n",
            "           * * *\n",
            "\n",
            "Machine precision = 2.220D-16\n",
            " N =        11076     M =           10\n",
            "\n",
            "At X0         0 variables are exactly at the bounds\n",
            "\n",
            "At iterate    0    f=  4.67874D+03    |proj g|=  1.95696D+01\n"
          ]
        },
        {
          "name": "stderr",
          "output_type": "stream",
          "text": [
            " This problem is unconstrained.\n"
          ]
        },
        {
          "name": "stdout",
          "output_type": "stream",
          "text": [
            "\n",
            "           * * *\n",
            "\n",
            "Tit   = total number of iterations\n",
            "Tnf   = total number of function evaluations\n",
            "Tnint = total number of segments explored during Cauchy searches\n",
            "Skip  = number of BFGS updates skipped\n",
            "Nact  = number of active bounds at final generalized Cauchy point\n",
            "Projg = norm of the final projected gradient\n",
            "F     = final function value\n",
            "\n",
            "           * * *\n",
            "\n",
            "   N    Tit     Tnf  Tnint  Skip  Nact     Projg        F\n",
            "11076     32     38      1     0     0   3.157D-02   3.948D+03\n",
            "  F =   3948.1929947789904     \n",
            "\n",
            "CONVERGENCE: REL_REDUCTION_OF_F_<=_FACTR*EPSMCH             \n"
          ]
        },
        {
          "name": "stderr",
          "output_type": "stream",
          "text": [
            "[Parallel(n_jobs=1)]: Done   1 out of   1 | elapsed:    4.8s finished\n",
            "[Parallel(n_jobs=1)]: Using backend SequentialBackend with 1 concurrent workers.\n"
          ]
        },
        {
          "name": "stdout",
          "output_type": "stream",
          "text": [
            "RUNNING THE L-BFGS-B CODE\n",
            "\n",
            "           * * *\n",
            "\n",
            "Machine precision = 2.220D-16\n",
            " N =        11076     M =           10\n",
            "\n",
            "At X0         0 variables are exactly at the bounds\n",
            "\n",
            "At iterate    0    f=  4.67874D+03    |proj g|=  2.22876D+01\n"
          ]
        },
        {
          "name": "stderr",
          "output_type": "stream",
          "text": [
            " This problem is unconstrained.\n"
          ]
        },
        {
          "name": "stdout",
          "output_type": "stream",
          "text": [
            "\n",
            "           * * *\n",
            "\n",
            "Tit   = total number of iterations\n",
            "Tnf   = total number of function evaluations\n",
            "Tnint = total number of segments explored during Cauchy searches\n",
            "Skip  = number of BFGS updates skipped\n",
            "Nact  = number of active bounds at final generalized Cauchy point\n",
            "Projg = norm of the final projected gradient\n",
            "F     = final function value\n",
            "\n",
            "           * * *\n",
            "\n",
            "   N    Tit     Tnf  Tnint  Skip  Nact     Projg        F\n",
            "11076     33     37      1     0     0   8.011D-02   3.947D+03\n",
            "  F =   3946.5770176923143     \n",
            "\n",
            "CONVERGENCE: REL_REDUCTION_OF_F_<=_FACTR*EPSMCH             \n",
            "RUNNING THE L-BFGS-B CODE\n",
            "\n",
            "           * * *\n",
            "\n",
            "Machine precision = 2.220D-16\n",
            " N =        11076     M =           10\n",
            "\n",
            "At X0         0 variables are exactly at the bounds\n",
            "\n",
            "At iterate    0    f=  4.67874D+03    |proj g|=  2.11146D+01\n"
          ]
        },
        {
          "name": "stderr",
          "output_type": "stream",
          "text": [
            "[Parallel(n_jobs=1)]: Done   1 out of   1 | elapsed:    6.8s finished\n",
            "[Parallel(n_jobs=1)]: Using backend SequentialBackend with 1 concurrent workers.\n",
            " This problem is unconstrained.\n"
          ]
        },
        {
          "name": "stdout",
          "output_type": "stream",
          "text": [
            "\n",
            "           * * *\n",
            "\n",
            "Tit   = total number of iterations\n",
            "Tnf   = total number of function evaluations\n",
            "Tnint = total number of segments explored during Cauchy searches\n",
            "Skip  = number of BFGS updates skipped\n",
            "Nact  = number of active bounds at final generalized Cauchy point\n",
            "Projg = norm of the final projected gradient\n",
            "F     = final function value\n",
            "\n",
            "           * * *\n",
            "\n",
            "   N    Tit     Tnf  Tnint  Skip  Nact     Projg        F\n",
            "11076     36     42      1     0     0   5.347D-03   3.958D+03\n",
            "  F =   3958.1147471059317     \n",
            "\n",
            "CONVERGENCE: REL_REDUCTION_OF_F_<=_FACTR*EPSMCH             \n",
            "RUNNING THE L-BFGS-B CODE\n",
            "\n",
            "           * * *\n",
            "\n",
            "Machine precision = 2.220D-16\n",
            " N =        11076     M =           10\n",
            "\n",
            "At X0         0 variables are exactly at the bounds\n",
            "\n",
            "At iterate    0    f=  4.67874D+03    |proj g|=  1.99592D+01\n"
          ]
        },
        {
          "name": "stderr",
          "output_type": "stream",
          "text": [
            "[Parallel(n_jobs=1)]: Done   1 out of   1 | elapsed:    3.9s finished\n",
            "[Parallel(n_jobs=1)]: Using backend SequentialBackend with 1 concurrent workers.\n",
            " This problem is unconstrained.\n"
          ]
        },
        {
          "name": "stdout",
          "output_type": "stream",
          "text": [
            "\n",
            "           * * *\n",
            "\n",
            "Tit   = total number of iterations\n",
            "Tnf   = total number of function evaluations\n",
            "Tnint = total number of segments explored during Cauchy searches\n",
            "Skip  = number of BFGS updates skipped\n",
            "Nact  = number of active bounds at final generalized Cauchy point\n",
            "Projg = norm of the final projected gradient\n",
            "F     = final function value\n",
            "\n",
            "           * * *\n",
            "\n",
            "   N    Tit     Tnf  Tnint  Skip  Nact     Projg        F\n",
            "11076     37     42      1     0     0   2.871D-03   3.956D+03\n",
            "  F =   3955.5306906570268     \n",
            "\n",
            "CONVERGENCE: REL_REDUCTION_OF_F_<=_FACTR*EPSMCH             \n"
          ]
        },
        {
          "name": "stderr",
          "output_type": "stream",
          "text": [
            "[Parallel(n_jobs=1)]: Done   1 out of   1 | elapsed:    8.4s finished\n",
            "[Parallel(n_jobs=1)]: Using backend SequentialBackend with 1 concurrent workers.\n"
          ]
        },
        {
          "name": "stdout",
          "output_type": "stream",
          "text": [
            "RUNNING THE L-BFGS-B CODE\n",
            "\n",
            "           * * *\n",
            "\n",
            "Machine precision = 2.220D-16\n",
            " N =        11076     M =           10\n",
            "\n",
            "At X0         0 variables are exactly at the bounds\n",
            "\n",
            "At iterate    0    f=  4.67874D+03    |proj g|=  2.20066D+01\n",
            "\n",
            "At iterate    1    f=  4.63213D+03    |proj g|=  1.37886D+02\n",
            "\n",
            "At iterate    2    f=  4.41743D+03    |proj g|=  3.55168D+02\n",
            "\n",
            "At iterate    3    f=  4.12979D+03    |proj g|=  4.95883D+01\n"
          ]
        },
        {
          "name": "stderr",
          "output_type": "stream",
          "text": [
            " This problem is unconstrained.\n"
          ]
        },
        {
          "name": "stdout",
          "output_type": "stream",
          "text": [
            "\n",
            "At iterate    4    f=  4.08684D+03    |proj g|=  1.11463D+01\n",
            "\n",
            "At iterate    5    f=  4.07055D+03    |proj g|=  1.12047D+01\n",
            "\n",
            "At iterate    6    f=  4.05473D+03    |proj g|=  1.93219D+02\n",
            "\n",
            "At iterate    7    f=  3.98095D+03    |proj g|=  8.93533D+01\n",
            "\n",
            "At iterate    8    f=  3.95887D+03    |proj g|=  2.75060D+01\n",
            "\n",
            "At iterate    9    f=  3.95473D+03    |proj g|=  3.46999D+00\n",
            "\n",
            "At iterate   10    f=  3.95387D+03    |proj g|=  3.25330D+00\n",
            "\n",
            "At iterate   11    f=  3.94757D+03    |proj g|=  7.00728D+00\n",
            "\n",
            "At iterate   12    f=  3.94534D+03    |proj g|=  1.21043D+00\n",
            "\n",
            "At iterate   50    f=  3.95764D+03    |proj g|=  5.35285D-02\n",
            "\n",
            "           * * *\n",
            "\n",
            "Tit   = total number of iterations\n",
            "Tnf   = total number of function evaluations\n",
            "Tnint = total number of segments explored during Cauchy searches\n",
            "Skip  = number of BFGS updates skipped\n",
            "Nact  = number of active bounds at final generalized Cauchy point\n",
            "Projg = norm of the final projected gradient\n",
            "F     = final function value\n",
            "\n",
            "           * * *\n",
            "\n",
            "   N    Tit     Tnf  Tnint  Skip  Nact     Projg        F\n",
            "11076     50     58      1     0     0   5.353D-02   3.958D+03\n",
            "  F =   3957.6415867179931     \n",
            "\n",
            "CONVERGENCE: REL_REDUCTION_OF_F_<=_FACTR*EPSMCH             \n",
            "\n",
            "At iterate   13    f=  3.94509D+03    |proj g|=  6.49172D-01\n",
            "RUNNING THE L-BFGS-B CODE\n",
            "\n",
            "           * * *\n",
            "\n",
            "Machine precision = 2.220D-16\n",
            " N =        11076     M =           10\n",
            "\n",
            "At X0         0 variables are exactly at the bounds\n",
            "\n",
            "At iterate    0    f=  4.67874D+03    |proj g|=  1.96812D+01\n"
          ]
        },
        {
          "name": "stderr",
          "output_type": "stream",
          "text": [
            "[Parallel(n_jobs=1)]: Done   1 out of   1 | elapsed:    4.6s finished\n",
            "[Parallel(n_jobs=1)]: Using backend SequentialBackend with 1 concurrent workers.\n",
            " This problem is unconstrained.\n"
          ]
        },
        {
          "name": "stdout",
          "output_type": "stream",
          "text": [
            "\n",
            "At iterate    1    f=  4.63273D+03    |proj g|=  1.40926D+02\n",
            "\n",
            "At iterate   14    f=  3.94482D+03    |proj g|=  6.30607D-01\n",
            "\n",
            "At iterate    2    f=  4.42398D+03    |proj g|=  3.71159D+02\n",
            "\n",
            "At iterate    3    f=  4.12996D+03    |proj g|=  1.38719D+02\n",
            "\n",
            "At iterate    4    f=  4.08014D+03    |proj g|=  1.31581D+01\n",
            "\n",
            "           * * *\n",
            "\n",
            "Tit   = total number of iterations\n",
            "Tnf   = total number of function evaluations\n",
            "Tnint = total number of segments explored during Cauchy searches\n",
            "Skip  = number of BFGS updates skipped\n",
            "Nact  = number of active bounds at final generalized Cauchy point\n",
            "Projg = norm of the final projected gradient\n",
            "F     = final function value\n",
            "\n",
            "           * * *\n",
            "\n",
            "   N    Tit     Tnf  Tnint  Skip  Nact     Projg        F\n",
            "11076     24     27      1     0     0   6.660D-02   3.950D+03\n",
            "  F =   3949.5575080390627     \n",
            "\n",
            "CONVERGENCE: REL_REDUCTION_OF_F_<=_FACTR*EPSMCH             \n",
            "\n",
            "At iterate   15    f=  3.94469D+03    |proj g|=  1.31062D+00\n",
            "RUNNING THE L-BFGS-B CODE\n",
            "\n",
            "At iterate    5    f=  4.07682D+03    |proj g|=  1.12139D+01\n",
            "\n",
            "           * * *\n",
            "\n",
            "Machine precision = 2.220D-16\n",
            " N =        11076     M =           10\n",
            "\n",
            "At X0         0 variables are exactly at the bounds\n",
            "\n",
            "At iterate    0    f=  4.67874D+03    |proj g|=  1.97849D+01\n",
            "\n",
            "At iterate    1    f=  4.63273D+03    |proj g|=  1.39796D+02\n",
            "\n",
            "At iterate    6    f=  4.06903D+03    |proj g|=  1.44531D+01\n",
            "\n",
            "At iterate    2    f=  4.42187D+03    |proj g|=  3.70638D+02\n"
          ]
        },
        {
          "name": "stderr",
          "output_type": "stream",
          "text": [
            "[Parallel(n_jobs=1)]: Done   1 out of   1 | elapsed:    2.2s finished\n",
            "[Parallel(n_jobs=1)]: Using backend SequentialBackend with 1 concurrent workers.\n",
            " This problem is unconstrained.\n"
          ]
        },
        {
          "name": "stdout",
          "output_type": "stream",
          "text": [
            "\n",
            "At iterate    7    f=  4.03283D+03    |proj g|=  4.86454D+01\n",
            "\n",
            "At iterate    3    f=  4.12902D+03    |proj g|=  1.31571D+02\n",
            "\n",
            "At iterate   16    f=  3.94469D+03    |proj g|=  3.48484D-02\n",
            "\n",
            "At iterate    4    f=  4.08071D+03    |proj g|=  1.46283D+01\n",
            "\n",
            "At iterate    8    f=  3.99289D+03    |proj g|=  7.01257D+01\n",
            "\n",
            "At iterate    5    f=  4.07725D+03    |proj g|=  1.08789D+01\n",
            "\n",
            "At iterate    9    f=  3.96082D+03    |proj g|=  4.66721D+01\n",
            "\n",
            "At iterate    6    f=  4.06976D+03    |proj g|=  1.54148D+01\n",
            "\n",
            "At iterate   17    f=  3.94469D+03    |proj g|=  2.32043D-01\n",
            "\n",
            "At iterate   10    f=  3.95362D+03    |proj g|=  5.78722D+00\n",
            "\n",
            "At iterate    7    f=  4.04077D+03    |proj g|=  4.88089D+01\n",
            "\n",
            "At iterate    8    f=  4.00314D+03    |proj g|=  7.11714D+01\n",
            "\n",
            "At iterate   11    f=  3.95248D+03    |proj g|=  2.91955D+00\n",
            "\n",
            "At iterate   18    f=  3.94469D+03    |proj g|=  2.67144D-01\n",
            "\n",
            "At iterate   12    f=  3.95077D+03    |proj g|=  2.38913D+00\n",
            "\n",
            "At iterate   19    f=  3.94469D+03    |proj g|=  3.70992D-02\n",
            "\n",
            "At iterate    9    f=  3.96458D+03    |proj g|=  6.61470D+00\n",
            "\n",
            "At iterate   10    f=  3.95530D+03    |proj g|=  3.37379D+01\n",
            "\n",
            "At iterate   11    f=  3.95340D+03    |proj g|=  3.74596D+01\n",
            "\n",
            "At iterate   13    f=  3.94889D+03    |proj g|=  5.52489D+01\n",
            "\n",
            "At iterate   20    f=  3.94468D+03    |proj g|=  1.20044D-01\n",
            "\n",
            "At iterate   14    f=  3.94637D+03    |proj g|=  2.89398D+00\n",
            "\n",
            "At iterate   12    f=  3.95286D+03    |proj g|=  1.34952D+01\n",
            "\n",
            "At iterate   13    f=  3.95262D+03    |proj g|=  7.71085D+00\n",
            "\n",
            "At iterate   15    f=  3.94634D+03    |proj g|=  7.86724D-01\n",
            "\n",
            "At iterate   21    f=  3.94468D+03    |proj g|=  3.15677D-01\n",
            "\n",
            "At iterate   16    f=  3.94633D+03    |proj g|=  1.93736D+00\n",
            "\n",
            "At iterate   17    f=  3.94625D+03    |proj g|=  5.13539D+00\n",
            "\n",
            "At iterate   18    f=  3.94609D+03    |proj g|=  8.42823D+00\n",
            "\n",
            "At iterate   14    f=  3.95101D+03    |proj g|=  1.72643D+01\n",
            "\n",
            "At iterate   19    f=  3.94581D+03    |proj g|=  1.01994D+01\n",
            "\n",
            "At iterate   22    f=  3.94468D+03    |proj g|=  1.12327D-01\n",
            "\n",
            "At iterate   20    f=  3.94555D+03    |proj g|=  7.42669D+00\n",
            "\n",
            "At iterate   21    f=  3.94545D+03    |proj g|=  1.28067D+00\n",
            "\n",
            "At iterate   15    f=  3.94936D+03    |proj g|=  2.83091D+01\n",
            "\n",
            "At iterate   22    f=  3.94545D+03    |proj g|=  4.43209D-01\n",
            "\n",
            "At iterate   23    f=  3.94468D+03    |proj g|=  1.41989D-02\n",
            "\n",
            "\n",
            "At iterate   16    f=  3.94798D+03    |proj g|=  1.78033D+01\n",
            "At iterate   23    f=  3.94544D+03    |proj g|=  9.39757D-01\n",
            "\n",
            "At iterate   17    f=  3.94764D+03    |proj g|=  4.35964D+00\n",
            "\n",
            "At iterate   24    f=  3.94544D+03    |proj g|=  6.77827D-01\n",
            "\n",
            "At iterate   24    f=  3.94468D+03    |proj g|=  1.07015D-02\n",
            "\n",
            "At iterate   25    f=  3.94544D+03    |proj g|=  3.12593D+00\n",
            "\n",
            "At iterate   18    f=  3.94759D+03    |proj g|=  1.50176D+00\n",
            "\n",
            "At iterate   26    f=  3.94542D+03    |proj g|=  2.03086D+00\n",
            "\n",
            "At iterate   25    f=  3.94468D+03    |proj g|=  2.40593D-02\n",
            "\n",
            "At iterate   27    f=  3.94541D+03    |proj g|=  8.94302D-01\n",
            "\n",
            "At iterate   28    f=  3.94540D+03    |proj g|=  2.09510D-01\n",
            "\n",
            "At iterate   19    f=  3.94757D+03    |proj g|=  3.19924D+00\n",
            "\n",
            "At iterate   29    f=  3.94539D+03    |proj g|=  4.17170D-01\n",
            "\n",
            "At iterate   26    f=  3.94468D+03    |proj g|=  7.92333D-02\n",
            "\n",
            "At iterate   30    f=  3.94539D+03    |proj g|=  2.12374D-01\n",
            "\n",
            "At iterate   31    f=  3.94539D+03    |proj g|=  6.81208D-02\n",
            "\n",
            "At iterate   32    f=  3.94538D+03    |proj g|=  2.98425D-01\n",
            "\n",
            "At iterate   33    f=  3.94538D+03    |proj g|=  2.19981D-01\n",
            "\n",
            "At iterate   20    f=  3.94751D+03    |proj g|=  6.64252D+00\n",
            "\n",
            "At iterate   27    f=  3.94468D+03    |proj g|=  2.17783D-03\n",
            "\n",
            "           * * *\n",
            "\n",
            "Tit   = total number of iterations\n",
            "Tnf   = total number of function evaluations\n",
            "Tnint = total number of segments explored during Cauchy searches\n",
            "Skip  = number of BFGS updates skipped\n",
            "Nact  = number of active bounds at final generalized Cauchy point\n",
            "Projg = norm of the final projected gradient\n",
            "F     = final function value\n",
            "\n",
            "           * * *\n",
            "\n",
            "   N    Tit     Tnf  Tnint  Skip  Nact     Projg        F\n",
            "11076     27     29      1     0     0   2.178D-03   3.945D+03\n",
            "  F =   3944.6842050038208     \n",
            "\n",
            "CONVERGENCE: REL_REDUCTION_OF_F_<=_FACTR*EPSMCH             \n"
          ]
        },
        {
          "name": "stderr",
          "output_type": "stream",
          "text": [
            "[Parallel(n_jobs=1)]: Done   1 out of   1 | elapsed:    4.7s remaining:    0.0s\n",
            "[Parallel(n_jobs=1)]: Done   1 out of   1 | elapsed:    4.7s finished\n",
            "[Parallel(n_jobs=1)]: Using backend SequentialBackend with 1 concurrent workers.\n"
          ]
        },
        {
          "name": "stdout",
          "output_type": "stream",
          "text": [
            "\n",
            "At iterate   34    f=  3.94538D+03    |proj g|=  3.05186D-01\n",
            "\n",
            "At iterate   21    f=  3.94739D+03    |proj g|=  1.03557D+01\n",
            "\n",
            "At iterate   35    f=  3.94538D+03    |proj g|=  5.98116D-02\n",
            "\n",
            "At iterate   36    f=  3.94538D+03    |proj g|=  4.22201D-02\n",
            "RUNNING THE L-BFGS-B CODE\n",
            "\n",
            "           * * *\n",
            "\n",
            "Machine precision = 2.220D-16\n",
            " N =        11076     M =           10\n",
            "\n",
            "At X0         0 variables are exactly at the bounds\n",
            "\n",
            "At iterate    0    f=  4.67874D+03    |proj g|=  2.07950D+01\n",
            "\n",
            "At iterate   37    f=  3.94538D+03    |proj g|=  2.09552D-01\n"
          ]
        },
        {
          "name": "stderr",
          "output_type": "stream",
          "text": [
            " This problem is unconstrained.\n"
          ]
        },
        {
          "name": "stdout",
          "output_type": "stream",
          "text": [
            "\n",
            "At iterate    1    f=  4.63295D+03    |proj g|=  1.39757D+02\n",
            "\n",
            "At iterate   22    f=  3.94715D+03    |proj g|=  1.44808D+01\n",
            "\n",
            "At iterate   38    f=  3.94538D+03    |proj g|=  1.59809D-01\n",
            "\n",
            "At iterate    2    f=  4.42659D+03    |proj g|=  3.59337D+02\n",
            "\n",
            "At iterate   39    f=  3.94538D+03    |proj g|=  4.25243D-02\n",
            "\n",
            "At iterate    3    f=  4.14156D+03    |proj g|=  9.09080D+01\n",
            "\n",
            "At iterate   40    f=  3.94538D+03    |proj g|=  2.03397D-02\n",
            "\n",
            "At iterate   41    f=  3.94538D+03    |proj g|=  1.71448D-02\n",
            "\n",
            "At iterate    4    f=  4.09658D+03    |proj g|=  1.50951D+01\n",
            "\n",
            "At iterate   42    f=  3.94538D+03    |proj g|=  3.70635D-02\n",
            "\n",
            "At iterate   43    f=  3.94538D+03    |proj g|=  1.85171D-02\n",
            "\n",
            "At iterate   23    f=  3.94701D+03    |proj g|=  3.94228D+00\n",
            "\n",
            "At iterate   44    f=  3.94538D+03    |proj g|=  9.06504D-03\n",
            "\n",
            "At iterate    5    f=  4.09057D+03    |proj g|=  1.18258D+01\n",
            "\n",
            "At iterate   45    f=  3.94538D+03    |proj g|=  8.85258D-03\n",
            "\n",
            "At iterate    6    f=  4.07032D+03    |proj g|=  2.48719D+01\n",
            "\n",
            "At iterate   46    f=  3.94538D+03    |proj g|=  9.99767D-03\n",
            "\n",
            "At iterate   47    f=  3.94538D+03    |proj g|=  3.06029D-03\n",
            "\n",
            "At iterate   24    f=  3.94680D+03    |proj g|=  5.05751D+00\n",
            "\n",
            "At iterate   48    f=  3.94538D+03    |proj g|=  4.44312D-02\n",
            "\n",
            "           * * *\n",
            "\n",
            "Tit   = total number of iterations\n",
            "Tnf   = total number of function evaluations\n",
            "Tnint = total number of segments explored during Cauchy searches\n",
            "Skip  = number of BFGS updates skipped\n",
            "Nact  = number of active bounds at final generalized Cauchy point\n",
            "Projg = norm of the final projected gradient\n",
            "F     = final function value\n",
            "\n",
            "           * * *\n",
            "\n",
            "   N    Tit     Tnf  Tnint  Skip  Nact     Projg        F\n",
            "11076     48     57      1     0     0   4.443D-02   3.945D+03\n",
            "  F =   3945.3797312878819     \n",
            "\n",
            "CONVERGENCE: REL_REDUCTION_OF_F_<=_FACTR*EPSMCH             \n",
            "RUNNING THE L-BFGS-B CODE\n",
            "\n",
            "           * * *\n",
            "\n",
            "Machine precision = 2.220D-16\n",
            " N =        11076     M =           10\n",
            "\n",
            "At X0         0 variables are exactly at the bounds\n",
            "\n",
            "At iterate    0    f=  4.67874D+03    |proj g|=  2.10619D+01\n",
            "\n",
            "At iterate    7    f=  4.03550D+03    |proj g|=  4.54079D+01\n"
          ]
        },
        {
          "name": "stderr",
          "output_type": "stream",
          "text": [
            "[Parallel(n_jobs=1)]: Done   1 out of   1 | elapsed:    4.1s remaining:    0.0s\n",
            "[Parallel(n_jobs=1)]: Done   1 out of   1 | elapsed:    4.1s finished\n",
            "[Parallel(n_jobs=1)]: Using backend SequentialBackend with 1 concurrent workers.\n",
            " This problem is unconstrained.\n"
          ]
        },
        {
          "name": "stdout",
          "output_type": "stream",
          "text": [
            "\n",
            "At iterate    1    f=  4.63248D+03    |proj g|=  1.39335D+02\n",
            "\n",
            "At iterate    2    f=  4.42184D+03    |proj g|=  3.60517D+02\n",
            "\n",
            "At iterate    3    f=  4.13464D+03    |proj g|=  8.32432D+01\n",
            "\n",
            "At iterate    4    f=  4.09052D+03    |proj g|=  1.40949D+01\n",
            "\n",
            "At iterate    5    f=  4.08362D+03    |proj g|=  1.17693D+01\n",
            "\n",
            "At iterate    8    f=  3.98818D+03    |proj g|=  7.58162D+01\n",
            "\n",
            "           * * *\n",
            "\n",
            "Tit   = total number of iterations\n",
            "Tnf   = total number of function evaluations\n",
            "Tnint = total number of segments explored during Cauchy searches\n",
            "Skip  = number of BFGS updates skipped\n",
            "Nact  = number of active bounds at final generalized Cauchy point\n",
            "Projg = norm of the final projected gradient\n",
            "F     = final function value\n",
            "\n",
            "           * * *\n",
            "\n",
            "   N    Tit     Tnf  Tnint  Skip  Nact     Projg        F\n",
            "11076     31     36      1     0     0   1.629D-02   3.945D+03\n",
            "  F =   3944.7069829692182     \n",
            "\n",
            "CONVERGENCE: REL_REDUCTION_OF_F_<=_FACTR*EPSMCH             \n",
            "\n",
            "At iterate    6    f=  4.05642D+03    |proj g|=  2.82974D+01\n",
            "\n",
            "At iterate   25    f=  3.94674D+03    |proj g|=  3.81175D+00\n"
          ]
        },
        {
          "name": "stderr",
          "output_type": "stream",
          "text": [
            "[Parallel(n_jobs=1)]: Done   1 out of   1 | elapsed:    6.8s finished\n",
            "[Parallel(n_jobs=1)]: Using backend SequentialBackend with 1 concurrent workers.\n"
          ]
        },
        {
          "name": "stdout",
          "output_type": "stream",
          "text": [
            "\n",
            "At iterate    7    f=  4.01583D+03    |proj g|=  3.68554D+01\n",
            "\n",
            "At iterate    9    f=  3.97134D+03    |proj g|=  1.13990D+02\n",
            "RUNNING THE L-BFGS-B CODE\n",
            "\n",
            "           * * *\n",
            "\n",
            "Machine precision = 2.220D-16\n",
            " N =        11076     M =           10\n",
            "\n",
            "At X0         0 variables are exactly at the bounds\n",
            "\n",
            "At iterate    0    f=  4.67874D+03    |proj g|=  2.15891D+01\n",
            "\n",
            "At iterate    8    f=  3.99407D+03    |proj g|=  2.35582D+02\n",
            "\n",
            "At iterate    1    f=  4.63216D+03    |proj g|=  1.38497D+02\n",
            "\n",
            "At iterate    9    f=  3.96401D+03    |proj g|=  1.12731D+02\n"
          ]
        },
        {
          "name": "stderr",
          "output_type": "stream",
          "text": [
            " This problem is unconstrained.\n"
          ]
        },
        {
          "name": "stdout",
          "output_type": "stream",
          "text": [
            "\n",
            "At iterate    2    f=  4.41909D+03    |proj g|=  3.55355D+02\n",
            "\n",
            "At iterate   26    f=  3.94673D+03    |proj g|=  6.50134D-01\n",
            "\n",
            "At iterate   10    f=  3.95546D+03    |proj g|=  1.43795D+01\n",
            "\n",
            "At iterate    3    f=  4.13508D+03    |proj g|=  5.10709D+01\n",
            "\n",
            "At iterate   11    f=  3.95476D+03    |proj g|=  2.45292D+00\n",
            "\n",
            "At iterate   12    f=  3.95428D+03    |proj g|=  5.03088D+00\n",
            "\n",
            "At iterate   27    f=  3.94672D+03    |proj g|=  1.48961D+00\n",
            "\n",
            "At iterate    4    f=  4.09338D+03    |proj g|=  1.17344D+01\n",
            "\n",
            "\n",
            "At iterate    5    f=  4.07795D+03    |proj g|=  1.18310D+01\n",
            "At iterate   10    f=  3.96309D+03    |proj g|=  1.33671D+01\n",
            "\n",
            "At iterate    6    f=  4.05551D+03    |proj g|=  2.27784D+02\n",
            "\n",
            "At iterate   13    f=  3.95190D+03    |proj g|=  1.27682D+01\n",
            "\n",
            "At iterate   14    f=  3.94991D+03    |proj g|=  9.28132D+00\n",
            "\n",
            "At iterate   15    f=  3.94905D+03    |proj g|=  2.12652D+00\n",
            "\n",
            "At iterate    7    f=  3.98586D+03    |proj g|=  9.95194D+01\n",
            "\n",
            "At iterate   28    f=  3.94671D+03    |proj g|=  2.84219D+00\n",
            "\n",
            "At iterate   11    f=  3.96213D+03    |proj g|=  2.74758D+00\n",
            "\n",
            "At iterate    8    f=  3.96075D+03    |proj g|=  2.22178D+01\n",
            "\n",
            "At iterate   29    f=  3.94670D+03    |proj g|=  4.77801D+00\n",
            "\n",
            "At iterate   16    f=  3.94871D+03    |proj g|=  4.30765D+00\n",
            "\n",
            "At iterate   17    f=  3.94854D+03    |proj g|=  5.64482D+00\n",
            "\n",
            "At iterate   18    f=  3.94833D+03    |proj g|=  4.22488D+00\n",
            "\n",
            "At iterate   12    f=  3.96174D+03    |proj g|=  3.23845D+00\n",
            "\n",
            "At iterate    9    f=  3.95646D+03    |proj g|=  3.63847D+00\n",
            "\n",
            "At iterate   19    f=  3.94832D+03    |proj g|=  2.48448D-01\n",
            "\n",
            "At iterate   10    f=  3.95552D+03    |proj g|=  3.34534D+00\n",
            "\n",
            "At iterate   20    f=  3.94828D+03    |proj g|=  9.10623D-01\n",
            "\n",
            "At iterate   11    f=  3.95220D+03    |proj g|=  7.40378D+00\n",
            "\n",
            "At iterate   30    f=  3.94667D+03    |proj g|=  5.33744D+00\n",
            "\n",
            "At iterate   21    f=  3.94828D+03    |proj g|=  3.70290D-01\n",
            "\n",
            "At iterate   12    f=  3.94859D+03    |proj g|=  8.69711D+00\n",
            "\n",
            "At iterate   13    f=  3.95950D+03    |proj g|=  1.79231D+01\n",
            "\n",
            "At iterate   31    f=  3.94665D+03    |proj g|=  4.24853D+00\n",
            "\n",
            "At iterate   22    f=  3.94828D+03    |proj g|=  2.16685D-01\n",
            "\n",
            "At iterate   13    f=  3.94703D+03    |proj g|=  2.38075D+00\n",
            "\n",
            "At iterate   14    f=  3.95813D+03    |proj g|=  2.95198D+01\n",
            "\n",
            "At iterate   14    f=  3.94681D+03    |proj g|=  1.40485D+00\n",
            "\n",
            "At iterate   23    f=  3.94827D+03    |proj g|=  3.64208D-01\n",
            "\n",
            "At iterate   32    f=  3.94664D+03    |proj g|=  1.42541D+00\n",
            "\n",
            "At iterate   15    f=  3.95691D+03    |proj g|=  1.08717D+01\n",
            "\n",
            "At iterate   15    f=  3.94674D+03    |proj g|=  2.08486D+00\n",
            "\n",
            "At iterate   33    f=  3.94664D+03    |proj g|=  2.34258D-01\n",
            "\n",
            "At iterate   16    f=  3.94664D+03    |proj g|=  1.41459D+00\n",
            "\n",
            "At iterate   34    f=  3.94664D+03    |proj g|=  3.26492D-01\n",
            "\n",
            "At iterate   24    f=  3.94824D+03    |proj g|=  9.75206D-01\n",
            "\n",
            "At iterate   16    f=  3.95652D+03    |proj g|=  1.09315D+00\n",
            "\n",
            "At iterate   17    f=  3.94662D+03    |proj g|=  5.79713D+00\n",
            "\n",
            "At iterate   25    f=  3.94821D+03    |proj g|=  7.04626D-01\n",
            "\n",
            "At iterate   17    f=  3.95649D+03    |proj g|=  1.59612D+00\n",
            "\n",
            "At iterate   18    f=  3.94660D+03    |proj g|=  1.24913D-01\n",
            "\n",
            "At iterate   35    f=  3.94664D+03    |proj g|=  4.69525D-01\n",
            "\n",
            "At iterate   36    f=  3.94663D+03    |proj g|=  9.22437D-01\n",
            "\n",
            "At iterate   18    f=  3.95630D+03    |proj g|=  9.74633D-01\n",
            "\n",
            "At iterate   26    f=  3.94820D+03    |proj g|=  2.20618D-01\n",
            "\n",
            "At iterate   19    f=  3.94659D+03    |proj g|=  6.65893D-01\n",
            "\n",
            "\n",
            "At iterate   20    f=  3.94659D+03    |proj g|=  4.73828D-01\n",
            "At iterate   27    f=  3.94820D+03    |proj g|=  1.64860D-01\n",
            "\n",
            "At iterate   19    f=  3.95575D+03    |proj g|=  9.21509D+00\n",
            "\n",
            "At iterate   37    f=  3.94663D+03    |proj g|=  1.22206D+00\n",
            "\n",
            "At iterate   21    f=  3.94659D+03    |proj g|=  9.71767D-01\n",
            "\n",
            "At iterate   22    f=  3.94658D+03    |proj g|=  4.89699D-01\n",
            "\n",
            "At iterate   28    f=  3.94819D+03    |proj g|=  1.43541D-01\n",
            "\n",
            "At iterate   29    f=  3.94819D+03    |proj g|=  7.92548D-03\n",
            "\n",
            "At iterate   20    f=  3.95572D+03    |proj g|=  1.41944D+01\n",
            "\n",
            "At iterate   38    f=  3.94663D+03    |proj g|=  5.27855D-01\n",
            "\n",
            "At iterate   23    f=  3.94658D+03    |proj g|=  9.52217D-02\n",
            "\n",
            "At iterate   30    f=  3.94819D+03    |proj g|=  1.70448D-01\n",
            "\n",
            "At iterate   31    f=  3.94819D+03    |proj g|=  2.48923D-02\n",
            "\n",
            "At iterate   24    f=  3.94658D+03    |proj g|=  9.94783D-02\n",
            "\n",
            "At iterate   21    f=  3.95560D+03    |proj g|=  3.68473D-01\n",
            "\n",
            "At iterate   39    f=  3.94663D+03    |proj g|=  1.26655D+00\n",
            "\n",
            "At iterate   25    f=  3.94658D+03    |proj g|=  1.37395D-01\n",
            "\n",
            "At iterate   32    f=  3.94819D+03    |proj g|=  3.15692D-02\n",
            "\n",
            "           * * *\n",
            "\n",
            "Tit   = total number of iterations\n",
            "Tnf   = total number of function evaluations\n",
            "Tnint = total number of segments explored during Cauchy searches\n",
            "Skip  = number of BFGS updates skipped\n",
            "Nact  = number of active bounds at final generalized Cauchy point\n",
            "Projg = norm of the final projected gradient\n",
            "F     = final function value\n",
            "\n",
            "           * * *\n",
            "\n",
            "   N    Tit     Tnf  Tnint  Skip  Nact     Projg        F\n",
            "11076     32     38      1     0     0   3.157D-02   3.948D+03\n",
            "  F =   3948.1929947789904     \n",
            "\n",
            "CONVERGENCE: REL_REDUCTION_OF_F_<=_FACTR*EPSMCH             \n",
            "\n",
            "At iterate   26    f=  3.94658D+03    |proj g|=  2.89749D-01\n",
            "\n",
            "At iterate   22    f=  3.95559D+03    |proj g|=  1.88071D-01\n",
            "\n",
            "At iterate   40    f=  3.94663D+03    |proj g|=  2.59321D-01\n"
          ]
        },
        {
          "name": "stderr",
          "output_type": "stream",
          "text": [
            "[Parallel(n_jobs=1)]: Done   1 out of   1 | elapsed:    3.9s remaining:    0.0s\n",
            "[Parallel(n_jobs=1)]: Done   1 out of   1 | elapsed:    3.9s finished\n",
            "[Parallel(n_jobs=1)]: Using backend SequentialBackend with 1 concurrent workers.\n"
          ]
        },
        {
          "name": "stdout",
          "output_type": "stream",
          "text": [
            "\n",
            "At iterate   41    f=  3.94663D+03    |proj g|=  4.10297D-02\n",
            "RUNNING THE L-BFGS-B CODE\n",
            "\n",
            "           * * *\n",
            "\n",
            "Machine precision = 2.220D-16\n",
            " N =        11076     M =           10\n",
            "\n",
            "At X0         0 variables are exactly at the bounds\n",
            "\n",
            "At iterate    0    f=  4.67874D+03    |proj g|=  1.95696D+01\n",
            "\n",
            "At iterate    1    f=  4.63653D+03    |proj g|=  1.72774D+02\n",
            "\n",
            "At iterate   27    f=  3.94658D+03    |proj g|=  9.93033D-02\n",
            "\n",
            "At iterate    2    f=  4.49778D+03    |proj g|=  3.53455D+02\n"
          ]
        },
        {
          "name": "stderr",
          "output_type": "stream",
          "text": [
            " This problem is unconstrained.\n"
          ]
        },
        {
          "name": "stdout",
          "output_type": "stream",
          "text": [
            "\n",
            "At iterate   23    f=  3.95559D+03    |proj g|=  1.59636D-01\n",
            "\n",
            "At iterate   42    f=  3.94663D+03    |proj g|=  3.59402D-02\n",
            "\n",
            "At iterate   28    f=  3.94658D+03    |proj g|=  2.85672D-01\n",
            "\n",
            "At iterate    3    f=  4.19770D+03    |proj g|=  2.80676D+02\n",
            "\n",
            "At iterate    4    f=  4.13131D+03    |proj g|=  1.53768D+02\n",
            "\n",
            "At iterate    5    f=  4.08931D+03    |proj g|=  4.49268D+01\n",
            "\n",
            "At iterate   29    f=  3.94658D+03    |proj g|=  5.33791D-02\n",
            "\n",
            "At iterate   43    f=  3.94662D+03    |proj g|=  2.69453D-02\n",
            "\n",
            "At iterate   24    f=  3.95558D+03    |proj g|=  1.25665D+00\n",
            "\n",
            "At iterate    6    f=  4.08490D+03    |proj g|=  2.35648D+01\n",
            "\n",
            "At iterate    7    f=  4.07898D+03    |proj g|=  1.17132D+01\n",
            "\n",
            "At iterate   30    f=  3.94658D+03    |proj g|=  1.66690D-02\n",
            "\n",
            "At iterate   31    f=  3.94658D+03    |proj g|=  1.13014D-01\n",
            "\n",
            "\n",
            "At iterate   44    f=  3.94662D+03    |proj g|=  3.15697D-01\n",
            "At iterate    8    f=  4.04997D+03    |proj g|=  2.52636D+01\n",
            "\n",
            "At iterate   25    f=  3.95556D+03    |proj g|=  2.27945D-01\n",
            "\n",
            "At iterate   32    f=  3.94658D+03    |proj g|=  1.02009D-01\n",
            "\n",
            "At iterate    9    f=  4.01209D+03    |proj g|=  4.99724D+01\n",
            "\n",
            "At iterate   10    f=  3.97443D+03    |proj g|=  4.70518D+01\n",
            "\n",
            "At iterate   45    f=  3.94662D+03    |proj g|=  1.39080D-01\n",
            "\n",
            "At iterate   11    f=  3.96167D+03    |proj g|=  1.72962D+01\n",
            "\n",
            "At iterate   26    f=  3.95555D+03    |proj g|=  1.09032D+00\n",
            "\n",
            "At iterate   12    f=  3.95953D+03    |proj g|=  2.04869D+00\n",
            "\n",
            "At iterate   33    f=  3.94658D+03    |proj g|=  8.01083D-02\n",
            "\n",
            "           * * *\n",
            "\n",
            "Tit   = total number of iterations\n",
            "Tnf   = total number of function evaluations\n",
            "Tnint = total number of segments explored during Cauchy searches\n",
            "Skip  = number of BFGS updates skipped\n",
            "Nact  = number of active bounds at final generalized Cauchy point\n",
            "Projg = norm of the final projected gradient\n",
            "F     = final function value\n",
            "\n",
            "           * * *\n",
            "\n",
            "   N    Tit     Tnf  Tnint  Skip  Nact     Projg        F\n",
            "11076     33     37      1     0     0   8.011D-02   3.947D+03\n",
            "  F =   3946.5770176923143     \n",
            "\n",
            "CONVERGENCE: REL_REDUCTION_OF_F_<=_FACTR*EPSMCH             \n",
            "\n",
            "At iterate   13    f=  3.95928D+03    |proj g|=  7.09941D-01\n",
            "\n",
            "At iterate   46    f=  3.94662D+03    |proj g|=  6.68072D-02\n",
            "\n",
            "At iterate   14    f=  3.95901D+03    |proj g|=  1.04941D+00\n"
          ]
        },
        {
          "name": "stderr",
          "output_type": "stream",
          "text": [
            "[Parallel(n_jobs=1)]: Done   1 out of   1 | elapsed:    5.1s remaining:    0.0s\n",
            "[Parallel(n_jobs=1)]: Done   1 out of   1 | elapsed:    5.1s finished\n",
            "[Parallel(n_jobs=1)]: Using backend SequentialBackend with 1 concurrent workers.\n",
            " This problem is unconstrained.\n"
          ]
        },
        {
          "name": "stdout",
          "output_type": "stream",
          "text": [
            "\n",
            "At iterate   47    f=  3.94662D+03    |proj g|=  5.66443D-02\n",
            "RUNNING THE L-BFGS-B CODE\n",
            "\n",
            "           * * *\n",
            "\n",
            "Machine precision = 2.220D-16\n",
            " N =        11076     M =           10\n",
            "\n",
            "At X0         0 variables are exactly at the bounds\n",
            "\n",
            "At iterate    0    f=  4.67874D+03    |proj g|=  2.22876D+01\n",
            "\n",
            "At iterate   15    f=  3.95895D+03    |proj g|=  1.24953D+01\n",
            "\n",
            "At iterate   27    f=  3.95554D+03    |proj g|=  1.57855D+00\n",
            "\n",
            "At iterate   16    f=  3.95861D+03    |proj g|=  6.38742D+00\n",
            "\n",
            "At iterate    1    f=  4.63570D+03    |proj g|=  1.69659D+02\n",
            "\n",
            "At iterate    2    f=  4.49230D+03    |proj g|=  3.43872D+02\n",
            "\n",
            "At iterate    3    f=  4.19968D+03    |proj g|=  2.06480D+02\n",
            "\n",
            "At iterate   28    f=  3.95554D+03    |proj g|=  2.02572D-01\n",
            "\n",
            "At iterate    4    f=  4.10387D+03    |proj g|=  3.53113D+01\n",
            "\n",
            "At iterate    5    f=  4.09759D+03    |proj g|=  1.89862D+01\n",
            "\n",
            "At iterate   48    f=  3.94662D+03    |proj g|=  4.69531D-02\n",
            "\n",
            "At iterate   17    f=  3.95835D+03    |proj g|=  3.95670D-01\n",
            "\n",
            "At iterate    6    f=  4.08529D+03    |proj g|=  1.46684D+01\n",
            "\n",
            "At iterate    7    f=  4.00370D+03    |proj g|=  1.76491D+02\n",
            "\n",
            "At iterate   18    f=  3.95824D+03    |proj g|=  2.61404D+00\n",
            "\n",
            "At iterate   49    f=  3.94662D+03    |proj g|=  2.05931D-02\n",
            "\n",
            "At iterate    8    f=  3.97673D+03    |proj g|=  1.27952D+02\n",
            "\n",
            "At iterate   29    f=  3.95554D+03    |proj g|=  6.80582D-02\n",
            "\n",
            "At iterate   19    f=  3.95819D+03    |proj g|=  1.62139D+00\n",
            "\n",
            "At iterate    9    f=  3.96857D+03    |proj g|=  1.89445D+01\n",
            "\n",
            "At iterate   20    f=  3.95817D+03    |proj g|=  4.12091D-01\n",
            "\n",
            "At iterate   10    f=  3.96803D+03    |proj g|=  6.19791D+00\n",
            "\n",
            "At iterate   30    f=  3.95554D+03    |proj g|=  6.87255D-02\n",
            "\n",
            "At iterate   11    f=  3.96790D+03    |proj g|=  9.66515D+00\n",
            "\n",
            "At iterate   21    f=  3.95816D+03    |proj g|=  7.15942D-01\n",
            "\n",
            "At iterate   50    f=  3.94662D+03    |proj g|=  2.49346D-03\n",
            "\n",
            "           * * *\n",
            "\n",
            "Tit   = total number of iterations\n",
            "Tnf   = total number of function evaluations\n",
            "Tnint = total number of segments explored during Cauchy searches\n",
            "Skip  = number of BFGS updates skipped\n",
            "Nact  = number of active bounds at final generalized Cauchy point\n",
            "Projg = norm of the final projected gradient\n",
            "F     = final function value\n",
            "\n",
            "           * * *\n",
            "\n",
            "   N    Tit     Tnf  Tnint  Skip  Nact     Projg        F\n",
            "11076     50     55      1     0     0   2.493D-03   3.947D+03\n",
            "  F =   3946.6238047910010     \n",
            "\n",
            "CONVERGENCE: REL_REDUCTION_OF_F_<=_FACTR*EPSMCH             \n",
            "\n",
            "At iterate   12    f=  3.96727D+03    |proj g|=  1.68372D+01\n",
            "\n",
            "At iterate   31    f=  3.95553D+03    |proj g|=  1.07707D-01\n"
          ]
        },
        {
          "name": "stderr",
          "output_type": "stream",
          "text": [
            "[Parallel(n_jobs=1)]: Done   1 out of   1 | elapsed:   10.2s remaining:    0.0s\n",
            "[Parallel(n_jobs=1)]: Done   1 out of   1 | elapsed:   10.2s finished\n",
            "[Parallel(n_jobs=1)]: Using backend SequentialBackend with 1 concurrent workers.\n"
          ]
        },
        {
          "name": "stdout",
          "output_type": "stream",
          "text": [
            "\n",
            "At iterate   22    f=  3.95815D+03    |proj g|=  1.15393D+00\n",
            "\n",
            "At iterate   13    f=  3.96549D+03    |proj g|=  2.83741D+01\n",
            "RUNNING THE L-BFGS-B CODE\n",
            "\n",
            "           * * *\n",
            "\n",
            "Machine precision = 2.220D-16\n",
            " N =        11076     M =           10\n",
            "\n",
            "At X0         0 variables are exactly at the bounds\n",
            "\n",
            "At iterate    0    f=  4.67874D+03    |proj g|=  2.11146D+01\n",
            "\n",
            "At iterate   14    f=  3.96267D+03    |proj g|=  3.08283D+01\n",
            "\n",
            "At iterate   23    f=  3.95814D+03    |proj g|=  1.00138D+00\n",
            "\n",
            "At iterate   32    f=  3.95553D+03    |proj g|=  9.88394D-02\n"
          ]
        },
        {
          "name": "stderr",
          "output_type": "stream",
          "text": [
            " This problem is unconstrained.\n"
          ]
        },
        {
          "name": "stdout",
          "output_type": "stream",
          "text": [
            "\n",
            "At iterate   15    f=  3.96256D+03    |proj g|=  4.21876D+01\n",
            "\n",
            "At iterate    1    f=  4.63521D+03    |proj g|=  1.67983D+02\n",
            "\n",
            "At iterate   16    f=  3.95995D+03    |proj g|=  2.66651D+01\n",
            "\n",
            "At iterate    2    f=  4.48519D+03    |proj g|=  3.55572D+02\n",
            "\n",
            "At iterate    3    f=  4.18378D+03    |proj g|=  2.47059D+02\n",
            "\n",
            "At iterate   33    f=  3.95553D+03    |proj g|=  4.49436D-02\n",
            "\n",
            "At iterate   24    f=  3.95813D+03    |proj g|=  1.26889D+00\n",
            "\n",
            "At iterate   17    f=  3.95894D+03    |proj g|=  7.78210D+00\n",
            "\n",
            "At iterate   34    f=  3.95553D+03    |proj g|=  8.28929D-02\n",
            "\n",
            "At iterate    4    f=  4.09248D+03    |proj g|=  1.79428D+02\n",
            "\n",
            "At iterate   25    f=  3.95812D+03    |proj g|=  7.14843D-02\n",
            "\n",
            "At iterate    5    f=  4.07839D+03    |proj g|=  5.08759D+01\n",
            "\n",
            "At iterate   26    f=  3.95812D+03    |proj g|=  8.17047D-02\n",
            "\n",
            "At iterate    6    f=  4.07665D+03    |proj g|=  1.21588D+01\n",
            "\n",
            "At iterate    7    f=  4.07552D+03    |proj g|=  1.19798D+01\n",
            "\n",
            "At iterate   27    f=  3.95812D+03    |proj g|=  2.21672D-01\n",
            "\n",
            "At iterate   18    f=  3.95879D+03    |proj g|=  8.31340D-01\n",
            "\n",
            "At iterate    8    f=  4.06782D+03    |proj g|=  5.09630D+01\n",
            "\n",
            "At iterate   35    f=  3.95553D+03    |proj g|=  1.07785D-02\n",
            "\n",
            "At iterate   28    f=  3.95812D+03    |proj g|=  1.46701D-01\n",
            "\n",
            "At iterate    9    f=  4.05386D+03    |proj g|=  1.04908D+02\n",
            "\n",
            "At iterate   10    f=  4.02313D+03    |proj g|=  1.66742D+02\n",
            "\n",
            "At iterate   19    f=  3.95876D+03    |proj g|=  1.11352D+00\n",
            "\n",
            "At iterate   29    f=  3.95812D+03    |proj g|=  2.71324D-02\n",
            "\n",
            "At iterate   11    f=  3.98381D+03    |proj g|=  1.76038D+02\n",
            "\n",
            "At iterate   30    f=  3.95812D+03    |proj g|=  2.29219D-02\n",
            "\n",
            "At iterate   20    f=  3.95869D+03    |proj g|=  4.95424D+00\n",
            "\n",
            "At iterate   21    f=  3.95849D+03    |proj g|=  3.90290D+00\n",
            "\n",
            "\n",
            "At iterate   12    f=  3.95241D+03    |proj g|=  9.45337D+00\n",
            "At iterate   36    f=  3.95553D+03    |proj g|=  1.25595D-02\n",
            "\n",
            "At iterate   31    f=  3.95812D+03    |proj g|=  1.58966D-01\n",
            "\n",
            "At iterate   32    f=  3.95811D+03    |proj g|=  1.04555D-02\n",
            "\n",
            "At iterate   13    f=  3.94774D+03    |proj g|=  1.24122D+00\n",
            "\n",
            "At iterate   22    f=  3.95843D+03    |proj g|=  1.36543D+01\n",
            "\n",
            "At iterate   14    f=  3.94694D+03    |proj g|=  1.97236D+01\n",
            "\n",
            "At iterate   15    f=  3.94666D+03    |proj g|=  4.27087D+00\n",
            "\n",
            "At iterate   23    f=  3.95819D+03    |proj g|=  1.00047D+01\n",
            "\n",
            "At iterate   37    f=  3.95553D+03    |proj g|=  2.87140D-03\n",
            "\n",
            "           * * *\n",
            "\n",
            "Tit   = total number of iterations\n",
            "Tnf   = total number of function evaluations\n",
            "Tnint = total number of segments explored during Cauchy searches\n",
            "Skip  = number of BFGS updates skipped\n",
            "Nact  = number of active bounds at final generalized Cauchy point\n",
            "Projg = norm of the final projected gradient\n",
            "F     = final function value\n",
            "\n",
            "           * * *\n",
            "\n",
            "   N    Tit     Tnf  Tnint  Skip  Nact     Projg        F\n",
            "11076     37     42      1     0     0   2.871D-03   3.956D+03\n",
            "  F =   3955.5306906570268     \n",
            "\n",
            "CONVERGENCE: REL_REDUCTION_OF_F_<=_FACTR*EPSMCH             \n",
            "\n",
            "At iterate   16    f=  3.94634D+03    |proj g|=  9.98816D-01\n",
            "\n",
            "At iterate   17    f=  3.94536D+03    |proj g|=  7.26335D-01\n",
            "\n",
            "At iterate   33    f=  3.95811D+03    |proj g|=  4.94139D-03\n",
            "\n",
            "At iterate   24    f=  3.95778D+03    |proj g|=  4.91814D-01\n",
            "\n",
            "At iterate   18    f=  3.94487D+03    |proj g|=  2.20711D+00\n",
            "\n",
            "At iterate   34    f=  3.95811D+03    |proj g|=  1.40546D-03\n",
            "\n",
            "At iterate   19    f=  3.94479D+03    |proj g|=  1.40849D+00\n"
          ]
        },
        {
          "name": "stderr",
          "output_type": "stream",
          "text": [
            "[Parallel(n_jobs=1)]: Done   1 out of   1 | elapsed:    9.2s remaining:    0.0s\n",
            "[Parallel(n_jobs=1)]: Done   1 out of   1 | elapsed:    9.2s finished\n",
            "[Parallel(n_jobs=1)]: Using backend SequentialBackend with 1 concurrent workers.\n"
          ]
        },
        {
          "name": "stdout",
          "output_type": "stream",
          "text": [
            "\n",
            "At iterate   20    f=  3.94475D+03    |proj g|=  4.98444D-01\n",
            "\n",
            "At iterate   21    f=  3.94474D+03    |proj g|=  1.43291D-01\n",
            "\n",
            "At iterate   25    f=  3.95776D+03    |proj g|=  3.33097D-01\n",
            "\n",
            "At iterate   22    f=  3.94471D+03    |proj g|=  1.15549D-01\n",
            "\n",
            "At iterate   23    f=  3.94471D+03    |proj g|=  6.49050D-01\n",
            "\n",
            "At iterate   26    f=  3.95773D+03    |proj g|=  2.25376D-01\n",
            "\n",
            "At iterate   24    f=  3.94471D+03    |proj g|=  7.35503D-01\n",
            "\n",
            "At iterate   35    f=  3.95811D+03    |proj g|=  4.31876D-04\n",
            "\n",
            "At iterate   25    f=  3.94471D+03    |proj g|=  1.57150D-02\n",
            "\n",
            "At iterate   27    f=  3.95773D+03    |proj g|=  1.76456D+00\n",
            "\n",
            "At iterate   36    f=  3.95811D+03    |proj g|=  5.34724D-03\n",
            "\n",
            "At iterate   26    f=  3.94471D+03    |proj g|=  2.80681D-02\n",
            "\n",
            "           * * *\n",
            "\n",
            "At iterate   28    f=  3.95766D+03    |proj g|=  2.50990D-01\n",
            "\n",
            "Tit   = total number of iterations\n",
            "Tnf   = total number of function evaluations\n",
            "Tnint = total number of segments explored during Cauchy searches\n",
            "Skip  = number of BFGS updates skipped\n",
            "Nact  = number of active bounds at final generalized Cauchy point\n",
            "Projg = norm of the final projected gradient\n",
            "F     = final function value\n",
            "\n",
            "           * * *\n",
            "\n",
            "   N    Tit     Tnf  Tnint  Skip  Nact     Projg        F\n",
            "11076     36     42      1     0     0   5.347D-03   3.958D+03\n",
            "  F =   3958.1147471059317     \n",
            "\n",
            "CONVERGENCE: REL_REDUCTION_OF_F_<=_FACTR*EPSMCH             \n",
            "\n",
            "At iterate   27    f=  3.94471D+03    |proj g|=  2.50403D-01\n",
            "\n",
            "At iterate   28    f=  3.94471D+03    |proj g|=  1.36962D-01\n"
          ]
        },
        {
          "name": "stderr",
          "output_type": "stream",
          "text": [
            "[Parallel(n_jobs=1)]: Done   1 out of   1 | elapsed:    4.9s remaining:    0.0s\n",
            "[Parallel(n_jobs=1)]: Done   1 out of   1 | elapsed:    4.9s finished\n",
            " This problem is unconstrained.\n",
            "[Parallel(n_jobs=1)]: Done   1 out of   1 | elapsed:    2.5s remaining:    0.0s\n",
            "[Parallel(n_jobs=1)]: Done   1 out of   1 | elapsed:    2.5s finished\n"
          ]
        },
        {
          "name": "stdout",
          "output_type": "stream",
          "text": [
            "RUNNING THE L-BFGS-B CODE\n",
            "\n",
            "           * * *\n",
            "\n",
            "Machine precision = 2.220D-16\n",
            " N =        11076     M =           10\n",
            "\n",
            "At X0         0 variables are exactly at the bounds\n",
            "\n",
            "At iterate    0    f=  4.67874D+03    |proj g|=  1.99592D+01\n",
            "\n",
            "At iterate   29    f=  3.94471D+03    |proj g|=  3.63635D-02\n",
            "\n",
            "At iterate   30    f=  3.94471D+03    |proj g|=  4.54740D-03\n",
            "\n",
            "At iterate   31    f=  3.94471D+03    |proj g|=  1.62897D-02\n",
            "\n",
            "           * * *\n",
            "\n",
            "Tit   = total number of iterations\n",
            "Tnf   = total number of function evaluations\n",
            "Tnint = total number of segments explored during Cauchy searches\n",
            "Skip  = number of BFGS updates skipped\n",
            "Nact  = number of active bounds at final generalized Cauchy point\n",
            "Projg = norm of the final projected gradient\n",
            "F     = final function value\n",
            "\n",
            "           * * *\n",
            "\n",
            "   N    Tit     Tnf  Tnint  Skip  Nact     Projg        F\n",
            "11076     31     36      1     0     0   1.629D-02   3.945D+03\n",
            "  F =   3944.7069829692182     \n",
            "\n",
            "CONVERGENCE: REL_REDUCTION_OF_F_<=_FACTR*EPSMCH             \n",
            "\n",
            "At iterate    1    f=  4.63574D+03    |proj g|=  1.70246D+02\n",
            "\n",
            "At iterate    2    f=  4.49008D+03    |proj g|=  3.57565D+02\n",
            "\n",
            "At iterate   29    f=  3.95766D+03    |proj g|=  1.06298D+00\n",
            "\n",
            "At iterate    3    f=  4.18756D+03    |proj g|=  2.74110D+02\n",
            "\n",
            "At iterate   30    f=  3.95765D+03    |proj g|=  2.91205D-01\n",
            "\n",
            "At iterate    4    f=  4.14858D+03    |proj g|=  4.61440D+02\n",
            "\n",
            "At iterate   31    f=  3.95765D+03    |proj g|=  8.65127D-02\n",
            "\n",
            "At iterate    5    f=  4.08081D+03    |proj g|=  5.84134D+01\n",
            "\n",
            "At iterate   32    f=  3.95765D+03    |proj g|=  7.65384D-02\n",
            "\n",
            "At iterate    6    f=  4.07874D+03    |proj g|=  2.00660D+01\n",
            "\n",
            "At iterate   33    f=  3.95765D+03    |proj g|=  2.44505D+00\n",
            "\n",
            "At iterate   34    f=  3.95764D+03    |proj g|=  2.58408D-01\n",
            "\n",
            "At iterate    7    f=  4.07752D+03    |proj g|=  1.40610D+01\n",
            "[LibLinear]iter  1 act 7.303e+02 pre 7.201e+02 delta 3.044e+01 f 4.679e+03 |g| 5.442e+01 CG   5\n",
            "iter  2 act 3.622e+00 pre 3.411e+00 delta 3.044e+01 f 3.948e+03 |g| 9.320e+00 CG   3\n",
            "iter  3 act 1.727e-01 pre 1.700e-01 delta 3.044e+01 f 3.945e+03 |g| 1.387e+00 CG   3\n",
            "iter  4 act 2.337e-03 pre 2.336e-03 delta 3.044e+01 f 3.945e+03 |g| 1.156e-01 CG   4\n",
            "iter  5 act 4.227e-06 pre 4.227e-06 delta 3.044e+01 f 3.945e+03 |g| 4.044e-03 CG   4\n",
            "[LibLinear]iter  1 act 7.301e+02 pre 7.200e+02 delta 3.036e+01 f 4.679e+03 |g| 5.391e+01 CG   5\n",
            "iter  2 act 3.122e+00 pre 2.991e+00 delta 3.036e+01 f 3.949e+03 |g| 8.188e+00 CG   3\n",
            "iter  3 act 1.352e-01 pre 1.341e-01 delta 3.036e+01 f 3.946e+03 |g| 1.079e+00 CG   4\n",
            "\n",
            "At iterate   35    f=  3.95764D+03    |proj g|=  5.45551D-02\n",
            "iter  4 act 2.082e-04 pre 2.082e-04 delta 3.036e+01 f 3.945e+03 |g| 3.859e-02 CG   4\n",
            "[LibLinear]iter  1 act 7.289e+02 pre 7.189e+02 delta 3.040e+01 f 4.679e+03 |g| 5.381e+01 CG   5\n",
            "iter  2 act 3.103e+00 pre 2.960e+00 delta 3.040e+01 f 3.950e+03 |g| 8.513e+00 CG   3\n",
            "\n",
            "At iterate    8    f=  4.06831D+03    |proj g|=  1.13835D+01\n",
            "iter  3 act 1.306e-01 pre 1.295e-01 delta 3.040e+01 f 3.947e+03 |g| 1.129e+00 CG   3\n",
            "\n",
            "At iterate   36    f=  3.95764D+03    |proj g|=  9.15157D-02\n",
            "iter  4 act 2.069e-03 pre 2.069e-03 delta 3.040e+01 f 3.947e+03 |g| 1.027e-01 CG   4\n",
            "iter  5 act 4.582e-06 pre 4.582e-06 delta 3.040e+01 f 3.947e+03 |g| 4.253e-03 CG   4\n",
            "[LibLinear]iter  1 act 7.201e+02 pre 7.106e+02 delta 3.025e+01 f 4.679e+03 |g| 5.368e+01 CG   5\n",
            "iter  2 act 2.962e+00 pre 2.825e+00 delta 3.025e+01 f 3.959e+03 |g| 8.544e+00 CG   3\n",
            "iter  3 act 1.360e-01 pre 1.349e-01 delta 3.025e+01 f 3.956e+03 |g| 1.138e+00 CG   4\n",
            "iter  4 act 2.535e-04 pre 2.534e-04 delta 3.025e+01 f 3.956e+03 |g| 4.487e-02 CG   3\n",
            "iter  5 act 4.442e-06 pre 4.442e-06 delta 3.025e+01 f 3.956e+03 |g| 3.853e-03 CG   4\n",
            "\n",
            "At iterate   37    f=  3.95764D+03    |proj g|=  3.48411D-02\n",
            "[LibLinear]\n",
            "At iterate    9    f=  4.04366D+03    |proj g|=  2.39659D+01\n",
            "iter  1 act 7.271e+02 pre 7.169e+02 delta 3.034e+01 f 4.679e+03 |g| 5.413e+01 CG   5\n",
            "\n",
            "At iterate   38    f=  3.95764D+03    |proj g|=  1.66384D-01\n",
            "iter  2 act 3.339e+00 pre 3.175e+00 delta 3.034e+01 f 3.952e+03 |g| 8.474e+00 CG   3\n",
            "iter  3 act 1.501e-01 pre 1.488e-01 delta 3.034e+01 f 3.948e+03 |g| 1.220e+00 CG   3\n",
            "iter  4 act 3.052e-03 pre 3.051e-03 delta 3.034e+01 f 3.948e+03 |g| 1.274e-01 CG   4\n",
            "iter  5 act 7.057e-06 pre 7.057e-06 delta 3.034e+01 f 3.948e+03 |g| 5.437e-03 CG   4\n",
            "[LibLinear][LibLinear]\n",
            "At iterate   39    f=  3.95764D+03    |proj g|=  7.81046D-02\n",
            "\n",
            "At iterate   10    f=  4.00028D+03    |proj g|=  3.86565D+01\n",
            "iter  1 act 7.287e+02 pre 7.186e+02 delta 3.034e+01 f 4.679e+03 |g| 5.444e+01 CG   5\n",
            "iter  1 act 7.176e+02 pre 7.081e+02 delta 3.025e+01 f 4.679e+03 |g| 5.328e+01 CG   5\n",
            "iter  2 act 3.337e+00 pre 3.178e+00 delta 3.034e+01 f 3.950e+03 |g| 8.952e+00 CG   3\n",
            "iter  3 act 1.554e-01 pre 1.540e-01 delta 3.034e+01 f 3.947e+03 |g| 1.242e+00 CG   3\n",
            "\n",
            "At iterate   40    f=  3.95764D+03    |proj g|=  2.12485D-01\n",
            "iter  2 act 2.923e+00 pre 2.799e+00 delta 3.025e+01 f 3.961e+03 |g| 8.510e+00 CG   3\n",
            "iter  4 act 3.251e-03 pre 3.250e-03 delta 3.034e+01 f 3.947e+03 |g| 1.306e-01 CG   4\n",
            "iter  5 act 7.260e-06 pre 7.260e-06 delta 3.034e+01 f 3.947e+03 |g| 5.530e-03 CG   4\n",
            "[LibLinear]\n",
            "At iterate   41    f=  3.95764D+03    |proj g|=  2.71808D-01\n",
            "iter  1 act 7.175e+02 pre 7.079e+02 delta 3.026e+01 f 4.679e+03 |g| 5.400e+01 CG   5\n",
            "iter  2 act 3.425e+00 pre 3.243e+00 delta 3.026e+01 f 3.961e+03 |g| 9.021e+00 CG   3\n",
            "iter  3 act 1.620e-01 pre 1.603e-01 delta 3.026e+01 f 3.958e+03 |g| 1.346e+00 CG   3\n",
            "iter  3 act 1.248e-01 pre 1.239e-01 delta 3.025e+01 f 3.958e+03 |g| 1.080e+00 CG   4\n",
            "iter  4 act 3.044e-03 pre 3.043e-03 delta 3.026e+01 f 3.958e+03 |g| 1.308e-01 CG   4\n",
            "\n",
            "At iterate   42    f=  3.95764D+03    |proj g|=  1.19028D-01\n",
            "iter  5 act 6.862e-06 pre 6.861e-06 delta 3.026e+01 f 3.958e+03 |g| 5.392e-03 CG   4\n",
            "[LibLinear]iter  1 act 7.265e+02 pre 7.154e+02 delta 3.001e+01 f 4.679e+03 |g| 5.419e+01 CG   4\n",
            "\n",
            "At iterate   43    f=  3.95764D+03    |proj g|=  6.60271D-02\n",
            "iter  2 act 7.421e+00 pre 7.240e+00 delta 3.001e+01 f 3.952e+03 |g| 1.075e+01 CG   4\n",
            "\n",
            "At iterate   11    f=  3.96142D+03    |proj g|=  1.83384D+01\n",
            "iter  3 act 9.516e-02 pre 9.448e-02 delta 3.001e+01 f 3.945e+03 |g| 1.247e+00 CG   3\n",
            "iter  4 act 2.408e-03 pre 2.407e-03 delta 3.001e+01 f 3.945e+03 |g| 1.014e-01 CG   4\n",
            "iter  4 act 2.273e-04 pre 2.273e-04 delta 3.025e+01 f 3.958e+03 |g| 3.927e-02 CG   4\n",
            "iter  5 act 3.698e-06 pre 3.698e-06 delta 3.001e+01 f 3.945e+03 |g| 4.183e-03 CG   4\n",
            "[LibLinear][LibLinear]iter  1 act 7.303e+02 pre 7.201e+02 delta 3.044e+01 f 4.679e+03 |g| 5.442e+01 CG   5\n",
            "iter  2 act 3.622e+00 pre 3.411e+00 delta 3.044e+01 f 3.948e+03 |g| 9.320e+00 CG   3\n",
            "iter  3 act 1.727e-01 pre 1.700e-01 delta 3.044e+01 f 3.945e+03 |g| 1.387e+00 CG   3\n",
            "\n",
            "At iterate   44    f=  3.95764D+03    |proj g|=  1.27352D-01\n",
            "iter  4 act 2.337e-03 pre 2.336e-03 delta 3.044e+01 f 3.945e+03 |g| 1.156e-01 CG   4\n",
            "iter  5 act 4.227e-06 pre 4.227e-06 delta 3.044e+01 f 3.945e+03 |g| 4.044e-03 CG   4\n",
            "[LibLinear]iter  1 act 7.261e+02 pre 7.163e+02 delta 3.035e+01 f 4.679e+03 |g| 5.382e+01 CG   5\n",
            "\n",
            "At iterate   45    f=  3.95764D+03    |proj g|=  3.73953D-02\n",
            "\n",
            "At iterate   12    f=  3.95413D+03    |proj g|=  4.46693D+01\n",
            "iter  1 act 7.301e+02 pre 7.200e+02 delta 3.036e+01 f 4.679e+03 |g| 5.391e+01 CG   5\n",
            "\n",
            "At iterate   46    f=  3.95764D+03    |proj g|=  5.11680D-01\n",
            "iter  2 act 2.926e+00 pre 2.792e+00 delta 3.035e+01 f 3.953e+03 |g| 8.138e+00 CG   3\n",
            "iter  2 act 3.122e+00 pre 2.991e+00 delta 3.036e+01 f 3.949e+03 |g| 8.188e+00 CG   3\n",
            "iter  3 act 1.352e-01 pre 1.341e-01 delta 3.036e+01 f 3.946e+03 |g| 1.079e+00 CG   4\n",
            "\n",
            "At iterate   47    f=  3.95764D+03    |proj g|=  1.87174D-01\n",
            "iter  4 act 2.082e-04 pre 2.082e-04 delta 3.036e+01 f 3.945e+03 |g| 3.859e-02 CG   4\n",
            "[LibLinear]iter  3 act 1.219e-01 pre 1.210e-01 delta 3.035e+01 f 3.950e+03 |g| 1.090e+00 CG   3\n",
            "\n",
            "At iterate   13    f=  3.95284D+03    |proj g|=  1.61484D+01\n",
            "iter  1 act 7.289e+02 pre 7.189e+02 delta 3.040e+01 f 4.679e+03 |g| 5.381e+01 CG   5\n",
            "iter  2 act 3.103e+00 pre 2.960e+00 delta 3.040e+01 f 3.950e+03 |g| 8.513e+00 CG   3\n",
            "\n",
            "At iterate   48    f=  3.95764D+03    |proj g|=  3.53546D-02\n",
            "iter  3 act 1.306e-01 pre 1.295e-01 delta 3.040e+01 f 3.947e+03 |g| 1.129e+00 CG   3\n",
            "iter  4 act 2.545e-03 pre 2.544e-03 delta 3.035e+01 f 3.950e+03 |g| 1.153e-01 CG   4\n",
            "iter  4 act 2.069e-03 pre 2.069e-03 delta 3.040e+01 f 3.947e+03 |g| 1.027e-01 CG   4\n",
            "iter  5 act 4.582e-06 pre 4.582e-06 delta 3.040e+01 f 3.947e+03 |g| 4.253e-03 CG   4\n",
            "[LibLinear]iter  1 act 7.201e+02 pre 7.106e+02 delta 3.025e+01 f 4.679e+03 |g| 5.368e+01 CG   5\n",
            "iter  2 act 2.962e+00 pre 2.825e+00 delta 3.025e+01 f 3.959e+03 |g| 8.544e+00 CG   3\n",
            "iter  3 act 1.360e-01 pre 1.349e-01 delta 3.025e+01 f 3.956e+03 |g| 1.138e+00 CG   4\n",
            "\n",
            "At iterate   49    f=  3.95764D+03    |proj g|=  2.92622D-02\n",
            "iter  4 act 2.535e-04 pre 2.534e-04 delta 3.025e+01 f 3.956e+03 |g| 4.487e-02 CG   3\n",
            "iter  5 act 4.442e-06 pre 4.442e-06 delta 3.025e+01 f 3.956e+03 |g| 3.853e-03 CG   4\n",
            "[LibLinear]\n",
            "At iterate   14    f=  3.95212D+03    |proj g|=  6.64791D+00\n",
            "iter  5 act 4.413e-06 pre 4.413e-06 delta 3.035e+01 f 3.950e+03 |g| 4.257e-03 CG   4\n",
            "[LibLinear]iter  1 act 7.271e+02 pre 7.169e+02 delta 3.034e+01 f 4.679e+03 |g| 5.413e+01 CG   5\n",
            "iter  2 act 3.339e+00 pre 3.175e+00 delta 3.034e+01 f 3.952e+03 |g| 8.474e+00 CG   3\n",
            "iter  3 act 1.501e-01 pre 1.488e-01 delta 3.034e+01 f 3.948e+03 |g| 1.220e+00 CG   3\n",
            "iter  4 act 3.052e-03 pre 3.051e-03 delta 3.034e+01 f 3.948e+03 |g| 1.274e-01 CG   4\n",
            "\n",
            "At iterate   50    f=  3.95764D+03    |proj g|=  5.35285D-02\n",
            "\n",
            "           * * *\n",
            "\n",
            "Tit   = total number of iterations\n",
            "Tnf   = total number of function evaluations\n",
            "Tnint = total number of segments explored during Cauchy searches\n",
            "Skip  = number of BFGS updates skipped\n",
            "Nact  = number of active bounds at final generalized Cauchy point\n",
            "Projg = norm of the final projected gradient\n",
            "F     = final function value\n",
            "\n",
            "           * * *\n",
            "\n",
            "   N    Tit     Tnf  Tnint  Skip  Nact     Projg        F\n",
            "11076     50     58      1     0     0   5.353D-02   3.958D+03\n",
            "  F =   3957.6415867179931     \n",
            "\n",
            "CONVERGENCE: REL_REDUCTION_OF_F_<=_FACTR*EPSMCH             \n",
            "iter  5 act 7.057e-06 pre 7.057e-06 delta 3.034e+01 f 3.948e+03 |g| 5.437e-03 CG   4\n",
            "[LibLinear][LibLinear]iter  1 act 7.175e+02 pre 7.079e+02 delta 3.026e+01 f 4.679e+03 |g| 5.400e+01 CG   5\n",
            "iter  1 act 7.287e+02 pre 7.186e+02 delta 3.034e+01 f 4.679e+03 |g| 5.444e+01 CG   5\n",
            "iter  2 act 3.425e+00 pre 3.243e+00 delta 3.026e+01 f 3.961e+03 |g| 9.021e+00 CG   3\n",
            "iter  1 act 7.176e+02 pre 7.081e+02 delta 3.025e+01 f 4.679e+03 |g| 5.328e+01 CG   5\n",
            "\n",
            "At iterate   15    f=  3.95181D+03    |proj g|=  3.96098D+00\n",
            "iter  3 act 1.620e-01 pre 1.603e-01 delta 3.026e+01 f 3.958e+03 |g| 1.346e+00 CG   3\n",
            "iter  4 act 3.044e-03 pre 3.043e-03 delta 3.026e+01 f 3.958e+03 |g| 1.308e-01 CG   4\n"
          ]
        },
        {
          "name": "stderr",
          "output_type": "stream",
          "text": [
            "[Parallel(n_jobs=1)]: Done   1 out of   1 | elapsed:    5.8s remaining:    0.0s\n",
            "[Parallel(n_jobs=1)]: Done   1 out of   1 | elapsed:    5.8s finished\n"
          ]
        },
        {
          "name": "stdout",
          "output_type": "stream",
          "text": [
            "iter  5 act 6.862e-06 pre 6.861e-06 delta 3.026e+01 f 3.958e+03 |g| 5.392e-03 CG   4\n",
            "[LibLinear]iter  1 act 7.265e+02 pre 7.154e+02 delta 3.001e+01 f 4.679e+03 |g| 5.419e+01 CG   4\n",
            "iter  2 act 7.421e+00 pre 7.240e+00 delta 3.001e+01 f 3.952e+03 |g| 1.075e+01 CG   4\n",
            "iter  2 act 2.923e+00 pre 2.799e+00 delta 3.025e+01 f 3.961e+03 |g| 8.510e+00 CG   3\n",
            "iter  2 act 3.337e+00 pre 3.178e+00 delta 3.034e+01 f 3.950e+03 |g| 8.952e+00 CG   3\n",
            "iter  3 act 9.516e-02 pre 9.448e-02 delta 3.001e+01 f 3.945e+03 |g| 1.247e+00 CG   3\n",
            "iter  4 act 2.408e-03 pre 2.407e-03 delta 3.001e+01 f 3.945e+03 |g| 1.014e-01 CG   4\n",
            "iter  5 act 3.698e-06 pre 3.698e-06 delta 3.001e+01 f 3.945e+03 |g| 4.183e-03 CG   4\n",
            "iter  3 act 1.248e-01 pre 1.239e-01 delta 3.025e+01 f 3.958e+03 |g| 1.080e+00 CG   4\n",
            "[LibLinear]iter  1 act 7.261e+02 pre 7.163e+02 delta 3.035e+01 f 4.679e+03 |g| 5.382e+01 CG   5\n",
            "iter  2 act 2.926e+00 pre 2.792e+00 delta 3.035e+01 f 3.953e+03 |g| 8.138e+00 CG   3\n",
            "iter  3 act 1.219e-01 pre 1.210e-01 delta 3.035e+01 f 3.950e+03 |g| 1.090e+00 CG   3\n",
            "iter  4 act 2.545e-03 pre 2.544e-03 delta 3.035e+01 f 3.950e+03 |g| 1.153e-01 CG   4\n",
            "iter  5 act 4.413e-06 pre 4.413e-06 delta 3.035e+01 f 3.950e+03 |g| 4.257e-03 CG   4\n",
            "\n",
            "At iterate   16    f=  3.95066D+03    |proj g|=  3.78545D+00\n",
            "iter  3 act 1.554e-01 pre 1.540e-01 delta 3.034e+01 f 3.947e+03 |g| 1.242e+00 CG   3\n",
            "iter  4 act 3.251e-03 pre 3.250e-03 delta 3.034e+01 f 3.947e+03 |g| 1.306e-01 CG   4\n",
            "iter  4 act 2.273e-04 pre 2.273e-04 delta 3.025e+01 f 3.958e+03 |g| 3.927e-02 CG   4\n",
            "iter  5 act 7.260e-06 pre 7.260e-06 delta 3.034e+01 f 3.947e+03 |g| 5.530e-03 CG   4\n",
            "\n",
            "At iterate   17    f=  3.95030D+03    |proj g|=  3.14211D+00\n",
            "Epoch 1, change: 1.00000000\n",
            "Epoch 1, change: 1.00000000\n",
            "Epoch 2, change: 0.36420632\n",
            "Epoch 1, change: 1.00000000\n",
            "Epoch 3, change: 0.22826404\n",
            "Epoch 2, change: 0.45117908\n",
            "Epoch 2, change: 0.37355653\n",
            "Epoch 4, change: 0.22463429\n",
            "Epoch 3, change: 0.22595775\n",
            "Epoch 3, change: 0.22330450\n",
            "Epoch 5, change: 0.16889536\n",
            "Epoch 4, change: 0.18669283\n",
            "Epoch 6, change: 0.12919254\n",
            "Epoch 7, change: 0.08737405\n",
            "Epoch 8, change: 0.13447442\n",
            "Epoch 9, change: 0.09331200\n",
            "Epoch 10, change: 0.02100373\n",
            "Epoch 4, change: 0.18430430\n"
          ]
        },
        {
          "name": "stderr",
          "output_type": "stream",
          "text": [
            "[Parallel(n_jobs=1)]: Using backend SequentialBackend with 1 concurrent workers.\n",
            "[Parallel(n_jobs=1)]: Using backend SequentialBackend with 1 concurrent workers.\n",
            "[Parallel(n_jobs=1)]: Using backend SequentialBackend with 1 concurrent workers.\n",
            "[Parallel(n_jobs=1)]: Done   1 out of   1 | elapsed:    0.0s finished\n",
            "[Parallel(n_jobs=1)]: Using backend SequentialBackend with 1 concurrent workers.\n",
            "[Parallel(n_jobs=1)]: Done   1 out of   1 | elapsed:    0.1s finished\n",
            "[Parallel(n_jobs=1)]: Done   1 out of   1 | elapsed:    0.0s finished\n",
            "[Parallel(n_jobs=1)]: Using backend SequentialBackend with 1 concurrent workers.\n",
            "[Parallel(n_jobs=1)]: Using backend SequentialBackend with 1 concurrent workers.\n",
            "[Parallel(n_jobs=1)]: Done   1 out of   1 | elapsed:    0.2s finished\n",
            "[Parallel(n_jobs=1)]: Done   1 out of   1 | elapsed:    0.0s finished\n",
            "[Parallel(n_jobs=1)]: Using backend SequentialBackend with 1 concurrent workers.\n",
            "[Parallel(n_jobs=1)]: Using backend SequentialBackend with 1 concurrent workers.\n",
            "[Parallel(n_jobs=1)]: Done   1 out of   1 | elapsed:    0.1s finished\n"
          ]
        },
        {
          "name": "stdout",
          "output_type": "stream",
          "text": [
            "Epoch 11, change: 0.02399187\n",
            "Epoch 12, change: 0.07486672\n",
            "Epoch 13, change: 0.01465907\n",
            "Epoch 14, change: 0.00976210\n",
            "Epoch 15, change: 0.00731452\n",
            "Epoch 5, change: 0.18935712\n",
            "Epoch 16, change: 0.00253024\n",
            "Epoch 17, change: 0.00258237\n",
            "Epoch 6, change: 0.12521129\n",
            "Epoch 18, change: 0.00096255\n",
            "Epoch 7, change: 0.08488273\n",
            "Epoch 19, change: 0.00218210\n",
            "Epoch 8, change: 0.13608461\n",
            "Epoch 5, change: 0.17936945\n",
            "Epoch 20, change: 0.00040107\n",
            "Epoch 9, change: 0.09106915\n",
            "Epoch 6, change: 0.12136403\n",
            "Epoch 21, change: 0.00024950\n",
            "Epoch 7, change: 0.08997795\n",
            "Epoch 22, change: 0.00045059\n",
            "Epoch 8, change: 0.12910992\n",
            "Epoch 23, change: 0.00044528\n",
            "Epoch 24, change: 0.00018294\n",
            "convergence after 25 epochs took 0 seconds\n",
            "\n",
            "At iterate   18    f=  3.94971D+03    |proj g|=  1.34907D+00\n",
            "Epoch 9, change: 0.08502255\n",
            "Epoch 10, change: 0.02819738\n",
            "Epoch 10, change: 0.02835997\n",
            "Epoch 11, change: 0.02361680\n",
            "Epoch 11, change: 0.02140991\n",
            "Epoch 12, change: 0.07465572\n",
            "Epoch 13, change: 0.01342733\n",
            "Epoch 14, change: 0.00960266\n",
            "Epoch 15, change: 0.00802343\n",
            "Epoch 16, change: 0.00262487\n",
            "Epoch 1, change: 1.00000000\n",
            "Epoch 12, change: 0.10240870\n",
            "Epoch 2, change: 0.37750156\n",
            "Epoch 13, change: 0.01437078\n",
            "Epoch 14, change: 0.01821150\n",
            "Epoch 3, change: 0.23342661\n",
            "Epoch 4, change: 0.22723428\n",
            "Epoch 5, change: 0.19435870\n",
            "Epoch 6, change: 0.13216118\n",
            "Epoch 7, change: 0.08961790\n",
            "Epoch 8, change: 0.13706643\n",
            "Epoch 17, change: 0.00245471\n",
            "Epoch 9, change: 0.10034561\n",
            "Epoch 18, change: 0.00084727\n",
            "Epoch 10, change: 0.02210699\n",
            "Epoch 19, change: 0.00217225\n",
            "Epoch 11, change: 0.02402590\n",
            "Epoch 20, change: 0.00042358\n",
            "Epoch 12, change: 0.08069311\n",
            "Epoch 13, change: 0.01600730\n",
            "Epoch 14, change: 0.00850746\n",
            "Epoch 21, change: 0.00026104\n",
            "Epoch 15, change: 0.00827141\n",
            "Epoch 22, change: 0.00041874\n",
            "Epoch 15, change: 0.00879120\n",
            "Epoch 16, change: 0.00249091\n",
            "Epoch 23, change: 0.00044891\n",
            "Epoch 17, change: 0.00237088\n",
            "Epoch 16, change: 0.00242312\n",
            "\n",
            "At iterate   19    f=  3.94959D+03    |proj g|=  1.13623D-01\n",
            "Epoch 24, change: 0.00010570\n",
            "Epoch 18, change: 0.00074014\n",
            "convergence after 25 epochs took 0 seconds\n",
            "Epoch 19, change: 0.00135520\n",
            "Epoch 20, change: 0.00032172\n",
            "Epoch 21, change: 0.00027189\n",
            "Epoch 22, change: 0.00014428\n",
            "Epoch 23, change: 0.00010871\n",
            "Epoch 24, change: 0.00021503\n",
            "Epoch 17, change: 0.00200429\n",
            "convergence after 25 epochs took 0 seconds\n",
            "Epoch 18, change: 0.00071906\n",
            "Epoch 1, change: 1.00000000\n",
            "Epoch 2, change: 0.39541684\n",
            "Epoch 3, change: 0.22245710\n",
            "Epoch 4, change: 0.17990802\n",
            "Epoch 19, change: 0.00151995\n",
            "Epoch 5, change: 0.17498645\n",
            "Epoch 6, change: 0.09404559\n",
            "Epoch 7, change: 0.08739188\n",
            "Epoch 1, change: 1.00000000\n",
            "Epoch 8, change: 0.12938302\n",
            "Epoch 2, change: 0.38444621\n",
            "Epoch 3, change: 0.20911497\n",
            "Epoch 9, change: 0.08873388\n",
            "Epoch 20, change: 0.00032776\n",
            "Epoch 10, change: 0.02079986\n",
            "Epoch 4, change: 0.18783627\n",
            "Epoch 11, change: 0.01783258\n",
            "Epoch 5, change: 0.16961799\n",
            "Epoch 12, change: 0.06950891\n",
            "Epoch 6, change: 0.10821149\n",
            "Epoch 21, change: 0.00036697\n",
            "Epoch 13, change: 0.01047607\n",
            "Epoch 7, change: 0.08362588\n",
            "Epoch 14, change: 0.00717779\n",
            "Epoch 8, change: 0.14113076\n",
            "Epoch 22, change: 0.00043572\n",
            "Epoch 15, change: 0.00889164\n",
            "Epoch 9, change: 0.08612131\n",
            "Epoch 16, change: 0.00296689\n",
            "Epoch 10, change: 0.02099888\n",
            "Epoch 17, change: 0.00234632\n",
            "Epoch 11, change: 0.03598183\n",
            "Epoch 12, change: 0.07623205\n",
            "Epoch 18, change: 0.00067331\n",
            "Epoch 19, change: 0.00185351\n",
            "Epoch 13, change: 0.01033047\n",
            "Epoch 20, change: 0.00029524\n",
            "Epoch 14, change: 0.00766932\n",
            "Epoch 23, change: 0.00031335\n",
            "Epoch 15, change: 0.00995291\n",
            "Epoch 21, change: 0.00071479\n",
            "convergence after 24 epochs took 0 seconds\n",
            "Epoch 16, change: 0.00388984\n",
            "Epoch 22, change: 0.00016769\n",
            "Epoch 17, change: 0.00257928\n",
            "Epoch 23, change: 0.00031242\n",
            "Epoch 18, change: 0.00056587\n",
            "Epoch 24, change: 0.00013290\n",
            "Epoch 19, change: 0.00067757\n",
            "convergence after 25 epochs took 0 seconds\n",
            "\n",
            "Epoch 20, change: 0.00040024\n",
            "At iterate   20    f=  3.94958D+03    |proj g|=  1.60543D-01\n",
            "Epoch 21, change: 0.00033798\n",
            "Epoch 22, change: 0.00014477\n",
            "Epoch 23, change: 0.00014683\n",
            "convergence after 24 epochs took 0 seconds\n",
            "Epoch 1, change: 1.00000000\n",
            "Epoch 2, change: 0.42204602\n",
            "Epoch 3, change: 0.20925365\n",
            "Epoch 1, change: 1.00000000\n",
            "Epoch 4, change: 0.17235603\n",
            "Epoch 1, change: 1.00000000\n",
            "Epoch 2, change: 0.32526324\n",
            "Epoch 5, change: 0.15812657\n",
            "Epoch 2, change: 0.46232318\n",
            "Epoch 3, change: 0.15315331\n",
            "Epoch 6, change: 0.12125159\n",
            "Epoch 4, change: 0.14047066\n",
            "Epoch 7, change: 0.14334455\n",
            "Epoch 5, change: 0.13811828\n",
            "Epoch 6, change: 0.14418231\n",
            "Epoch 7, change: 0.12024204\n",
            "Epoch 8, change: 0.12016664\n",
            "Epoch 9, change: 0.06209898\n",
            "Epoch 10, change: 0.03222751\n",
            "Epoch 11, change: 0.01514788\n",
            "Epoch 12, change: 0.05496876\n",
            "Epoch 13, change: 0.00711247\n",
            "Epoch 3, change: 0.18627108\n",
            "Epoch 14, change: 0.00685871\n",
            "Epoch 4, change: 0.15659100\n",
            "Epoch 15, change: 0.00781749\n",
            "Epoch 8, change: 0.15355458\n",
            "Epoch 16, change: 0.00225562\n",
            "Epoch 17, change: 0.00159015\n",
            "Epoch 9, change: 0.07748485\n",
            "Epoch 18, change: 0.00054417\n",
            "Epoch 10, change: 0.04452085\n",
            "Epoch 5, change: 0.13795953\n",
            "Epoch 11, change: 0.03609273\n",
            "Epoch 19, change: 0.00189728\n",
            "Epoch 20, change: 0.00052098\n",
            "Epoch 12, change: 0.07780227\n",
            "Epoch 13, change: 0.01059016\n",
            "Epoch 21, change: 0.00096704\n",
            "Epoch 22, change: 0.00049920\n",
            "Epoch 14, change: 0.00856302\n"
          ]
        },
        {
          "name": "stderr",
          "output_type": "stream",
          "text": [
            "[Parallel(n_jobs=1)]: Using backend SequentialBackend with 1 concurrent workers.\n",
            "[Parallel(n_jobs=1)]: Done   1 out of   1 | elapsed:    0.0s finished\n",
            "[Parallel(n_jobs=1)]: Using backend SequentialBackend with 1 concurrent workers.\n",
            "[Parallel(n_jobs=1)]: Done   1 out of   1 | elapsed:    0.1s finished\n",
            "[Parallel(n_jobs=1)]: Using backend SequentialBackend with 1 concurrent workers.\n",
            "[Parallel(n_jobs=1)]: Done   1 out of   1 | elapsed:    0.0s finished\n",
            "[Parallel(n_jobs=1)]: Using backend SequentialBackend with 1 concurrent workers.\n",
            "[Parallel(n_jobs=1)]: Done   1 out of   1 | elapsed:    0.2s finished\n",
            "[Parallel(n_jobs=1)]: Done   1 out of   1 | elapsed:    0.0s remaining:    0.0s\n",
            "[Parallel(n_jobs=1)]: Done   1 out of   1 | elapsed:    0.0s finished\n",
            "[Parallel(n_jobs=1)]: Using backend SequentialBackend with 1 concurrent workers.\n",
            "[Parallel(n_jobs=1)]: Using backend SequentialBackend with 1 concurrent workers.\n"
          ]
        },
        {
          "name": "stdout",
          "output_type": "stream",
          "text": [
            "Epoch 15, change: 0.01030487\n",
            "Epoch 6, change: 0.09337338\n",
            "Epoch 16, change: 0.00358266\n",
            "Epoch 7, change: 0.12057847\n",
            "Epoch 23, change: 0.00032517\n",
            "Epoch 17, change: 0.00213571\n",
            "convergence after 24 epochs took 0 seconds\n",
            "Epoch 8, change: 0.11875426\n",
            "Epoch 9, change: 0.06354791\n",
            "Epoch 18, change: 0.00072161\n",
            "Epoch 19, change: 0.00094069\n",
            "Epoch 1, change: 1.00000000\n",
            "Epoch 20, change: 0.00041491\n",
            "Epoch 2, change: 0.38106112\n",
            "Epoch 21, change: 0.00099817\n",
            "Epoch 3, change: 0.22480126\n",
            "Epoch 22, change: 0.00023565\n",
            "Epoch 4, change: 0.18030994\n",
            "Epoch 23, change: 0.00012835\n",
            "Epoch 5, change: 0.19097428\n",
            "Epoch 10, change: 0.02308283\n",
            "convergence after 24 epochs took 0 secondsEpoch 6, change: 0.17537174\n",
            "Epoch 7, change: 0.14823720\n",
            "Epoch 8, change: 0.08668792\n",
            "Epoch 9, change: 0.07764628\n",
            "Epoch 10, change: 0.02470623\n",
            "Epoch 11, change: 0.01863197\n",
            "Epoch 12, change: 0.07395125\n",
            "Epoch 11, change: 0.02922881\n",
            "Epoch 13, change: 0.00973574\n",
            "Epoch 12, change: 0.05961761\n",
            "\n",
            "Epoch 14, change: 0.00790966\n",
            "Epoch 15, change: 0.01008815\n",
            "Epoch 16, change: 0.00233776\n",
            "Epoch 17, change: 0.00203519\n",
            "Epoch 13, change: 0.00951565\n",
            "Epoch 18, change: 0.00071966\n",
            "Epoch 19, change: 0.00261648\n",
            "Epoch 20, change: 0.00088160\n",
            "Epoch 21, change: 0.00094923\n",
            "Epoch 14, change: 0.00648685\n",
            "Epoch 22, change: 0.00057636\n",
            "Epoch 15, change: 0.00786903\n",
            "Epoch 23, change: 0.00045243\n",
            "Epoch 16, change: 0.00297331\n",
            "convergence after 24 epochs took 0 seconds\n",
            "Epoch 17, change: 0.00189823\n",
            "Epoch 1, change: 1.00000000\n",
            "Epoch 18, change: 0.00067532\n",
            "Epoch 19, change: 0.00071309\n",
            "Epoch 2, change: 0.45117908\n",
            "Epoch 1, change: 1.00000000\n",
            "Epoch 3, change: 0.22595775\n",
            "Epoch 4, change: 0.18430430\n",
            "Epoch 2, change: 0.37355653\n",
            "Epoch 3, change: 0.22330450\n",
            "Epoch 4, change: 0.18669283\n",
            "Epoch 20, change: 0.00022852\n",
            "Epoch 5, change: 0.18935712\n",
            "Epoch 6, change: 0.12521129\n",
            "Epoch 7, change: 0.08488273\n",
            "Epoch 21, change: 0.00041751\n",
            "Epoch 8, change: 0.13608461\n",
            "Epoch 9, change: 0.09106915\n",
            "Epoch 10, change: 0.02819738\n",
            "Epoch 11, change: 0.02361680\n",
            "Epoch 12, change: 0.07465572\n",
            "Epoch 13, change: 0.01342733\n",
            "Epoch 22, change: 0.00017287\n",
            "Epoch 5, change: 0.17936945\n",
            "Epoch 14, change: 0.00960266\n",
            "Epoch 23, change: 0.00017632\n",
            "Epoch 6, change: 0.12136403\n",
            "Epoch 15, change: 0.00802343\n",
            "Epoch 16, change: 0.00262487\n",
            "Epoch 17, change: 0.00245471\n",
            "Epoch 18, change: 0.00084727\n",
            "convergence after 24 epochs took 1 seconds\n",
            "Epoch 19, change: 0.00217225\n",
            "Epoch 7, change: 0.08997795\n",
            "\n",
            "At iterate   21    f=  3.94956D+03    |proj g|=  2.07291D-01\n",
            "Epoch 20, change: 0.00042358\n",
            "Epoch 8, change: 0.12910992\n",
            "Epoch 21, change: 0.00026104\n",
            "Epoch 9, change: 0.08502255\n",
            "Epoch 22, change: 0.00041874\n",
            "Epoch 10, change: 0.02835997\n",
            "Epoch 23, change: 0.00044891\n",
            "Epoch 11, change: 0.02140991\n",
            "Epoch 24, change: 0.00010570\n",
            "Epoch 12, change: 0.10240870\n",
            "convergence after 25 epochs took 0 seconds\n",
            "Epoch 1, change: 1.00000000\n",
            "Epoch 2, change: 0.37750156\n",
            "Epoch 3, change: 0.23342661\n",
            "Epoch 13, change: 0.01437078\n",
            "Epoch 4, change: 0.22723428\n",
            "Epoch 14, change: 0.01821150\n",
            "Epoch 5, change: 0.19435870\n",
            "Epoch 1, change: 1.00000000\n",
            "Epoch 15, change: 0.00879120\n",
            "Epoch 6, change: 0.13216118\n",
            "Epoch 16, change: 0.00242312\n",
            "Epoch 7, change: 0.08961790\n",
            "Epoch 17, change: 0.00200429\n",
            "Epoch 8, change: 0.13706643\n",
            "Epoch 9, change: 0.10034561\n",
            "Epoch 10, change: 0.02210699\n",
            "Epoch 11, change: 0.02402590\n",
            "Epoch 18, change: 0.00071906\n",
            "Epoch 2, change: 0.36420632\n",
            "Epoch 12, change: 0.08069311\n",
            "Epoch 19, change: 0.00151995\n",
            "Epoch 3, change: 0.22826404\n",
            "Epoch 13, change: 0.01600730\n",
            "Epoch 4, change: 0.22463429\n",
            "Epoch 14, change: 0.00850746\n",
            "Epoch 5, change: 0.16889536\n",
            "Epoch 15, change: 0.00827141\n",
            "Epoch 16, change: 0.00249091\n",
            "Epoch 17, change: 0.00237088\n",
            "Epoch 18, change: 0.00074014\n",
            "Epoch 6, change: 0.12919254\n",
            "Epoch 19, change: 0.00135520\n",
            "Epoch 7, change: 0.08737405\n",
            "Epoch 20, change: 0.00032172\n",
            "Epoch 8, change: 0.13447442\n",
            "Epoch 21, change: 0.00027189\n",
            "Epoch 9, change: 0.09331200\n",
            "Epoch 22, change: 0.00014428\n",
            "Epoch 23, change: 0.00010871\n",
            "Epoch 24, change: 0.00021503\n",
            "convergence after 25 epochs took 0 seconds\n",
            "Epoch 20, change: 0.00032776\n",
            "Epoch 10, change: 0.02100373\n",
            "Epoch 21, change: 0.00036697\n",
            "Epoch 22, change: 0.00043572\n",
            "Epoch 11, change: 0.02399187\n",
            "Epoch 23, change: 0.00031335\n",
            "convergence after 24 epochs took 1 seconds\n",
            "Epoch 12, change: 0.07486672\n",
            "Epoch 13, change: 0.01465907\n",
            "Epoch 14, change: 0.00976210\n",
            "Epoch 15, change: 0.00731452\n",
            "Epoch 16, change: 0.00253024\n",
            "Epoch 1, change: 1.00000000\n",
            "Epoch 2, change: 0.39541684\n",
            "Epoch 3, change: 0.22245710\n",
            "Epoch 4, change: 0.17990802\n",
            "Epoch 5, change: 0.17498645\n",
            "Epoch 6, change: 0.09404559\n"
          ]
        },
        {
          "name": "stderr",
          "output_type": "stream",
          "text": [
            "[Parallel(n_jobs=1)]: Done   1 out of   1 | elapsed:    0.0s remaining:    0.0s\n",
            "[Parallel(n_jobs=1)]: Done   1 out of   1 | elapsed:    0.0s finished\n",
            "[Parallel(n_jobs=1)]: Done   1 out of   1 | elapsed:    0.1s remaining:    0.0s\n",
            "[Parallel(n_jobs=1)]: Done   1 out of   1 | elapsed:    0.1s finished\n",
            "[Parallel(n_jobs=1)]: Using backend SequentialBackend with 1 concurrent workers.\n",
            "[Parallel(n_jobs=1)]: Using backend SequentialBackend with 1 concurrent workers.\n",
            "[Parallel(n_jobs=1)]: Done   1 out of   1 | elapsed:    0.1s remaining:    0.0s\n",
            "[Parallel(n_jobs=1)]: Done   1 out of   1 | elapsed:    0.1s finished\n",
            "[Parallel(n_jobs=1)]: Done   1 out of   1 | elapsed:    0.0s remaining:    0.0s\n",
            "[Parallel(n_jobs=1)]: Done   1 out of   1 | elapsed:    0.0s finished\n",
            "[Parallel(n_jobs=1)]: Using backend SequentialBackend with 1 concurrent workers.\n",
            "[Parallel(n_jobs=1)]: Using backend SequentialBackend with 1 concurrent workers.\n",
            "[Parallel(n_jobs=1)]: Done   1 out of   1 | elapsed:    0.1s remaining:    0.0s\n",
            "[Parallel(n_jobs=1)]: Done   1 out of   1 | elapsed:    0.1s finished\n",
            "[Parallel(n_jobs=1)]: Using backend SequentialBackend with 1 concurrent workers.\n",
            "[Parallel(n_jobs=1)]: Done   1 out of   1 | elapsed:    0.0s remaining:    0.0s\n",
            "[Parallel(n_jobs=1)]: Done   1 out of   1 | elapsed:    0.0s finished\n",
            "[Parallel(n_jobs=1)]: Using backend SequentialBackend with 1 concurrent workers.\n",
            "[Parallel(n_jobs=1)]: Done   1 out of   1 | elapsed:    0.1s remaining:    0.0s\n",
            "[Parallel(n_jobs=1)]: Done   1 out of   1 | elapsed:    0.1s finished\n",
            "[Parallel(n_jobs=1)]: Done   1 out of   1 | elapsed:    0.0s remaining:    0.0s\n",
            "[Parallel(n_jobs=1)]: Done   1 out of   1 | elapsed:    0.0s finished\n",
            "[Parallel(n_jobs=1)]: Done   1 out of   1 | elapsed:    0.1s remaining:    0.0s\n",
            "[Parallel(n_jobs=1)]: Done   1 out of   1 | elapsed:    0.1s finished\n"
          ]
        },
        {
          "name": "stdout",
          "output_type": "stream",
          "text": [
            "Epoch 7, change: 0.08739188\n",
            "Epoch 1, change: 1.00000000\n",
            "Epoch 8, change: 0.12938302\n",
            "Epoch 17, change: 0.00258237\n",
            "Epoch 2, change: 0.38444621\n",
            "Epoch 9, change: 0.08873388\n",
            "Epoch 18, change: 0.00096255\n",
            "Epoch 3, change: 0.20911497\n",
            "Epoch 10, change: 0.02079986\n",
            "Epoch 19, change: 0.00218210\n",
            "Epoch 4, change: 0.18783627\n",
            "Epoch 11, change: 0.01783258\n",
            "Epoch 20, change: 0.00040107\n",
            "Epoch 12, change: 0.06950891\n",
            "Epoch 21, change: 0.00024950\n",
            "Epoch 22, change: 0.00045059\n",
            "Epoch 13, change: 0.01047607\n",
            "Epoch 14, change: 0.00717779\n",
            "Epoch 23, change: 0.00044528\n",
            "Epoch 5, change: 0.16961799\n",
            "Epoch 15, change: 0.00889164\n",
            "Epoch 16, change: 0.00296689\n",
            "Epoch 6, change: 0.10821149\n",
            "Epoch 17, change: 0.00234632\n",
            "Epoch 18, change: 0.00067331\n",
            "Epoch 7, change: 0.08362588\n",
            "Epoch 24, change: 0.00018294\n",
            "Epoch 19, change: 0.00185351\n",
            "Epoch 8, change: 0.14113076\n",
            "convergence after 25 epochs took 0 seconds\n",
            "Epoch 20, change: 0.00029524\n",
            "Epoch 9, change: 0.08612131\n",
            "Epoch 10, change: 0.02099888\n",
            "Epoch 21, change: 0.00071479\n",
            "Epoch 22, change: 0.00016769\n",
            "Epoch 11, change: 0.03598183\n",
            "Epoch 23, change: 0.00031242\n",
            "Epoch 12, change: 0.07623205\n",
            "Epoch 24, change: 0.00013290\n",
            "Epoch 13, change: 0.01033047\n",
            "convergence after 25 epochs took 0 seconds\n",
            "Epoch 14, change: 0.00766932\n",
            "Epoch 15, change: 0.00995291\n",
            "Epoch 16, change: 0.00388984\n",
            "Epoch 17, change: 0.00257928\n",
            "Epoch 18, change: 0.00056587\n",
            "Epoch 1, change: 1.00000000\n",
            "Epoch 1, change: 1.00000000\n",
            "Epoch 19, change: 0.00067757\n",
            "Epoch 2, change: 0.42204602\n",
            "Epoch 2, change: 0.46232318\n",
            "Epoch 20, change: 0.00040024\n",
            "Epoch 3, change: 0.20925365\n",
            "Epoch 3, change: 0.18627108\n",
            "Epoch 21, change: 0.00033798\n",
            "Epoch 4, change: 0.17235603\n",
            "Epoch 4, change: 0.15659100\n",
            "Epoch 22, change: 0.00014477\n",
            "Epoch 5, change: 0.15812657\n",
            "Epoch 23, change: 0.00014683\n",
            "Epoch 6, change: 0.12125159\n",
            "Epoch 7, change: 0.14334455\n",
            "Epoch 8, change: 0.15355458\n",
            "Epoch 9, change: 0.07748485\n",
            "Epoch 10, change: 0.04452085\n",
            "Epoch 5, change: 0.13795953\n",
            "Epoch 11, change: 0.03609273\n",
            "Epoch 6, change: 0.09337338\n",
            "Epoch 12, change: 0.07780227\n",
            "convergence after 24 epochs took 0 seconds\n",
            "Epoch 7, change: 0.12057847\n",
            "Epoch 13, change: 0.01059016\n",
            "Epoch 8, change: 0.11875426\n",
            "Epoch 14, change: 0.00856302\n",
            "Epoch 9, change: 0.06354791\n",
            "Epoch 15, change: 0.01030487\n",
            "Epoch 10, change: 0.02308283\n",
            "Epoch 16, change: 0.00358266\n",
            "\n",
            "At iterate   22    f=  3.94956D+03    |proj g|=  9.24085D-02\n",
            "Epoch 11, change: 0.02922881\n",
            "Epoch 17, change: 0.00213571\n",
            "Epoch 12, change: 0.05961761\n",
            "Epoch 18, change: 0.00072161\n",
            "Epoch 19, change: 0.00094069\n",
            "Epoch 20, change: 0.00041491\n",
            "Epoch 21, change: 0.00099817\n",
            "Epoch 22, change: 0.00023565\n",
            "Epoch 23, change: 0.00012835\n",
            "convergence after 24 epochs took 0 seconds\n",
            "Epoch 1, change: 1.00000000\n",
            "Epoch 13, change: 0.00951565\n",
            "Epoch 2, change: 0.32526324\n",
            "Epoch 14, change: 0.00648685\n",
            "Epoch 15, change: 0.00786903\n",
            "Epoch 3, change: 0.15315331\n",
            "Epoch 16, change: 0.00297331\n",
            "Epoch 4, change: 0.14047066\n",
            "Epoch 5, change: 0.13811828\n",
            "Epoch 1, change: 1.00000000\n",
            "Epoch 2, change: 0.38106112\n",
            "Epoch 17, change: 0.00189823\n",
            "Epoch 3, change: 0.22480126\n",
            "Epoch 18, change: 0.00067532\n",
            "Epoch 4, change: 0.18030994\n",
            "Epoch 6, change: 0.14418231\n",
            "Epoch 19, change: 0.00071309\n",
            "Epoch 5, change: 0.19097428\n",
            "Epoch 7, change: 0.12024204\n",
            "Epoch 6, change: 0.17537174\n",
            "Epoch 8, change: 0.12016664\n",
            "Epoch 7, change: 0.14823720\n",
            "Epoch 9, change: 0.06209898\n",
            "Epoch 8, change: 0.08668792\n",
            "Epoch 10, change: 0.03222751\n",
            "Epoch 9, change: 0.07764628\n",
            "Epoch 11, change: 0.01514788\n",
            "Epoch 10, change: 0.02470623\n",
            "Epoch 12, change: 0.05496876\n",
            "Epoch 11, change: 0.01863197\n",
            "Epoch 13, change: 0.00711247\n",
            "Epoch 20, change: 0.00022852\n",
            "Epoch 12, change: 0.07395125\n",
            "Epoch 14, change: 0.00685871\n",
            "Epoch 21, change: 0.00041751\n",
            "Epoch 13, change: 0.00973574\n",
            "Epoch 22, change: 0.00017287\n",
            "Epoch 14, change: 0.00790966\n",
            "Epoch 23, change: 0.00017632\n",
            "Epoch 15, change: 0.01008815\n",
            "Epoch 16, change: 0.00233776\n",
            "Epoch 17, change: 0.00203519\n",
            "Epoch 18, change: 0.00071966\n",
            "Epoch 19, change: 0.00261648\n",
            "Epoch 20, change: 0.00088160\n",
            "Epoch 21, change: 0.00094923\n",
            "convergence after 24 epochs took 0 seconds\n",
            "Epoch 15, change: 0.00781749\n",
            "Epoch 22, change: 0.00057636\n",
            "Epoch 16, change: 0.00225562\n",
            "Epoch 23, change: 0.00045243\n",
            "Epoch 17, change: 0.00159015\n",
            "convergence after 24 epochs took 0 seconds\n",
            "Epoch 18, change: 0.00054417\n",
            "Epoch 19, change: 0.00189728\n",
            "Epoch 20, change: 0.00052098\n",
            "Epoch 21, change: 0.00096704\n",
            "Epoch 22, change: 0.00049920\n",
            "Epoch 23, change: 0.00032517\n",
            "convergence after 24 epochs took 0 seconds\n",
            "\n",
            "At iterate   23    f=  3.94956D+03    |proj g|=  1.40257D-02\n",
            "\n",
            "At iterate   24    f=  3.94956D+03    |proj g|=  6.66000D-02\n",
            "\n",
            "           * * *\n",
            "\n",
            "Tit   = total number of iterations\n",
            "Tnf   = total number of function evaluations\n",
            "Tnint = total number of segments explored during Cauchy searches\n",
            "Skip  = number of BFGS updates skipped\n",
            "Nact  = number of active bounds at final generalized Cauchy point\n",
            "Projg = norm of the final projected gradient\n",
            "F     = final function value\n",
            "\n",
            "           * * *\n",
            "\n",
            "   N    Tit     Tnf  Tnint  Skip  Nact     Projg        F\n",
            "11076     24     27      1     0     0   6.660D-02   3.950D+03\n",
            "  F =   3949.5575080390627     \n",
            "\n",
            "CONVERGENCE: REL_REDUCTION_OF_F_<=_FACTR*EPSMCH             \n"
          ]
        },
        {
          "name": "stderr",
          "output_type": "stream",
          "text": [
            "[Parallel(n_jobs=1)]: Done   1 out of   1 | elapsed:    4.4s remaining:    0.0s\n",
            "[Parallel(n_jobs=1)]: Done   1 out of   1 | elapsed:    4.4s finished\n"
          ]
        },
        {
          "name": "stdout",
          "output_type": "stream",
          "text": [
            "66.14130115509033\n"
          ]
        }
      ],
      "source": [
        "\n",
        "start = time.time()\n",
        "tfidf_logit_pipeline.fit(x_train, y_train)\n",
        "end = time.time()\n",
        "print(end - start) "
      ]
    },
    {
      "cell_type": "code",
      "execution_count": 59,
      "metadata": {},
      "outputs": [],
      "source": [
        "#from numba import jit, cuda"
      ]
    },
    {
      "cell_type": "code",
      "execution_count": 60,
      "metadata": {
        "colab": {
          "base_uri": "https://localhost:8080/"
        },
        "id": "rxQ8oB5P0-dg",
        "outputId": "fad517fe-8a10-4853-da86-4e641ce440d9"
      },
      "outputs": [],
      "source": [
        "# @jit(target_backend='cuda')    \n",
        "# def tfidf_pipeline(x_train, y_train):\n",
        "#     start = time.time()\n",
        "#     tfidf_logit_pipeline.fit(x_train, y_train)\n",
        "#     end = time.time()\n",
        "#     print(end - start)  \n",
        "    \n",
        "# tfidf_pipeline(x_train, y_train)"
      ]
    },
    {
      "cell_type": "code",
      "execution_count": 61,
      "metadata": {
        "colab": {
          "base_uri": "https://localhost:8080/"
        },
        "id": "KDRTlTbk7iUm",
        "outputId": "e0f923b0-28d6-4311-e911-dc24e0aae887"
      },
      "outputs": [
        {
          "name": "stdout",
          "output_type": "stream",
          "text": [
            "{'solver': 'lbfgs', 'verbose': 0}\n",
            "0.6026666666666666\n"
          ]
        }
      ],
      "source": [
        "print(logit_classifier.best_params_)\n",
        "print(logit_classifier.best_score_)"
      ]
    },
    {
      "cell_type": "code",
      "execution_count": 63,
      "metadata": {
        "id": "I_nYoISO7jPF"
      },
      "outputs": [],
      "source": [
        "# @jit(target_backend='cuda')    \n",
        "# def pred_tfidf(x_test):\n",
        "#     return tfidf_logit_pipeline.predict(x_test)\n",
        "\n",
        "#  pred_tfidf(x_test)"
      ]
    },
    {
      "cell_type": "code",
      "execution_count": 64,
      "metadata": {
        "colab": {
          "base_uri": "https://localhost:8080/"
        },
        "id": "l5wuGryG7l9F",
        "outputId": "a46b22f1-ade2-4928-947e-b3907fb15214"
      },
      "outputs": [
        {
          "data": {
            "text/plain": [
              "0.6076"
            ]
          },
          "execution_count": 64,
          "metadata": {},
          "output_type": "execute_result"
        }
      ],
      "source": [
        "accuracy_score(y_test, valid_pred)"
      ]
    },
    {
      "cell_type": "code",
      "execution_count": 72,
      "metadata": {
        "colab": {
          "base_uri": "https://localhost:8080/"
        },
        "id": "PvNxigMA7ogp",
        "outputId": "509bffb5-49ad-4861-bb41-a8d0b21eae12"
      },
      "outputs": [
        {
          "name": "stdout",
          "output_type": "stream",
          "text": [
            "Model Performance Statistic Suite-1: \n",
            "Accuracy:  0.6076\n",
            "Precision:  0.6076\n",
            "Recall:  0.59375\n",
            "F1 Score:  0.6193247962747381\n",
            "Micro f1:  0.6076\n",
            "Sensitivity :  0.6237024221453287\n",
            "Specificity :  0.59375\n"
          ]
        }
      ],
      "source": [
        "# Getting the accuracy metric\n",
        "acc = accuracy_score(valid_pred, y_test)\n",
        "pre = precision_score(valid_pred, y_test, average = 'micro')\n",
        "rec = recall_score(valid_pred, y_test)\n",
        "f1 = f1_score(valid_pred, y_test)\n",
        "micro_f1 = f1_score(valid_pred, y_test, average = 'micro')\n",
        "\n",
        "print ('Model Performance Statistic Suite-1: ')\n",
        "print ('Accuracy: ', acc)\n",
        "print ('Precision: ', pre)\n",
        "print ('Recall: ',rec)\n",
        "print ('F1 Score: ', f1)\n",
        "print('Micro f1: ', micro_f1)\n",
        "\n",
        "cm = confusion_matrix(y_test,valid_pred)\n",
        "\n",
        "sensitivity = cm[0,0]/(cm[0,0]+cm[1,0])\n",
        "print('Sensitivity : ', sensitivity )\n",
        "\n",
        "specificity = cm[1,1]/(cm[0,1]+cm[1,1])\n",
        "print('Specificity : ', specificity)"
      ]
    },
    {
      "cell_type": "code",
      "execution_count": 73,
      "metadata": {
        "colab": {
          "base_uri": "https://localhost:8080/",
          "height": 413
        },
        "id": "lFhbO3zK7rA4",
        "outputId": "08cc04dd-9047-4fa7-9bd9-b8f0ed903b03"
      },
      "outputs": [
        {
          "data": {
            "image/png": "[encoded data removed]",
            "text/plain": [
              "<Figure size 800x600 with 1 Axes>"
            ]
          },
          "metadata": {},
          "output_type": "display_data"
        }
      ],
      "source": [
        "cm =  pd.DataFrame(cm, index=['Non-sarcastic','Sarcastic'],columns=['Non-sarcastic','Sarcastic'])\n",
        "fig = plt.figure(figsize=(8,6))\n",
        "ax = sns.heatmap(cm,annot=True,cbar=False, cmap='Greens',linewidths=0.5,fmt='.0f')\n",
        "ax.set_title('Confusion Matrix',fontsize=16,y=1.25)\n",
        "ax.set_ylabel('Actual',fontsize=14)\n",
        "ax.set_xlabel('Predicted',fontsize=14)\n",
        "ax.xaxis.set_ticks_position('top')\n",
        "ax.xaxis.set_label_position('top')\n",
        "ax.tick_params(labelsize=12)"
      ]
    },
    {
      "cell_type": "code",
      "execution_count": 74,
      "metadata": {},
      "outputs": [],
      "source": [
        "from sklearn.svm import SVC"
      ]
    },
    {
      "cell_type": "code",
      "execution_count": 76,
      "metadata": {},
      "outputs": [],
      "source": [
        "# # def stemmed_words(doc):\n",
        "#       return (PorterStemmer().stem(w) for w in analyzer(doc))\n",
        "\n",
        "# def lemmatized_words(doc):\n",
        "#   return (WordNetLemmatizer().lemmatize(w) for w in analyzer(doc))"
      ]
    },
    {
      "cell_type": "code",
      "execution_count": 79,
      "metadata": {},
      "outputs": [
        {
          "name": "stderr",
          "output_type": "stream",
          "text": [
            "/usr/local/lib/python3.10/dist-packages/sklearn/model_selection/_validation.py:378: FitFailedWarning: \n",
            "20 fits failed out of a total of 40.\n",
            "The score on these train-test partitions for these parameters will be set to nan.\n",
            "If these failures are not expected, you can try to debug them by setting error_score='raise'.\n",
            "\n",
            "Below are more details about the failures:\n",
            "--------------------------------------------------------------------------------\n",
            "20 fits failed with the following error:\n",
            "Traceback (most recent call last):\n",
            "  File \"/usr/local/lib/python3.10/dist-packages/sklearn/model_selection/_validation.py\", line 686, in _fit_and_score\n",
            "    estimator.fit(X_train, y_train, **fit_params)\n",
            "  File \"/usr/local/lib/python3.10/dist-packages/sklearn/pipeline.py\", line 382, in fit\n",
            "    self._final_estimator.fit(Xt, y, **fit_params_last_step)\n",
            "  File \"/usr/local/lib/python3.10/dist-packages/sklearn/svm/_base.py\", line 251, in fit\n",
            "    fit(X, y, sample_weight, solver_type, kernel, random_seed=seed)\n",
            "  File \"/usr/local/lib/python3.10/dist-packages/sklearn/svm/_base.py\", line 374, in _sparse_fit\n",
            "    ) = libsvm_sparse.libsvm_sparse_train(\n",
            "  File \"sklearn/svm/_libsvm_sparse.pyx\", line 152, in sklearn.svm._libsvm_sparse.libsvm_sparse_train\n",
            "ValueError: b'C <= 0'\n",
            "\n",
            "  warnings.warn(some_fits_failed_message, FitFailedWarning)\n",
            "/usr/local/lib/python3.10/dist-packages/sklearn/model_selection/_search.py:953: UserWarning: One or more of the test scores are non-finite: [     nan      nan 0.629625 0.63125 ]\n",
            "  warnings.warn(\n"
          ]
        },
        {
          "name": "stdout",
          "output_type": "stream",
          "text": [
            "********* Best Set of Parameters ********* \n",
            "\n",
            "\n",
            "Pipeline(steps=[('vect', CountVectorizer(token_pattern='\\\\b\\\\w+\\\\b')),\n",
            "                ('tfidf', TfidfTransformer()),\n",
            "                ('clf', SVC(C=1, kernel='poly'))])\n"
          ]
        }
      ],
      "source": [
        "train_x, test_x, train_y, test_y = train_test_split(corpus, labels, test_size=0.20, random_state=42,stratify=labels)\n",
        "#Classifier\n",
        "\n",
        "clf=SVC()\n",
        "\n",
        "clf_parameters = {'clf__kernel':('linear', 'poly'),#, 'rbf', 'sigmoid'),\n",
        "                  'clf__C' : (0,1),#,3,5,10),\n",
        "                  }    \n",
        "        \n",
        "#Feature Extraction\n",
        "pipeline = Pipeline([\n",
        "('vect', CountVectorizer(token_pattern=r'\\b\\w+\\b')),\n",
        "('tfidf', TfidfTransformer(use_idf=True,smooth_idf=True)),     \n",
        "('clf', clf),]) \n",
        "    \n",
        "\n",
        "\n",
        "#Classificaion\n",
        "parameters={**clf_parameters} \n",
        "grid = GridSearchCV(pipeline,parameters,scoring='f1_micro',cv=10)          \n",
        "grid.fit(train_x,train_y)     \n",
        "clf= grid.best_estimator_  \n",
        "print('********* Best Set of Parameters ********* \\n\\n')\n",
        "print(clf)\n",
        "\n",
        "predicted = clf.predict(test_x)\n",
        "predicted =list(predicted)\n"
      ]
    },
    {
      "cell_type": "code",
      "execution_count": 81,
      "metadata": {},
      "outputs": [
        {
          "data": {
            "text/plain": [
              "0.613"
            ]
          },
          "execution_count": 81,
          "metadata": {},
          "output_type": "execute_result"
        }
      ],
      "source": [
        "accuracy_score(test_y, predicted)"
      ]
    },
    {
      "cell_type": "code",
      "execution_count": 82,
      "metadata": {},
      "outputs": [
        {
          "name": "stdout",
          "output_type": "stream",
          "text": [
            "Model Performance Statistic Suite-2: \n",
            "Accuracy:  0.613\n",
            "Precision:  0.613\n",
            "Recall:  0.6054613935969868\n",
            "F1 Score:  0.6242718446601943\n",
            "Micro f1:  0.613\n",
            "Sensitivity :  0.5818363273453094\n",
            "Specificity :  0.6442885771543087\n"
          ]
        }
      ],
      "source": [
        "# Getting the accuracy metric\n",
        "acc = accuracy_score(predicted, test_y)\n",
        "pre = precision_score(predicted, test_y, average = 'micro')\n",
        "rec = recall_score(predicted, test_y)\n",
        "f1 = f1_score(predicted, test_y)\n",
        "micro_f1 = f1_score(predicted, test_y, average = 'micro')\n",
        "\n",
        "print ('Model Performance Statistic Suite-2: ')\n",
        "print ('Accuracy: ', acc)\n",
        "print ('Precision: ', pre)\n",
        "print ('Recall: ',rec)\n",
        "print ('F1 Score: ', f1)\n",
        "print('Micro f1: ', micro_f1)\n",
        "\n",
        "cm = confusion_matrix(predicted, test_y)\n",
        "\n",
        "sensitivity = cm[0,0]/(cm[0,0]+cm[1,0])\n",
        "print('Sensitivity : ', sensitivity )\n",
        "\n",
        "specificity = cm[1,1]/(cm[0,1]+cm[1,1])\n",
        "print('Specificity : ', specificity)"
      ]
    },
    {
      "cell_type": "code",
      "execution_count": 83,
      "metadata": {},
      "outputs": [
        {
          "data": {
            "image/png": "[encoded data removed]",
            "text/plain": [
              "<Figure size 800x600 with 1 Axes>"
            ]
          },
          "metadata": {},
          "output_type": "display_data"
        }
      ],
      "source": [
        "cm =  pd.DataFrame(cm, index=['Non-sarcastic','Sarcastic'],columns=['Non-sarcastic','Sarcastic'])\n",
        "fig = plt.figure(figsize=(8,6))\n",
        "ax = sns.heatmap(cm,annot=True,cbar=False, cmap='Greens',linewidths=0.5,fmt='.0f')\n",
        "ax.set_title('Confusion Matrix',fontsize=16,y=1.25)\n",
        "ax.set_ylabel('Actual',fontsize=14)\n",
        "ax.set_xlabel('Predicted',fontsize=14)\n",
        "ax.xaxis.set_ticks_position('top')\n",
        "ax.xaxis.set_label_position('top')\n",
        "ax.tick_params(labelsize=12)"
      ]
    },
    {
      "cell_type": "code",
      "execution_count": 84,
      "metadata": {},
      "outputs": [],
      "source": [
        "from sklearn.naive_bayes import MultinomialNB"
      ]
    },
    {
      "cell_type": "code",
      "execution_count": 85,
      "metadata": {},
      "outputs": [
        {
          "name": "stderr",
          "output_type": "stream",
          "text": [
            "/usr/local/lib/python3.10/dist-packages/sklearn/naive_bayes.py:591: UserWarning: alpha too small will result in numeric errors, setting alpha = 1.0e-10\n",
            "  warnings.warn(\n",
            "/usr/local/lib/python3.10/dist-packages/sklearn/naive_bayes.py:591: UserWarning: alpha too small will result in numeric errors, setting alpha = 1.0e-10\n",
            "  warnings.warn(\n",
            "/usr/local/lib/python3.10/dist-packages/sklearn/naive_bayes.py:591: UserWarning: alpha too small will result in numeric errors, setting alpha = 1.0e-10\n",
            "  warnings.warn(\n",
            "/usr/local/lib/python3.10/dist-packages/sklearn/naive_bayes.py:591: UserWarning: alpha too small will result in numeric errors, setting alpha = 1.0e-10\n",
            "  warnings.warn(\n",
            "/usr/local/lib/python3.10/dist-packages/sklearn/naive_bayes.py:591: UserWarning: alpha too small will result in numeric errors, setting alpha = 1.0e-10\n",
            "  warnings.warn(\n",
            "/usr/local/lib/python3.10/dist-packages/sklearn/naive_bayes.py:591: UserWarning: alpha too small will result in numeric errors, setting alpha = 1.0e-10\n",
            "  warnings.warn(\n",
            "/usr/local/lib/python3.10/dist-packages/sklearn/naive_bayes.py:591: UserWarning: alpha too small will result in numeric errors, setting alpha = 1.0e-10\n",
            "  warnings.warn(\n",
            "/usr/local/lib/python3.10/dist-packages/sklearn/naive_bayes.py:591: UserWarning: alpha too small will result in numeric errors, setting alpha = 1.0e-10\n",
            "  warnings.warn(\n",
            "/usr/local/lib/python3.10/dist-packages/sklearn/naive_bayes.py:591: UserWarning: alpha too small will result in numeric errors, setting alpha = 1.0e-10\n",
            "  warnings.warn(\n",
            "/usr/local/lib/python3.10/dist-packages/sklearn/naive_bayes.py:591: UserWarning: alpha too small will result in numeric errors, setting alpha = 1.0e-10\n",
            "  warnings.warn(\n"
          ]
        },
        {
          "name": "stdout",
          "output_type": "stream",
          "text": [
            "********* Best Set of Parameters ********* \n",
            "\n",
            "\n",
            "Pipeline(steps=[('vect', CountVectorizer(token_pattern='\\\\b\\\\w+\\\\b')),\n",
            "                ('tfidf', TfidfTransformer()),\n",
            "                ('clf', MultinomialNB(alpha=2))])\n"
          ]
        }
      ],
      "source": [
        "train_x, test_x, train_y, test_y = train_test_split(corpus, labels, test_size=0.20, random_state=42,stratify=labels)\n",
        "#Classifier\n",
        "\n",
        "clf=MultinomialNB(fit_prior=True, class_prior=None)\n",
        "\n",
        "\n",
        "clf_parameters = {'clf__alpha':(0,1,2),}   \n",
        "        \n",
        "#Feature Extraction\n",
        "pipeline = Pipeline([\n",
        "('vect', CountVectorizer(token_pattern=r'\\b\\w+\\b')),\n",
        "('tfidf', TfidfTransformer(use_idf=True,smooth_idf=True)),     \n",
        "('clf', clf),]) \n",
        "    \n",
        "\n",
        "\n",
        "#Classificaion\n",
        "parameters={**clf_parameters} \n",
        "grid = GridSearchCV(pipeline,parameters,scoring='f1_micro',cv=10)          \n",
        "grid.fit(train_x,train_y)     \n",
        "clf= grid.best_estimator_  \n",
        "print('********* Best Set of Parameters ********* \\n\\n')\n",
        "print(clf)\n",
        "\n",
        "predicted = clf.predict(test_x)\n",
        "predicted =list(predicted)\n"
      ]
    },
    {
      "cell_type": "code",
      "execution_count": 86,
      "metadata": {},
      "outputs": [
        {
          "data": {
            "text/plain": [
              "0.5985"
            ]
          },
          "execution_count": 86,
          "metadata": {},
          "output_type": "execute_result"
        }
      ],
      "source": [
        "accuracy_score(test_y, predicted)"
      ]
    },
    {
      "cell_type": "code",
      "execution_count": 88,
      "metadata": {},
      "outputs": [
        {
          "name": "stdout",
          "output_type": "stream",
          "text": [
            "Model Performance Statistic Suite-3: \n",
            "Accuracy:  0.5985\n",
            "Precision:  0.5985\n",
            "Recall:  0.6162097735399285\n",
            "F1 Score:  0.562874251497006\n",
            "Micro f1:  0.5985\n",
            "Sensitivity :  0.6786427145708582\n",
            "Specificity :  0.5180360721442886\n"
          ]
        }
      ],
      "source": [
        "# Getting the accuracy metric\n",
        "acc = accuracy_score(predicted, test_y)\n",
        "pre = precision_score(predicted, test_y, average = 'micro')\n",
        "rec = recall_score(predicted, test_y)\n",
        "f1 = f1_score(predicted, test_y)\n",
        "micro_f1 = f1_score(predicted, test_y, average = 'micro')\n",
        "\n",
        "print ('Model Performance Statistic Suite-3: ')\n",
        "print ('Accuracy: ', acc)\n",
        "print ('Precision: ', pre)\n",
        "print ('Recall: ',rec)\n",
        "print ('F1 Score: ', f1)\n",
        "print('Micro f1: ', micro_f1)\n",
        "\n",
        "cm = confusion_matrix(predicted, test_y)\n",
        "\n",
        "sensitivity = cm[0,0]/(cm[0,0]+cm[1,0])\n",
        "print('Sensitivity : ', sensitivity )\n",
        "\n",
        "specificity = cm[1,1]/(cm[0,1]+cm[1,1])\n",
        "print('Specificity : ', specificity)"
      ]
    },
    {
      "cell_type": "code",
      "execution_count": 89,
      "metadata": {},
      "outputs": [
        {
          "data": {
            "image/png": "[encoded data removed]",
            "text/plain": [
              "<Figure size 800x600 with 1 Axes>"
            ]
          },
          "metadata": {},
          "output_type": "display_data"
        }
      ],
      "source": [
        "cm =  pd.DataFrame(cm, index=['Non-sarcastic','Sarcastic'],columns=['Non-sarcastic','Sarcastic'])\n",
        "fig = plt.figure(figsize=(8,6))\n",
        "ax = sns.heatmap(cm,annot=True,cbar=False, cmap='Greens',linewidths=0.5,fmt='.0f')\n",
        "ax.set_title('Confusion Matrix',fontsize=16,y=1.25)\n",
        "ax.set_ylabel('Actual',fontsize=14)\n",
        "ax.set_xlabel('Predicted',fontsize=14)\n",
        "ax.xaxis.set_ticks_position('top')\n",
        "ax.xaxis.set_label_position('top')\n",
        "ax.tick_params(labelsize=12)"
      ]
    },
    {
      "cell_type": "markdown",
      "metadata": {},
      "source": [
        "Stemming applied to comments "
      ]
    },
    {
      "cell_type": "code",
      "execution_count": 90,
      "metadata": {},
      "outputs": [],
      "source": [
        "analyzer = CountVectorizer().build_analyzer()\n",
        "def stemmed_words(doc):\n",
        "  return (PorterStemmer().stem(w) for w in analyzer(doc))"
      ]
    },
    {
      "cell_type": "code",
      "execution_count": 92,
      "metadata": {},
      "outputs": [],
      "source": [
        "clf=MultinomialNB(alpha=0,fit_prior=True, class_prior=None)  \n",
        "vectorizer=TfidfVectorizer(analyzer = stemmed_words,ngram_range=(1,1),token_pattern=r'\\b\\w+\\b')\n",
        "tfidf = vectorizer.fit_transform(corpus)\n",
        "tfidf = tfidf.toarray()"
      ]
    },
    {
      "cell_type": "code",
      "execution_count": 93,
      "metadata": {},
      "outputs": [],
      "source": [
        "train_x, test_x, train_y, test_y = train_test_split(tfidf, labels, test_size=0.20, random_state=42,stratify=labels)"
      ]
    },
    {
      "cell_type": "code",
      "execution_count": 94,
      "metadata": {},
      "outputs": [
        {
          "name": "stderr",
          "output_type": "stream",
          "text": [
            "/usr/local/lib/python3.10/dist-packages/sklearn/naive_bayes.py:591: UserWarning: alpha too small will result in numeric errors, setting alpha = 1.0e-10\n",
            "  warnings.warn(\n"
          ]
        }
      ],
      "source": [
        "clf.fit(train_x,train_y)\n",
        "predicted = clf.predict(test_x)\n",
        "predicted =list(predicted)"
      ]
    },
    {
      "cell_type": "code",
      "execution_count": 95,
      "metadata": {},
      "outputs": [
        {
          "data": {
            "text/plain": [
              "0.571"
            ]
          },
          "execution_count": 95,
          "metadata": {},
          "output_type": "execute_result"
        }
      ],
      "source": [
        "accuracy_score(test_y, predicted)"
      ]
    },
    {
      "cell_type": "code",
      "execution_count": 96,
      "metadata": {},
      "outputs": [
        {
          "name": "stdout",
          "output_type": "stream",
          "text": [
            "Model Performance Statistic Suite-4: \n",
            "Accuracy:  0.571\n",
            "Precision:  0.571\n",
            "Recall:  0.5704225352112676\n",
            "F1 Score:  0.5692771084337349\n",
            "Micro f1:  0.571\n",
            "Sensitivity :  0.5738522954091816\n",
            "Specificity :  0.5681362725450901\n"
          ]
        }
      ],
      "source": [
        "# Getting the accuracy metric\n",
        "acc = accuracy_score(predicted, test_y)\n",
        "pre = precision_score(predicted, test_y, average = 'micro')\n",
        "rec = recall_score(predicted, test_y)\n",
        "f1 = f1_score(predicted, test_y)\n",
        "micro_f1 = f1_score(predicted, test_y, average = 'micro')\n",
        "\n",
        "print ('Model Performance Statistic Suite-4: ')\n",
        "print ('Accuracy: ', acc)\n",
        "print ('Precision: ', pre)\n",
        "print ('Recall: ',rec)\n",
        "print ('F1 Score: ', f1)\n",
        "print('Micro f1: ', micro_f1)\n",
        "\n",
        "cm = confusion_matrix(predicted, test_y)\n",
        "\n",
        "sensitivity = cm[0,0]/(cm[0,0]+cm[1,0])\n",
        "print('Sensitivity : ', sensitivity )\n",
        "\n",
        "specificity = cm[1,1]/(cm[0,1]+cm[1,1])\n",
        "print('Specificity : ', specificity)"
      ]
    },
    {
      "cell_type": "code",
      "execution_count": 97,
      "metadata": {},
      "outputs": [
        {
          "data": {
            "image/png": "[encoded data removed]",
            "text/plain": [
              "<Figure size 800x600 with 1 Axes>"
            ]
          },
          "metadata": {},
          "output_type": "display_data"
        }
      ],
      "source": [
        "cm =  pd.DataFrame(cm, index=['Non-sarcastic','Sarcastic'],columns=['Non-sarcastic','Sarcastic'])\n",
        "fig = plt.figure(figsize=(8,6))\n",
        "ax = sns.heatmap(cm,annot=True,cbar=False, cmap='Greens',linewidths=0.5,fmt='.0f')\n",
        "ax.set_title('Confusion Matrix',fontsize=16,y=1.25)\n",
        "ax.set_ylabel('Actual',fontsize=14)\n",
        "ax.set_xlabel('Predicted',fontsize=14)\n",
        "ax.xaxis.set_ticks_position('top')\n",
        "ax.xaxis.set_label_position('top')\n",
        "ax.tick_params(labelsize=12)"
      ]
    },
    {
      "cell_type": "markdown",
      "metadata": {},
      "source": [
        "Lemmatization applied to comments"
      ]
    },
    {
      "cell_type": "code",
      "execution_count": 98,
      "metadata": {},
      "outputs": [],
      "source": [
        "from nltk.stem import WordNetLemmatizer"
      ]
    },
    {
      "cell_type": "code",
      "execution_count": 99,
      "metadata": {},
      "outputs": [],
      "source": [
        "analyzer = CountVectorizer().build_analyzer()\n",
        "def lemmatized_words(doc):\n",
        "  return (WordNetLemmatizer().lemmatize(w) for w in analyzer(doc))"
      ]
    },
    {
      "cell_type": "code",
      "execution_count": 100,
      "metadata": {},
      "outputs": [
        {
          "name": "stderr",
          "output_type": "stream",
          "text": [
            "/usr/local/lib/python3.10/dist-packages/sklearn/naive_bayes.py:591: UserWarning: alpha too small will result in numeric errors, setting alpha = 1.0e-10\n",
            "  warnings.warn(\n"
          ]
        }
      ],
      "source": [
        "clf=MultinomialNB(alpha=0,fit_prior=True, class_prior=None)  \n",
        "vectorizer=TfidfVectorizer(analyzer = lemmatized_words,ngram_range=(1,1),token_pattern=r'\\b\\w+\\b')\n",
        "tfidf = vectorizer.fit_transform(corpus)\n",
        "tfidf = tfidf.toarray()\n",
        "# Training and Test Split           \n",
        "  \n",
        "train_x, test_x, train_y, test_y = train_test_split(tfidf, labels, test_size=0.20, random_state=42,stratify=labels)\n",
        "\n",
        "#Classificaion    \n",
        "clf.fit(train_x,train_y)\n",
        "predicted = clf.predict(test_x)\n",
        "predicted =list(predicted)"
      ]
    },
    {
      "cell_type": "code",
      "execution_count": 101,
      "metadata": {},
      "outputs": [
        {
          "data": {
            "text/plain": [
              "0.568"
            ]
          },
          "execution_count": 101,
          "metadata": {},
          "output_type": "execute_result"
        }
      ],
      "source": [
        "accuracy_score(test_y, predicted)"
      ]
    },
    {
      "cell_type": "code",
      "execution_count": 103,
      "metadata": {},
      "outputs": [
        {
          "name": "stdout",
          "output_type": "stream",
          "text": [
            "Model Performance Statistic Suite-5: \n",
            "Accuracy:  0.568\n",
            "Precision:  0.568\n",
            "Recall:  0.5682281059063137\n",
            "F1 Score:  0.5636363636363636\n",
            "Micro f1:  0.568\n",
            "Sensitivity :  0.5768463073852296\n",
            "Specificity :  0.5591182364729459\n"
          ]
        }
      ],
      "source": [
        "# Getting the accuracy metric\n",
        "acc = accuracy_score(predicted, test_y)\n",
        "pre = precision_score(predicted, test_y, average = 'micro')\n",
        "rec = recall_score(predicted, test_y)\n",
        "f1 = f1_score(predicted, test_y)\n",
        "micro_f1 = f1_score(predicted, test_y, average = 'micro')\n",
        "\n",
        "print ('Model Performance Statistic Suite-5: ')\n",
        "print ('Accuracy: ', acc)\n",
        "print ('Precision: ', pre)\n",
        "print ('Recall: ',rec)\n",
        "print ('F1 Score: ', f1)\n",
        "print('Micro f1: ', micro_f1)\n",
        "\n",
        "cm = confusion_matrix(predicted, test_y)\n",
        "\n",
        "sensitivity = cm[0,0]/(cm[0,0]+cm[1,0])\n",
        "print('Sensitivity : ', sensitivity )\n",
        "\n",
        "specificity = cm[1,1]/(cm[0,1]+cm[1,1])\n",
        "print('Specificity : ', specificity)"
      ]
    },
    {
      "cell_type": "code",
      "execution_count": 104,
      "metadata": {},
      "outputs": [
        {
          "data": {
            "image/png": "[encoded data removed]",
            "text/plain": [
              "<Figure size 800x600 with 1 Axes>"
            ]
          },
          "metadata": {},
          "output_type": "display_data"
        }
      ],
      "source": [
        "cm =  pd.DataFrame(cm, index=['Non-sarcastic','Sarcastic'],columns=['Non-sarcastic','Sarcastic'])\n",
        "fig = plt.figure(figsize=(8,6))\n",
        "ax = sns.heatmap(cm,annot=True,cbar=False, cmap='Greens',linewidths=0.5,fmt='.0f')\n",
        "ax.set_title('Confusion Matrix',fontsize=16,y=1.25)\n",
        "ax.set_ylabel('Actual',fontsize=14)\n",
        "ax.set_xlabel('Predicted',fontsize=14)\n",
        "ax.xaxis.set_ticks_position('top')\n",
        "ax.xaxis.set_label_position('top')\n",
        "ax.tick_params(labelsize=12)"
      ]
    },
    {
      "cell_type": "markdown",
      "metadata": {},
      "source": [
        "Without removing stopwords"
      ]
    },
    {
      "cell_type": "code",
      "execution_count": 105,
      "metadata": {},
      "outputs": [
        {
          "name": "stderr",
          "output_type": "stream",
          "text": [
            "/usr/local/lib/python3.10/dist-packages/sklearn/naive_bayes.py:591: UserWarning: alpha too small will result in numeric errors, setting alpha = 1.0e-10\n",
            "  warnings.warn(\n"
          ]
        }
      ],
      "source": [
        "clf=MultinomialNB(alpha=0,fit_prior=True, class_prior=None)  \n",
        "vectorizer=TfidfVectorizer(ngram_range=(1,1),token_pattern=r'\\b\\w+\\b')\n",
        "tfidf = vectorizer.fit_transform(corpus)\n",
        "tfidf = tfidf.toarray()\n",
        "# Training and Test Split           \n",
        "  \n",
        "train_x, test_x, train_y, test_y = train_test_split(tfidf, labels, test_size=0.20, random_state=42,stratify=labels)\n",
        "\n",
        "#Classificaion    \n",
        "clf.fit(train_x,train_y)\n",
        "predicted = clf.predict(test_x)\n",
        "predicted =list(predicted)"
      ]
    },
    {
      "cell_type": "code",
      "execution_count": 106,
      "metadata": {},
      "outputs": [
        {
          "data": {
            "text/plain": [
              "0.562"
            ]
          },
          "execution_count": 106,
          "metadata": {},
          "output_type": "execute_result"
        }
      ],
      "source": [
        "accuracy_score(test_y, predicted)"
      ]
    },
    {
      "cell_type": "code",
      "execution_count": 108,
      "metadata": {},
      "outputs": [
        {
          "name": "stdout",
          "output_type": "stream",
          "text": [
            "Model Performance Statistic Suite-6: \n",
            "Accuracy:  0.562\n",
            "Precision:  0.562\n",
            "Recall:  0.561\n",
            "F1 Score:  0.5615615615615616\n",
            "Micro f1:  0.562\n",
            "Sensitivity :  0.56187624750499\n",
            "Specificity :  0.5621242484969939\n"
          ]
        }
      ],
      "source": [
        "# Getting the accuracy metric\n",
        "acc = accuracy_score(predicted, test_y)\n",
        "pre = precision_score(predicted, test_y, average = 'micro')\n",
        "rec = recall_score(predicted, test_y)\n",
        "f1 = f1_score(predicted, test_y)\n",
        "micro_f1 = f1_score(predicted, test_y, average = 'micro')\n",
        "\n",
        "print ('Model Performance Statistic Suite-6: ')\n",
        "print ('Accuracy: ', acc)\n",
        "print ('Precision: ', pre)\n",
        "print ('Recall: ',rec)\n",
        "print ('F1 Score: ', f1)\n",
        "print('Micro f1: ', micro_f1)\n",
        "\n",
        "cm = confusion_matrix(predicted, test_y)\n",
        "\n",
        "sensitivity = cm[0,0]/(cm[0,0]+cm[1,0])\n",
        "print('Sensitivity : ', sensitivity )\n",
        "\n",
        "specificity = cm[1,1]/(cm[0,1]+cm[1,1])\n",
        "print('Specificity : ', specificity)"
      ]
    },
    {
      "cell_type": "code",
      "execution_count": 109,
      "metadata": {},
      "outputs": [
        {
          "data": {
            "image/png": "[encoded data removed]",
            "text/plain": [
              "<Figure size 800x600 with 1 Axes>"
            ]
          },
          "metadata": {},
          "output_type": "display_data"
        }
      ],
      "source": [
        "cm =  pd.DataFrame(cm, index=['Non-sarcastic','Sarcastic'],columns=['Non-sarcastic','Sarcastic'])\n",
        "fig = plt.figure(figsize=(8,6))\n",
        "ax = sns.heatmap(cm,annot=True,cbar=False, cmap='Greens',linewidths=0.5,fmt='.0f')\n",
        "ax.set_title('Confusion Matrix',fontsize=16,y=1.25)\n",
        "ax.set_ylabel('Actual',fontsize=14)\n",
        "ax.set_xlabel('Predicted',fontsize=14)\n",
        "ax.xaxis.set_ticks_position('top')\n",
        "ax.xaxis.set_label_position('top')\n",
        "ax.tick_params(labelsize=12)"
      ]
    },
    {
      "cell_type": "code",
      "execution_count": 80,
      "metadata": {},
      "outputs": [],
      "source": [
        "# !deactivate"
      ]
    },
    {
      "cell_type": "code",
      "execution_count": null,
      "metadata": {},
      "outputs": [],
      "source": []
    }
  ],
  "metadata": {
    "accelerator": "GPU",
    "colab": {
      "provenance": []
    },
    "gpuClass": "standard",
    "kernelspec": {
      "display_name": "Python 3.8.2 64-bit",
      "language": "python",
      "name": "python3"
    },
    "language_info": {
      "codemirror_mode": {
        "name": "ipython",
        "version": 3
      },
      "file_extension": ".py",
      "mimetype": "text/x-python",
      "name": "python",
      "nbconvert_exporter": "python",
      "pygments_lexer": "ipython3",
      "version": "3.10.4"
    },
    "vscode": {
      "interpreter": {
        "hash": "31f2aee4e71d21fbe5cf8b01ff0e069b9275f58929596ceb00d14d90e3e16cd6"
      }
    }
  },
  "nbformat": 4,
  "nbformat_minor": 0
}
