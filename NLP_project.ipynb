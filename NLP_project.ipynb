{
  "nbformat": 4,
  "nbformat_minor": 0,
  "metadata": {
    "colab": {
      "provenance": []
    },
    "kernelspec": {
      "name": "python3",
      "display_name": "Python 3"
    },
    "language_info": {
      "name": "python"
    },
    "accelerator": "GPU",
    "gpuClass": "standard"
  },
  "cells": [
    {
      "cell_type": "markdown",
      "source": [
        "**Importing libraries**"
      ],
      "metadata": {
        "id": "gEOgEkSOG2s3"
      }
    },
    {
      "cell_type": "code",
      "execution_count": 1,
      "metadata": {
        "id": "kCQMxr852yrE"
      },
      "outputs": [],
      "source": [
        "import pandas as pd\n",
        "import numpy as np\n",
        "import matplotlib.pyplot as plt\n",
        "import seaborn as sns\n",
        "from wordcloud import WordCloud, STOPWORDS"
      ]
    },
    {
      "cell_type": "markdown",
      "source": [
        "**Importing CSV files**"
      ],
      "metadata": {
        "id": "wpKD_So7G-FY"
      }
    },
    {
      "cell_type": "code",
      "source": [
        "train_df = pd.read_csv(\"/content/project_training_data_with_class_labels.csv\", error_bad_lines=False)"
      ],
      "metadata": {
        "colab": {
          "base_uri": "https://localhost:8080/"
        },
        "id": "LeRSkBPZ28rQ",
        "outputId": "37704462-d8ca-4f39-b7d4-f2f9cd01912b"
      },
      "execution_count": 2,
      "outputs": [
        {
          "output_type": "stream",
          "name": "stderr",
          "text": [
            "/usr/local/lib/python3.7/dist-packages/IPython/core/interactiveshell.py:3326: FutureWarning: The error_bad_lines argument has been deprecated and will be removed in a future version.\n",
            "\n",
            "\n",
            "  exec(code_obj, self.user_global_ns, self.user_ns)\n"
          ]
        }
      ]
    },
    {
      "cell_type": "code",
      "source": [
        "train_df "
      ],
      "metadata": {
        "colab": {
          "base_uri": "https://localhost:8080/",
          "height": 424
        },
        "id": "Hk_ufL1G3Etx",
        "outputId": "05468c46-6398-4018-cf51-53e83126fe38"
      },
      "execution_count": 3,
      "outputs": [
        {
          "output_type": "execute_result",
          "data": {
            "text/plain": [
              "                         ID  \\\n",
              "0                  ocxtitan   \n",
              "1                 LeChuckly   \n",
              "2             throwitskrub8   \n",
              "3          fresherthanyouuu   \n",
              "4                 _kushagra   \n",
              "...                     ...   \n",
              "33885        CannotIntoName   \n",
              "33886               Sora2K8   \n",
              "33887  ProWomanAntiFeminist   \n",
              "33888               quigs17   \n",
              "33889                Jingle   \n",
              "\n",
              "                                                Comments  \\\n",
              "0                                       Central Illinois   \n",
              "1      To think - CNN used to be the acronym synonymo...   \n",
              "2      But then again; you have to consider that all ...   \n",
              "3                                                ughhhhh   \n",
              "4                                    I should've put the   \n",
              "...                                                  ...   \n",
              "33885                      Am a Trotskyist; can confirm.   \n",
              "33886                            I should have bEElieved   \n",
              "33887  Well; that's your choice; but I like being abl...   \n",
              "33888  In that Era even now your best players usually...   \n",
              "33889                                                NaN   \n",
              "\n",
              "                                         Parent Comments  Class Labels   \n",
              "0                              Jesus; where do you live?  non-sarcastic  \n",
              "1      Even The CNN Staff Is Sick Of The Wall-To-Wall...  non-sarcastic  \n",
              "2      agree to that part.It can also mean that gujra...  non-sarcastic  \n",
              "3      If a guy told you he doesn't use social media ...  non-sarcastic  \n",
              "4      No; it's just a programming bug. After all; th...      sarcastic  \n",
              "...                                                  ...            ...  \n",
              "33885                         Trotsky *invented* racism!      sarcastic  \n",
              "33886               Secret prediction still going strong  non-sarcastic  \n",
              "33887                       no; no more fear of the law.  non-sarcastic  \n",
              "33888  I knew that Babe Ruth used to be a pitcher. I ...  non-sarcastic  \n",
              "33889                                                NaN            NaN  \n",
              "\n",
              "[33890 rows x 4 columns]"
            ],
            "text/html": [
              "\n",
              "  <div id=\"df-c24c8771-a368-456a-9cdc-15a32a997d6d\">\n",
              "    <div class=\"colab-df-container\">\n",
              "      <div>\n",
              "<style scoped>\n",
              "    .dataframe tbody tr th:only-of-type {\n",
              "        vertical-align: middle;\n",
              "    }\n",
              "\n",
              "    .dataframe tbody tr th {\n",
              "        vertical-align: top;\n",
              "    }\n",
              "\n",
              "    .dataframe thead th {\n",
              "        text-align: right;\n",
              "    }\n",
              "</style>\n",
              "<table border=\"1\" class=\"dataframe\">\n",
              "  <thead>\n",
              "    <tr style=\"text-align: right;\">\n",
              "      <th></th>\n",
              "      <th>ID</th>\n",
              "      <th>Comments</th>\n",
              "      <th>Parent Comments</th>\n",
              "      <th>Class Labels</th>\n",
              "    </tr>\n",
              "  </thead>\n",
              "  <tbody>\n",
              "    <tr>\n",
              "      <th>0</th>\n",
              "      <td>ocxtitan</td>\n",
              "      <td>Central Illinois</td>\n",
              "      <td>Jesus; where do you live?</td>\n",
              "      <td>non-sarcastic</td>\n",
              "    </tr>\n",
              "    <tr>\n",
              "      <th>1</th>\n",
              "      <td>LeChuckly</td>\n",
              "      <td>To think - CNN used to be the acronym synonymo...</td>\n",
              "      <td>Even The CNN Staff Is Sick Of The Wall-To-Wall...</td>\n",
              "      <td>non-sarcastic</td>\n",
              "    </tr>\n",
              "    <tr>\n",
              "      <th>2</th>\n",
              "      <td>throwitskrub8</td>\n",
              "      <td>But then again; you have to consider that all ...</td>\n",
              "      <td>agree to that part.It can also mean that gujra...</td>\n",
              "      <td>non-sarcastic</td>\n",
              "    </tr>\n",
              "    <tr>\n",
              "      <th>3</th>\n",
              "      <td>fresherthanyouuu</td>\n",
              "      <td>ughhhhh</td>\n",
              "      <td>If a guy told you he doesn't use social media ...</td>\n",
              "      <td>non-sarcastic</td>\n",
              "    </tr>\n",
              "    <tr>\n",
              "      <th>4</th>\n",
              "      <td>_kushagra</td>\n",
              "      <td>I should've put the</td>\n",
              "      <td>No; it's just a programming bug. After all; th...</td>\n",
              "      <td>sarcastic</td>\n",
              "    </tr>\n",
              "    <tr>\n",
              "      <th>...</th>\n",
              "      <td>...</td>\n",
              "      <td>...</td>\n",
              "      <td>...</td>\n",
              "      <td>...</td>\n",
              "    </tr>\n",
              "    <tr>\n",
              "      <th>33885</th>\n",
              "      <td>CannotIntoName</td>\n",
              "      <td>Am a Trotskyist; can confirm.</td>\n",
              "      <td>Trotsky *invented* racism!</td>\n",
              "      <td>sarcastic</td>\n",
              "    </tr>\n",
              "    <tr>\n",
              "      <th>33886</th>\n",
              "      <td>Sora2K8</td>\n",
              "      <td>I should have bEElieved</td>\n",
              "      <td>Secret prediction still going strong</td>\n",
              "      <td>non-sarcastic</td>\n",
              "    </tr>\n",
              "    <tr>\n",
              "      <th>33887</th>\n",
              "      <td>ProWomanAntiFeminist</td>\n",
              "      <td>Well; that's your choice; but I like being abl...</td>\n",
              "      <td>no; no more fear of the law.</td>\n",
              "      <td>non-sarcastic</td>\n",
              "    </tr>\n",
              "    <tr>\n",
              "      <th>33888</th>\n",
              "      <td>quigs17</td>\n",
              "      <td>In that Era even now your best players usually...</td>\n",
              "      <td>I knew that Babe Ruth used to be a pitcher. I ...</td>\n",
              "      <td>non-sarcastic</td>\n",
              "    </tr>\n",
              "    <tr>\n",
              "      <th>33889</th>\n",
              "      <td>Jingle</td>\n",
              "      <td>NaN</td>\n",
              "      <td>NaN</td>\n",
              "      <td>NaN</td>\n",
              "    </tr>\n",
              "  </tbody>\n",
              "</table>\n",
              "<p>33890 rows × 4 columns</p>\n",
              "</div>\n",
              "      <button class=\"colab-df-convert\" onclick=\"convertToInteractive('df-c24c8771-a368-456a-9cdc-15a32a997d6d')\"\n",
              "              title=\"Convert this dataframe to an interactive table.\"\n",
              "              style=\"display:none;\">\n",
              "        \n",
              "  <svg xmlns=\"http://www.w3.org/2000/svg\" height=\"24px\"viewBox=\"0 0 24 24\"\n",
              "       width=\"24px\">\n",
              "    <path d=\"M0 0h24v24H0V0z\" fill=\"none\"/>\n",
              "    <path d=\"M18.56 5.44l.94 2.06.94-2.06 2.06-.94-2.06-.94-.94-2.06-.94 2.06-2.06.94zm-11 1L8.5 8.5l.94-2.06 2.06-.94-2.06-.94L8.5 2.5l-.94 2.06-2.06.94zm10 10l.94 2.06.94-2.06 2.06-.94-2.06-.94-.94-2.06-.94 2.06-2.06.94z\"/><path d=\"M17.41 7.96l-1.37-1.37c-.4-.4-.92-.59-1.43-.59-.52 0-1.04.2-1.43.59L10.3 9.45l-7.72 7.72c-.78.78-.78 2.05 0 2.83L4 21.41c.39.39.9.59 1.41.59.51 0 1.02-.2 1.41-.59l7.78-7.78 2.81-2.81c.8-.78.8-2.07 0-2.86zM5.41 20L4 18.59l7.72-7.72 1.47 1.35L5.41 20z\"/>\n",
              "  </svg>\n",
              "      </button>\n",
              "      \n",
              "  <style>\n",
              "    .colab-df-container {\n",
              "      display:flex;\n",
              "      flex-wrap:wrap;\n",
              "      gap: 12px;\n",
              "    }\n",
              "\n",
              "    .colab-df-convert {\n",
              "      background-color: #E8F0FE;\n",
              "      border: none;\n",
              "      border-radius: 50%;\n",
              "      cursor: pointer;\n",
              "      display: none;\n",
              "      fill: #1967D2;\n",
              "      height: 32px;\n",
              "      padding: 0 0 0 0;\n",
              "      width: 32px;\n",
              "    }\n",
              "\n",
              "    .colab-df-convert:hover {\n",
              "      background-color: #E2EBFA;\n",
              "      box-shadow: 0px 1px 2px rgba(60, 64, 67, 0.3), 0px 1px 3px 1px rgba(60, 64, 67, 0.15);\n",
              "      fill: #174EA6;\n",
              "    }\n",
              "\n",
              "    [theme=dark] .colab-df-convert {\n",
              "      background-color: #3B4455;\n",
              "      fill: #D2E3FC;\n",
              "    }\n",
              "\n",
              "    [theme=dark] .colab-df-convert:hover {\n",
              "      background-color: #434B5C;\n",
              "      box-shadow: 0px 1px 3px 1px rgba(0, 0, 0, 0.15);\n",
              "      filter: drop-shadow(0px 1px 2px rgba(0, 0, 0, 0.3));\n",
              "      fill: #FFFFFF;\n",
              "    }\n",
              "  </style>\n",
              "\n",
              "      <script>\n",
              "        const buttonEl =\n",
              "          document.querySelector('#df-c24c8771-a368-456a-9cdc-15a32a997d6d button.colab-df-convert');\n",
              "        buttonEl.style.display =\n",
              "          google.colab.kernel.accessAllowed ? 'block' : 'none';\n",
              "\n",
              "        async function convertToInteractive(key) {\n",
              "          const element = document.querySelector('#df-c24c8771-a368-456a-9cdc-15a32a997d6d');\n",
              "          const dataTable =\n",
              "            await google.colab.kernel.invokeFunction('convertToInteractive',\n",
              "                                                     [key], {});\n",
              "          if (!dataTable) return;\n",
              "\n",
              "          const docLinkHtml = 'Like what you see? Visit the ' +\n",
              "            '<a target=\"_blank\" href=https://colab.research.google.com/notebooks/data_table.ipynb>data table notebook</a>'\n",
              "            + ' to learn more about interactive tables.';\n",
              "          element.innerHTML = '';\n",
              "          dataTable['output_type'] = 'display_data';\n",
              "          await google.colab.output.renderOutput(dataTable, element);\n",
              "          const docLink = document.createElement('div');\n",
              "          docLink.innerHTML = docLinkHtml;\n",
              "          element.appendChild(docLink);\n",
              "        }\n",
              "      </script>\n",
              "    </div>\n",
              "  </div>\n",
              "  "
            ]
          },
          "metadata": {},
          "execution_count": 3
        }
      ]
    },
    {
      "cell_type": "code",
      "source": [
        "test_df = pd.read_csv(\"/content/project_test_data.csv\", error_bad_lines=False)"
      ],
      "metadata": {
        "colab": {
          "base_uri": "https://localhost:8080/"
        },
        "id": "EIJSCZxT3H4d",
        "outputId": "48232e84-b813-4a70-e3f6-db4c3c349774"
      },
      "execution_count": 4,
      "outputs": [
        {
          "output_type": "stream",
          "name": "stderr",
          "text": [
            "/usr/local/lib/python3.7/dist-packages/IPython/core/interactiveshell.py:3326: FutureWarning: The error_bad_lines argument has been deprecated and will be removed in a future version.\n",
            "\n",
            "\n",
            "  exec(code_obj, self.user_global_ns, self.user_ns)\n"
          ]
        }
      ]
    },
    {
      "cell_type": "code",
      "source": [
        "test_df"
      ],
      "metadata": {
        "colab": {
          "base_uri": "https://localhost:8080/",
          "height": 424
        },
        "id": "kGueYzSa3NET",
        "outputId": "a70cd9e7-1b47-4d7c-d55d-573c77ab09d8"
      },
      "execution_count": 5,
      "outputs": [
        {
          "output_type": "execute_result",
          "data": {
            "text/plain": [
              "                       ID                                           Comments  \\\n",
              "0        theyoungthaddeus        No one \"needs\" an assault foam dart blaster   \n",
              "1      Just_an_asian_here  Cause all attractive women are uninteresting a...   \n",
              "2                Foxprowl                                             Poser.   \n",
              "3                  kd7rzv  Won't be long and Anet will start banning peop...   \n",
              "4                Ellefied  There goes my hope that Kubo does a Kojima as ...   \n",
              "...                   ...                                                ...   \n",
              "41075           RiftRacer  I'll be pushing them hard before that... there...   \n",
              "41076       el_mas_gringo               Maybe Lifetime could jump on this...   \n",
              "41077   Whathefuckiswrong   Lol to be fair to mom he was a damn sexy mailman   \n",
              "41078        aliceunknown                                  Looks good so me.   \n",
              "41079       King_Kunta_69                    Yeah because those people are r   \n",
              "\n",
              "                                        Parent Comments   \n",
              "0      Your son has to register those at the county j...  \n",
              "1        Likely due to creative and interesting content.  \n",
              "2                            Jon Stewart is going to HBO  \n",
              "3      This post looks like bullshit market manipulat...  \n",
              "4      Plus the Japanese typically do not talk shit w...  \n",
              "...                                                  ...  \n",
              "41075  It took a month for me to get my returns label...  \n",
              "41076  TIL one in three lesbian women report being se...  \n",
              "41077    Apparently; a lot of you look like the mailman.  \n",
              "41078                                       Um; yeah....  \n",
              "41079                                                NaN  \n",
              "\n",
              "[41080 rows x 3 columns]"
            ],
            "text/html": [
              "\n",
              "  <div id=\"df-f6fcbc35-cb8e-421d-982d-dbd5ed1d835e\">\n",
              "    <div class=\"colab-df-container\">\n",
              "      <div>\n",
              "<style scoped>\n",
              "    .dataframe tbody tr th:only-of-type {\n",
              "        vertical-align: middle;\n",
              "    }\n",
              "\n",
              "    .dataframe tbody tr th {\n",
              "        vertical-align: top;\n",
              "    }\n",
              "\n",
              "    .dataframe thead th {\n",
              "        text-align: right;\n",
              "    }\n",
              "</style>\n",
              "<table border=\"1\" class=\"dataframe\">\n",
              "  <thead>\n",
              "    <tr style=\"text-align: right;\">\n",
              "      <th></th>\n",
              "      <th>ID</th>\n",
              "      <th>Comments</th>\n",
              "      <th>Parent Comments</th>\n",
              "    </tr>\n",
              "  </thead>\n",
              "  <tbody>\n",
              "    <tr>\n",
              "      <th>0</th>\n",
              "      <td>theyoungthaddeus</td>\n",
              "      <td>No one \"needs\" an assault foam dart blaster</td>\n",
              "      <td>Your son has to register those at the county j...</td>\n",
              "    </tr>\n",
              "    <tr>\n",
              "      <th>1</th>\n",
              "      <td>Just_an_asian_here</td>\n",
              "      <td>Cause all attractive women are uninteresting a...</td>\n",
              "      <td>Likely due to creative and interesting content.</td>\n",
              "    </tr>\n",
              "    <tr>\n",
              "      <th>2</th>\n",
              "      <td>Foxprowl</td>\n",
              "      <td>Poser.</td>\n",
              "      <td>Jon Stewart is going to HBO</td>\n",
              "    </tr>\n",
              "    <tr>\n",
              "      <th>3</th>\n",
              "      <td>kd7rzv</td>\n",
              "      <td>Won't be long and Anet will start banning peop...</td>\n",
              "      <td>This post looks like bullshit market manipulat...</td>\n",
              "    </tr>\n",
              "    <tr>\n",
              "      <th>4</th>\n",
              "      <td>Ellefied</td>\n",
              "      <td>There goes my hope that Kubo does a Kojima as ...</td>\n",
              "      <td>Plus the Japanese typically do not talk shit w...</td>\n",
              "    </tr>\n",
              "    <tr>\n",
              "      <th>...</th>\n",
              "      <td>...</td>\n",
              "      <td>...</td>\n",
              "      <td>...</td>\n",
              "    </tr>\n",
              "    <tr>\n",
              "      <th>41075</th>\n",
              "      <td>RiftRacer</td>\n",
              "      <td>I'll be pushing them hard before that... there...</td>\n",
              "      <td>It took a month for me to get my returns label...</td>\n",
              "    </tr>\n",
              "    <tr>\n",
              "      <th>41076</th>\n",
              "      <td>el_mas_gringo</td>\n",
              "      <td>Maybe Lifetime could jump on this...</td>\n",
              "      <td>TIL one in three lesbian women report being se...</td>\n",
              "    </tr>\n",
              "    <tr>\n",
              "      <th>41077</th>\n",
              "      <td>Whathefuckiswrong</td>\n",
              "      <td>Lol to be fair to mom he was a damn sexy mailman</td>\n",
              "      <td>Apparently; a lot of you look like the mailman.</td>\n",
              "    </tr>\n",
              "    <tr>\n",
              "      <th>41078</th>\n",
              "      <td>aliceunknown</td>\n",
              "      <td>Looks good so me.</td>\n",
              "      <td>Um; yeah....</td>\n",
              "    </tr>\n",
              "    <tr>\n",
              "      <th>41079</th>\n",
              "      <td>King_Kunta_69</td>\n",
              "      <td>Yeah because those people are r</td>\n",
              "      <td>NaN</td>\n",
              "    </tr>\n",
              "  </tbody>\n",
              "</table>\n",
              "<p>41080 rows × 3 columns</p>\n",
              "</div>\n",
              "      <button class=\"colab-df-convert\" onclick=\"convertToInteractive('df-f6fcbc35-cb8e-421d-982d-dbd5ed1d835e')\"\n",
              "              title=\"Convert this dataframe to an interactive table.\"\n",
              "              style=\"display:none;\">\n",
              "        \n",
              "  <svg xmlns=\"http://www.w3.org/2000/svg\" height=\"24px\"viewBox=\"0 0 24 24\"\n",
              "       width=\"24px\">\n",
              "    <path d=\"M0 0h24v24H0V0z\" fill=\"none\"/>\n",
              "    <path d=\"M18.56 5.44l.94 2.06.94-2.06 2.06-.94-2.06-.94-.94-2.06-.94 2.06-2.06.94zm-11 1L8.5 8.5l.94-2.06 2.06-.94-2.06-.94L8.5 2.5l-.94 2.06-2.06.94zm10 10l.94 2.06.94-2.06 2.06-.94-2.06-.94-.94-2.06-.94 2.06-2.06.94z\"/><path d=\"M17.41 7.96l-1.37-1.37c-.4-.4-.92-.59-1.43-.59-.52 0-1.04.2-1.43.59L10.3 9.45l-7.72 7.72c-.78.78-.78 2.05 0 2.83L4 21.41c.39.39.9.59 1.41.59.51 0 1.02-.2 1.41-.59l7.78-7.78 2.81-2.81c.8-.78.8-2.07 0-2.86zM5.41 20L4 18.59l7.72-7.72 1.47 1.35L5.41 20z\"/>\n",
              "  </svg>\n",
              "      </button>\n",
              "      \n",
              "  <style>\n",
              "    .colab-df-container {\n",
              "      display:flex;\n",
              "      flex-wrap:wrap;\n",
              "      gap: 12px;\n",
              "    }\n",
              "\n",
              "    .colab-df-convert {\n",
              "      background-color: #E8F0FE;\n",
              "      border: none;\n",
              "      border-radius: 50%;\n",
              "      cursor: pointer;\n",
              "      display: none;\n",
              "      fill: #1967D2;\n",
              "      height: 32px;\n",
              "      padding: 0 0 0 0;\n",
              "      width: 32px;\n",
              "    }\n",
              "\n",
              "    .colab-df-convert:hover {\n",
              "      background-color: #E2EBFA;\n",
              "      box-shadow: 0px 1px 2px rgba(60, 64, 67, 0.3), 0px 1px 3px 1px rgba(60, 64, 67, 0.15);\n",
              "      fill: #174EA6;\n",
              "    }\n",
              "\n",
              "    [theme=dark] .colab-df-convert {\n",
              "      background-color: #3B4455;\n",
              "      fill: #D2E3FC;\n",
              "    }\n",
              "\n",
              "    [theme=dark] .colab-df-convert:hover {\n",
              "      background-color: #434B5C;\n",
              "      box-shadow: 0px 1px 3px 1px rgba(0, 0, 0, 0.15);\n",
              "      filter: drop-shadow(0px 1px 2px rgba(0, 0, 0, 0.3));\n",
              "      fill: #FFFFFF;\n",
              "    }\n",
              "  </style>\n",
              "\n",
              "      <script>\n",
              "        const buttonEl =\n",
              "          document.querySelector('#df-f6fcbc35-cb8e-421d-982d-dbd5ed1d835e button.colab-df-convert');\n",
              "        buttonEl.style.display =\n",
              "          google.colab.kernel.accessAllowed ? 'block' : 'none';\n",
              "\n",
              "        async function convertToInteractive(key) {\n",
              "          const element = document.querySelector('#df-f6fcbc35-cb8e-421d-982d-dbd5ed1d835e');\n",
              "          const dataTable =\n",
              "            await google.colab.kernel.invokeFunction('convertToInteractive',\n",
              "                                                     [key], {});\n",
              "          if (!dataTable) return;\n",
              "\n",
              "          const docLinkHtml = 'Like what you see? Visit the ' +\n",
              "            '<a target=\"_blank\" href=https://colab.research.google.com/notebooks/data_table.ipynb>data table notebook</a>'\n",
              "            + ' to learn more about interactive tables.';\n",
              "          element.innerHTML = '';\n",
              "          dataTable['output_type'] = 'display_data';\n",
              "          await google.colab.output.renderOutput(dataTable, element);\n",
              "          const docLink = document.createElement('div');\n",
              "          docLink.innerHTML = docLinkHtml;\n",
              "          element.appendChild(docLink);\n",
              "        }\n",
              "      </script>\n",
              "    </div>\n",
              "  </div>\n",
              "  "
            ]
          },
          "metadata": {},
          "execution_count": 5
        }
      ]
    },
    {
      "cell_type": "markdown",
      "source": [
        "**Cleaning the dataset**"
      ],
      "metadata": {
        "id": "02CAARD7AhJv"
      }
    },
    {
      "cell_type": "code",
      "source": [
        "df1 = train_df[train_df.isna().any(axis=1)]"
      ],
      "metadata": {
        "id": "D_ytyOe33aui"
      },
      "execution_count": 6,
      "outputs": []
    },
    {
      "cell_type": "code",
      "source": [
        "df1"
      ],
      "metadata": {
        "colab": {
          "base_uri": "https://localhost:8080/",
          "height": 175
        },
        "id": "vGB6UGwDAYsr",
        "outputId": "88d96206-00ac-4605-9a9b-bb51d8141d52"
      },
      "execution_count": 7,
      "outputs": [
        {
          "output_type": "execute_result",
          "data": {
            "text/plain": [
              "                   ID Comments  \\\n",
              "8917   self_defeating      NaN   \n",
              "9396   Khvostov_7g-02      NaN   \n",
              "9469       roybringus      NaN   \n",
              "33889          Jingle      NaN   \n",
              "\n",
              "                                         Parent Comments  Class Labels   \n",
              "8917   Because we have chosen them as sources of mind...      sarcastic  \n",
              "9396                                       woah; thanks.  non-sarcastic  \n",
              "9469   I am just shocked an upstanding group like thi...      sarcastic  \n",
              "33889                                                NaN            NaN  "
            ],
            "text/html": [
              "\n",
              "  <div id=\"df-bd656e9a-e5a9-4fed-bdf2-2cb69860fdb1\">\n",
              "    <div class=\"colab-df-container\">\n",
              "      <div>\n",
              "<style scoped>\n",
              "    .dataframe tbody tr th:only-of-type {\n",
              "        vertical-align: middle;\n",
              "    }\n",
              "\n",
              "    .dataframe tbody tr th {\n",
              "        vertical-align: top;\n",
              "    }\n",
              "\n",
              "    .dataframe thead th {\n",
              "        text-align: right;\n",
              "    }\n",
              "</style>\n",
              "<table border=\"1\" class=\"dataframe\">\n",
              "  <thead>\n",
              "    <tr style=\"text-align: right;\">\n",
              "      <th></th>\n",
              "      <th>ID</th>\n",
              "      <th>Comments</th>\n",
              "      <th>Parent Comments</th>\n",
              "      <th>Class Labels</th>\n",
              "    </tr>\n",
              "  </thead>\n",
              "  <tbody>\n",
              "    <tr>\n",
              "      <th>8917</th>\n",
              "      <td>self_defeating</td>\n",
              "      <td>NaN</td>\n",
              "      <td>Because we have chosen them as sources of mind...</td>\n",
              "      <td>sarcastic</td>\n",
              "    </tr>\n",
              "    <tr>\n",
              "      <th>9396</th>\n",
              "      <td>Khvostov_7g-02</td>\n",
              "      <td>NaN</td>\n",
              "      <td>woah; thanks.</td>\n",
              "      <td>non-sarcastic</td>\n",
              "    </tr>\n",
              "    <tr>\n",
              "      <th>9469</th>\n",
              "      <td>roybringus</td>\n",
              "      <td>NaN</td>\n",
              "      <td>I am just shocked an upstanding group like thi...</td>\n",
              "      <td>sarcastic</td>\n",
              "    </tr>\n",
              "    <tr>\n",
              "      <th>33889</th>\n",
              "      <td>Jingle</td>\n",
              "      <td>NaN</td>\n",
              "      <td>NaN</td>\n",
              "      <td>NaN</td>\n",
              "    </tr>\n",
              "  </tbody>\n",
              "</table>\n",
              "</div>\n",
              "      <button class=\"colab-df-convert\" onclick=\"convertToInteractive('df-bd656e9a-e5a9-4fed-bdf2-2cb69860fdb1')\"\n",
              "              title=\"Convert this dataframe to an interactive table.\"\n",
              "              style=\"display:none;\">\n",
              "        \n",
              "  <svg xmlns=\"http://www.w3.org/2000/svg\" height=\"24px\"viewBox=\"0 0 24 24\"\n",
              "       width=\"24px\">\n",
              "    <path d=\"M0 0h24v24H0V0z\" fill=\"none\"/>\n",
              "    <path d=\"M18.56 5.44l.94 2.06.94-2.06 2.06-.94-2.06-.94-.94-2.06-.94 2.06-2.06.94zm-11 1L8.5 8.5l.94-2.06 2.06-.94-2.06-.94L8.5 2.5l-.94 2.06-2.06.94zm10 10l.94 2.06.94-2.06 2.06-.94-2.06-.94-.94-2.06-.94 2.06-2.06.94z\"/><path d=\"M17.41 7.96l-1.37-1.37c-.4-.4-.92-.59-1.43-.59-.52 0-1.04.2-1.43.59L10.3 9.45l-7.72 7.72c-.78.78-.78 2.05 0 2.83L4 21.41c.39.39.9.59 1.41.59.51 0 1.02-.2 1.41-.59l7.78-7.78 2.81-2.81c.8-.78.8-2.07 0-2.86zM5.41 20L4 18.59l7.72-7.72 1.47 1.35L5.41 20z\"/>\n",
              "  </svg>\n",
              "      </button>\n",
              "      \n",
              "  <style>\n",
              "    .colab-df-container {\n",
              "      display:flex;\n",
              "      flex-wrap:wrap;\n",
              "      gap: 12px;\n",
              "    }\n",
              "\n",
              "    .colab-df-convert {\n",
              "      background-color: #E8F0FE;\n",
              "      border: none;\n",
              "      border-radius: 50%;\n",
              "      cursor: pointer;\n",
              "      display: none;\n",
              "      fill: #1967D2;\n",
              "      height: 32px;\n",
              "      padding: 0 0 0 0;\n",
              "      width: 32px;\n",
              "    }\n",
              "\n",
              "    .colab-df-convert:hover {\n",
              "      background-color: #E2EBFA;\n",
              "      box-shadow: 0px 1px 2px rgba(60, 64, 67, 0.3), 0px 1px 3px 1px rgba(60, 64, 67, 0.15);\n",
              "      fill: #174EA6;\n",
              "    }\n",
              "\n",
              "    [theme=dark] .colab-df-convert {\n",
              "      background-color: #3B4455;\n",
              "      fill: #D2E3FC;\n",
              "    }\n",
              "\n",
              "    [theme=dark] .colab-df-convert:hover {\n",
              "      background-color: #434B5C;\n",
              "      box-shadow: 0px 1px 3px 1px rgba(0, 0, 0, 0.15);\n",
              "      filter: drop-shadow(0px 1px 2px rgba(0, 0, 0, 0.3));\n",
              "      fill: #FFFFFF;\n",
              "    }\n",
              "  </style>\n",
              "\n",
              "      <script>\n",
              "        const buttonEl =\n",
              "          document.querySelector('#df-bd656e9a-e5a9-4fed-bdf2-2cb69860fdb1 button.colab-df-convert');\n",
              "        buttonEl.style.display =\n",
              "          google.colab.kernel.accessAllowed ? 'block' : 'none';\n",
              "\n",
              "        async function convertToInteractive(key) {\n",
              "          const element = document.querySelector('#df-bd656e9a-e5a9-4fed-bdf2-2cb69860fdb1');\n",
              "          const dataTable =\n",
              "            await google.colab.kernel.invokeFunction('convertToInteractive',\n",
              "                                                     [key], {});\n",
              "          if (!dataTable) return;\n",
              "\n",
              "          const docLinkHtml = 'Like what you see? Visit the ' +\n",
              "            '<a target=\"_blank\" href=https://colab.research.google.com/notebooks/data_table.ipynb>data table notebook</a>'\n",
              "            + ' to learn more about interactive tables.';\n",
              "          element.innerHTML = '';\n",
              "          dataTable['output_type'] = 'display_data';\n",
              "          await google.colab.output.renderOutput(dataTable, element);\n",
              "          const docLink = document.createElement('div');\n",
              "          docLink.innerHTML = docLinkHtml;\n",
              "          element.appendChild(docLink);\n",
              "        }\n",
              "      </script>\n",
              "    </div>\n",
              "  </div>\n",
              "  "
            ]
          },
          "metadata": {},
          "execution_count": 7
        }
      ]
    },
    {
      "cell_type": "code",
      "source": [
        "df5= train_df.dropna()"
      ],
      "metadata": {
        "id": "dHu7ilBxAl0i"
      },
      "execution_count": 72,
      "outputs": []
    },
    {
      "cell_type": "code",
      "source": [
        "df2 = test_df[test_df.isna().any(axis=1)]"
      ],
      "metadata": {
        "id": "Wy8i9cVrAtoW"
      },
      "execution_count": 9,
      "outputs": []
    },
    {
      "cell_type": "code",
      "source": [
        "df2"
      ],
      "metadata": {
        "colab": {
          "base_uri": "https://localhost:8080/",
          "height": 175
        },
        "id": "hDeuAjNzAyW4",
        "outputId": "bc7c11cf-8060-4217-ea82-795442c15068"
      },
      "execution_count": 10,
      "outputs": [
        {
          "output_type": "execute_result",
          "data": {
            "text/plain": [
              "                        ID                         Comments  \\\n",
              "6878                viborg                              NaN   \n",
              "25577  HUNG_LIKE_A_KLINGON                              NaN   \n",
              "31749           MattHoppe1                              NaN   \n",
              "41079        King_Kunta_69  Yeah because those people are r   \n",
              "\n",
              "                                        Parent Comments   \n",
              "6878                    That's an odd use of \"great\". :)  \n",
              "25577  Very important lead story in the latest QUT Al...  \n",
              "31749  What is your hometown's \"Claim to Baseball Fam...  \n",
              "41079                                                NaN  "
            ],
            "text/html": [
              "\n",
              "  <div id=\"df-ab7cadce-7f6b-4f2c-980a-a0b37d1f494a\">\n",
              "    <div class=\"colab-df-container\">\n",
              "      <div>\n",
              "<style scoped>\n",
              "    .dataframe tbody tr th:only-of-type {\n",
              "        vertical-align: middle;\n",
              "    }\n",
              "\n",
              "    .dataframe tbody tr th {\n",
              "        vertical-align: top;\n",
              "    }\n",
              "\n",
              "    .dataframe thead th {\n",
              "        text-align: right;\n",
              "    }\n",
              "</style>\n",
              "<table border=\"1\" class=\"dataframe\">\n",
              "  <thead>\n",
              "    <tr style=\"text-align: right;\">\n",
              "      <th></th>\n",
              "      <th>ID</th>\n",
              "      <th>Comments</th>\n",
              "      <th>Parent Comments</th>\n",
              "    </tr>\n",
              "  </thead>\n",
              "  <tbody>\n",
              "    <tr>\n",
              "      <th>6878</th>\n",
              "      <td>viborg</td>\n",
              "      <td>NaN</td>\n",
              "      <td>That's an odd use of \"great\". :)</td>\n",
              "    </tr>\n",
              "    <tr>\n",
              "      <th>25577</th>\n",
              "      <td>HUNG_LIKE_A_KLINGON</td>\n",
              "      <td>NaN</td>\n",
              "      <td>Very important lead story in the latest QUT Al...</td>\n",
              "    </tr>\n",
              "    <tr>\n",
              "      <th>31749</th>\n",
              "      <td>MattHoppe1</td>\n",
              "      <td>NaN</td>\n",
              "      <td>What is your hometown's \"Claim to Baseball Fam...</td>\n",
              "    </tr>\n",
              "    <tr>\n",
              "      <th>41079</th>\n",
              "      <td>King_Kunta_69</td>\n",
              "      <td>Yeah because those people are r</td>\n",
              "      <td>NaN</td>\n",
              "    </tr>\n",
              "  </tbody>\n",
              "</table>\n",
              "</div>\n",
              "      <button class=\"colab-df-convert\" onclick=\"convertToInteractive('df-ab7cadce-7f6b-4f2c-980a-a0b37d1f494a')\"\n",
              "              title=\"Convert this dataframe to an interactive table.\"\n",
              "              style=\"display:none;\">\n",
              "        \n",
              "  <svg xmlns=\"http://www.w3.org/2000/svg\" height=\"24px\"viewBox=\"0 0 24 24\"\n",
              "       width=\"24px\">\n",
              "    <path d=\"M0 0h24v24H0V0z\" fill=\"none\"/>\n",
              "    <path d=\"M18.56 5.44l.94 2.06.94-2.06 2.06-.94-2.06-.94-.94-2.06-.94 2.06-2.06.94zm-11 1L8.5 8.5l.94-2.06 2.06-.94-2.06-.94L8.5 2.5l-.94 2.06-2.06.94zm10 10l.94 2.06.94-2.06 2.06-.94-2.06-.94-.94-2.06-.94 2.06-2.06.94z\"/><path d=\"M17.41 7.96l-1.37-1.37c-.4-.4-.92-.59-1.43-.59-.52 0-1.04.2-1.43.59L10.3 9.45l-7.72 7.72c-.78.78-.78 2.05 0 2.83L4 21.41c.39.39.9.59 1.41.59.51 0 1.02-.2 1.41-.59l7.78-7.78 2.81-2.81c.8-.78.8-2.07 0-2.86zM5.41 20L4 18.59l7.72-7.72 1.47 1.35L5.41 20z\"/>\n",
              "  </svg>\n",
              "      </button>\n",
              "      \n",
              "  <style>\n",
              "    .colab-df-container {\n",
              "      display:flex;\n",
              "      flex-wrap:wrap;\n",
              "      gap: 12px;\n",
              "    }\n",
              "\n",
              "    .colab-df-convert {\n",
              "      background-color: #E8F0FE;\n",
              "      border: none;\n",
              "      border-radius: 50%;\n",
              "      cursor: pointer;\n",
              "      display: none;\n",
              "      fill: #1967D2;\n",
              "      height: 32px;\n",
              "      padding: 0 0 0 0;\n",
              "      width: 32px;\n",
              "    }\n",
              "\n",
              "    .colab-df-convert:hover {\n",
              "      background-color: #E2EBFA;\n",
              "      box-shadow: 0px 1px 2px rgba(60, 64, 67, 0.3), 0px 1px 3px 1px rgba(60, 64, 67, 0.15);\n",
              "      fill: #174EA6;\n",
              "    }\n",
              "\n",
              "    [theme=dark] .colab-df-convert {\n",
              "      background-color: #3B4455;\n",
              "      fill: #D2E3FC;\n",
              "    }\n",
              "\n",
              "    [theme=dark] .colab-df-convert:hover {\n",
              "      background-color: #434B5C;\n",
              "      box-shadow: 0px 1px 3px 1px rgba(0, 0, 0, 0.15);\n",
              "      filter: drop-shadow(0px 1px 2px rgba(0, 0, 0, 0.3));\n",
              "      fill: #FFFFFF;\n",
              "    }\n",
              "  </style>\n",
              "\n",
              "      <script>\n",
              "        const buttonEl =\n",
              "          document.querySelector('#df-ab7cadce-7f6b-4f2c-980a-a0b37d1f494a button.colab-df-convert');\n",
              "        buttonEl.style.display =\n",
              "          google.colab.kernel.accessAllowed ? 'block' : 'none';\n",
              "\n",
              "        async function convertToInteractive(key) {\n",
              "          const element = document.querySelector('#df-ab7cadce-7f6b-4f2c-980a-a0b37d1f494a');\n",
              "          const dataTable =\n",
              "            await google.colab.kernel.invokeFunction('convertToInteractive',\n",
              "                                                     [key], {});\n",
              "          if (!dataTable) return;\n",
              "\n",
              "          const docLinkHtml = 'Like what you see? Visit the ' +\n",
              "            '<a target=\"_blank\" href=https://colab.research.google.com/notebooks/data_table.ipynb>data table notebook</a>'\n",
              "            + ' to learn more about interactive tables.';\n",
              "          element.innerHTML = '';\n",
              "          dataTable['output_type'] = 'display_data';\n",
              "          await google.colab.output.renderOutput(dataTable, element);\n",
              "          const docLink = document.createElement('div');\n",
              "          docLink.innerHTML = docLinkHtml;\n",
              "          element.appendChild(docLink);\n",
              "        }\n",
              "      </script>\n",
              "    </div>\n",
              "  </div>\n",
              "  "
            ]
          },
          "metadata": {},
          "execution_count": 10
        }
      ]
    },
    {
      "cell_type": "code",
      "source": [
        "test_df.dropna()"
      ],
      "metadata": {
        "colab": {
          "base_uri": "https://localhost:8080/",
          "height": 424
        },
        "id": "h0doeXcwA3uM",
        "outputId": "72974cc7-319a-4f9f-e59a-80ba48611d7e"
      },
      "execution_count": 11,
      "outputs": [
        {
          "output_type": "execute_result",
          "data": {
            "text/plain": [
              "                       ID                                           Comments  \\\n",
              "0        theyoungthaddeus        No one \"needs\" an assault foam dart blaster   \n",
              "1      Just_an_asian_here  Cause all attractive women are uninteresting a...   \n",
              "2                Foxprowl                                             Poser.   \n",
              "3                  kd7rzv  Won't be long and Anet will start banning peop...   \n",
              "4                Ellefied  There goes my hope that Kubo does a Kojima as ...   \n",
              "...                   ...                                                ...   \n",
              "41074              ikt123                            Didn't see that coming!   \n",
              "41075           RiftRacer  I'll be pushing them hard before that... there...   \n",
              "41076       el_mas_gringo               Maybe Lifetime could jump on this...   \n",
              "41077   Whathefuckiswrong   Lol to be fair to mom he was a damn sexy mailman   \n",
              "41078        aliceunknown                                  Looks good so me.   \n",
              "\n",
              "                                        Parent Comments   \n",
              "0      Your son has to register those at the county j...  \n",
              "1        Likely due to creative and interesting content.  \n",
              "2                            Jon Stewart is going to HBO  \n",
              "3      This post looks like bullshit market manipulat...  \n",
              "4      Plus the Japanese typically do not talk shit w...  \n",
              "...                                                  ...  \n",
              "41074  Tasmania votes: Liberals snatch power; ending ...  \n",
              "41075  It took a month for me to get my returns label...  \n",
              "41076  TIL one in three lesbian women report being se...  \n",
              "41077    Apparently; a lot of you look like the mailman.  \n",
              "41078                                       Um; yeah....  \n",
              "\n",
              "[41076 rows x 3 columns]"
            ],
            "text/html": [
              "\n",
              "  <div id=\"df-18e7996c-e4cb-4702-833a-255e3ae27571\">\n",
              "    <div class=\"colab-df-container\">\n",
              "      <div>\n",
              "<style scoped>\n",
              "    .dataframe tbody tr th:only-of-type {\n",
              "        vertical-align: middle;\n",
              "    }\n",
              "\n",
              "    .dataframe tbody tr th {\n",
              "        vertical-align: top;\n",
              "    }\n",
              "\n",
              "    .dataframe thead th {\n",
              "        text-align: right;\n",
              "    }\n",
              "</style>\n",
              "<table border=\"1\" class=\"dataframe\">\n",
              "  <thead>\n",
              "    <tr style=\"text-align: right;\">\n",
              "      <th></th>\n",
              "      <th>ID</th>\n",
              "      <th>Comments</th>\n",
              "      <th>Parent Comments</th>\n",
              "    </tr>\n",
              "  </thead>\n",
              "  <tbody>\n",
              "    <tr>\n",
              "      <th>0</th>\n",
              "      <td>theyoungthaddeus</td>\n",
              "      <td>No one \"needs\" an assault foam dart blaster</td>\n",
              "      <td>Your son has to register those at the county j...</td>\n",
              "    </tr>\n",
              "    <tr>\n",
              "      <th>1</th>\n",
              "      <td>Just_an_asian_here</td>\n",
              "      <td>Cause all attractive women are uninteresting a...</td>\n",
              "      <td>Likely due to creative and interesting content.</td>\n",
              "    </tr>\n",
              "    <tr>\n",
              "      <th>2</th>\n",
              "      <td>Foxprowl</td>\n",
              "      <td>Poser.</td>\n",
              "      <td>Jon Stewart is going to HBO</td>\n",
              "    </tr>\n",
              "    <tr>\n",
              "      <th>3</th>\n",
              "      <td>kd7rzv</td>\n",
              "      <td>Won't be long and Anet will start banning peop...</td>\n",
              "      <td>This post looks like bullshit market manipulat...</td>\n",
              "    </tr>\n",
              "    <tr>\n",
              "      <th>4</th>\n",
              "      <td>Ellefied</td>\n",
              "      <td>There goes my hope that Kubo does a Kojima as ...</td>\n",
              "      <td>Plus the Japanese typically do not talk shit w...</td>\n",
              "    </tr>\n",
              "    <tr>\n",
              "      <th>...</th>\n",
              "      <td>...</td>\n",
              "      <td>...</td>\n",
              "      <td>...</td>\n",
              "    </tr>\n",
              "    <tr>\n",
              "      <th>41074</th>\n",
              "      <td>ikt123</td>\n",
              "      <td>Didn't see that coming!</td>\n",
              "      <td>Tasmania votes: Liberals snatch power; ending ...</td>\n",
              "    </tr>\n",
              "    <tr>\n",
              "      <th>41075</th>\n",
              "      <td>RiftRacer</td>\n",
              "      <td>I'll be pushing them hard before that... there...</td>\n",
              "      <td>It took a month for me to get my returns label...</td>\n",
              "    </tr>\n",
              "    <tr>\n",
              "      <th>41076</th>\n",
              "      <td>el_mas_gringo</td>\n",
              "      <td>Maybe Lifetime could jump on this...</td>\n",
              "      <td>TIL one in three lesbian women report being se...</td>\n",
              "    </tr>\n",
              "    <tr>\n",
              "      <th>41077</th>\n",
              "      <td>Whathefuckiswrong</td>\n",
              "      <td>Lol to be fair to mom he was a damn sexy mailman</td>\n",
              "      <td>Apparently; a lot of you look like the mailman.</td>\n",
              "    </tr>\n",
              "    <tr>\n",
              "      <th>41078</th>\n",
              "      <td>aliceunknown</td>\n",
              "      <td>Looks good so me.</td>\n",
              "      <td>Um; yeah....</td>\n",
              "    </tr>\n",
              "  </tbody>\n",
              "</table>\n",
              "<p>41076 rows × 3 columns</p>\n",
              "</div>\n",
              "      <button class=\"colab-df-convert\" onclick=\"convertToInteractive('df-18e7996c-e4cb-4702-833a-255e3ae27571')\"\n",
              "              title=\"Convert this dataframe to an interactive table.\"\n",
              "              style=\"display:none;\">\n",
              "        \n",
              "  <svg xmlns=\"http://www.w3.org/2000/svg\" height=\"24px\"viewBox=\"0 0 24 24\"\n",
              "       width=\"24px\">\n",
              "    <path d=\"M0 0h24v24H0V0z\" fill=\"none\"/>\n",
              "    <path d=\"M18.56 5.44l.94 2.06.94-2.06 2.06-.94-2.06-.94-.94-2.06-.94 2.06-2.06.94zm-11 1L8.5 8.5l.94-2.06 2.06-.94-2.06-.94L8.5 2.5l-.94 2.06-2.06.94zm10 10l.94 2.06.94-2.06 2.06-.94-2.06-.94-.94-2.06-.94 2.06-2.06.94z\"/><path d=\"M17.41 7.96l-1.37-1.37c-.4-.4-.92-.59-1.43-.59-.52 0-1.04.2-1.43.59L10.3 9.45l-7.72 7.72c-.78.78-.78 2.05 0 2.83L4 21.41c.39.39.9.59 1.41.59.51 0 1.02-.2 1.41-.59l7.78-7.78 2.81-2.81c.8-.78.8-2.07 0-2.86zM5.41 20L4 18.59l7.72-7.72 1.47 1.35L5.41 20z\"/>\n",
              "  </svg>\n",
              "      </button>\n",
              "      \n",
              "  <style>\n",
              "    .colab-df-container {\n",
              "      display:flex;\n",
              "      flex-wrap:wrap;\n",
              "      gap: 12px;\n",
              "    }\n",
              "\n",
              "    .colab-df-convert {\n",
              "      background-color: #E8F0FE;\n",
              "      border: none;\n",
              "      border-radius: 50%;\n",
              "      cursor: pointer;\n",
              "      display: none;\n",
              "      fill: #1967D2;\n",
              "      height: 32px;\n",
              "      padding: 0 0 0 0;\n",
              "      width: 32px;\n",
              "    }\n",
              "\n",
              "    .colab-df-convert:hover {\n",
              "      background-color: #E2EBFA;\n",
              "      box-shadow: 0px 1px 2px rgba(60, 64, 67, 0.3), 0px 1px 3px 1px rgba(60, 64, 67, 0.15);\n",
              "      fill: #174EA6;\n",
              "    }\n",
              "\n",
              "    [theme=dark] .colab-df-convert {\n",
              "      background-color: #3B4455;\n",
              "      fill: #D2E3FC;\n",
              "    }\n",
              "\n",
              "    [theme=dark] .colab-df-convert:hover {\n",
              "      background-color: #434B5C;\n",
              "      box-shadow: 0px 1px 3px 1px rgba(0, 0, 0, 0.15);\n",
              "      filter: drop-shadow(0px 1px 2px rgba(0, 0, 0, 0.3));\n",
              "      fill: #FFFFFF;\n",
              "    }\n",
              "  </style>\n",
              "\n",
              "      <script>\n",
              "        const buttonEl =\n",
              "          document.querySelector('#df-18e7996c-e4cb-4702-833a-255e3ae27571 button.colab-df-convert');\n",
              "        buttonEl.style.display =\n",
              "          google.colab.kernel.accessAllowed ? 'block' : 'none';\n",
              "\n",
              "        async function convertToInteractive(key) {\n",
              "          const element = document.querySelector('#df-18e7996c-e4cb-4702-833a-255e3ae27571');\n",
              "          const dataTable =\n",
              "            await google.colab.kernel.invokeFunction('convertToInteractive',\n",
              "                                                     [key], {});\n",
              "          if (!dataTable) return;\n",
              "\n",
              "          const docLinkHtml = 'Like what you see? Visit the ' +\n",
              "            '<a target=\"_blank\" href=https://colab.research.google.com/notebooks/data_table.ipynb>data table notebook</a>'\n",
              "            + ' to learn more about interactive tables.';\n",
              "          element.innerHTML = '';\n",
              "          dataTable['output_type'] = 'display_data';\n",
              "          await google.colab.output.renderOutput(dataTable, element);\n",
              "          const docLink = document.createElement('div');\n",
              "          docLink.innerHTML = docLinkHtml;\n",
              "          element.appendChild(docLink);\n",
              "        }\n",
              "      </script>\n",
              "    </div>\n",
              "  </div>\n",
              "  "
            ]
          },
          "metadata": {},
          "execution_count": 11
        }
      ]
    },
    {
      "cell_type": "code",
      "source": [
        "train_df.rename(columns = {' Class Labels ':'label'}, inplace = True)"
      ],
      "metadata": {
        "id": "6kWDOg6cCLtD"
      },
      "execution_count": 12,
      "outputs": []
    },
    {
      "cell_type": "code",
      "source": [
        "train_df['label'].replace(['non-sarcastic','sarcastic'],[1,0], inplace = True)"
      ],
      "metadata": {
        "id": "KpWM6NYqBFuW"
      },
      "execution_count": 13,
      "outputs": []
    },
    {
      "cell_type": "code",
      "source": [
        "train_df.head()"
      ],
      "metadata": {
        "colab": {
          "base_uri": "https://localhost:8080/",
          "height": 206
        },
        "id": "bumL72PcDAht",
        "outputId": "dc48720b-00dd-4b03-b081-6d6af75b30b3"
      },
      "execution_count": 14,
      "outputs": [
        {
          "output_type": "execute_result",
          "data": {
            "text/plain": [
              "                 ID                                           Comments  \\\n",
              "0          ocxtitan                                   Central Illinois   \n",
              "1         LeChuckly  To think - CNN used to be the acronym synonymo...   \n",
              "2     throwitskrub8  But then again; you have to consider that all ...   \n",
              "3  fresherthanyouuu                                            ughhhhh   \n",
              "4         _kushagra                                I should've put the   \n",
              "\n",
              "                                     Parent Comments  label  \n",
              "0                          Jesus; where do you live?    1.0  \n",
              "1  Even The CNN Staff Is Sick Of The Wall-To-Wall...    1.0  \n",
              "2  agree to that part.It can also mean that gujra...    1.0  \n",
              "3  If a guy told you he doesn't use social media ...    1.0  \n",
              "4  No; it's just a programming bug. After all; th...    0.0  "
            ],
            "text/html": [
              "\n",
              "  <div id=\"df-3915ed9d-ef85-4eb9-aa69-6660b4c2ed7c\">\n",
              "    <div class=\"colab-df-container\">\n",
              "      <div>\n",
              "<style scoped>\n",
              "    .dataframe tbody tr th:only-of-type {\n",
              "        vertical-align: middle;\n",
              "    }\n",
              "\n",
              "    .dataframe tbody tr th {\n",
              "        vertical-align: top;\n",
              "    }\n",
              "\n",
              "    .dataframe thead th {\n",
              "        text-align: right;\n",
              "    }\n",
              "</style>\n",
              "<table border=\"1\" class=\"dataframe\">\n",
              "  <thead>\n",
              "    <tr style=\"text-align: right;\">\n",
              "      <th></th>\n",
              "      <th>ID</th>\n",
              "      <th>Comments</th>\n",
              "      <th>Parent Comments</th>\n",
              "      <th>label</th>\n",
              "    </tr>\n",
              "  </thead>\n",
              "  <tbody>\n",
              "    <tr>\n",
              "      <th>0</th>\n",
              "      <td>ocxtitan</td>\n",
              "      <td>Central Illinois</td>\n",
              "      <td>Jesus; where do you live?</td>\n",
              "      <td>1.0</td>\n",
              "    </tr>\n",
              "    <tr>\n",
              "      <th>1</th>\n",
              "      <td>LeChuckly</td>\n",
              "      <td>To think - CNN used to be the acronym synonymo...</td>\n",
              "      <td>Even The CNN Staff Is Sick Of The Wall-To-Wall...</td>\n",
              "      <td>1.0</td>\n",
              "    </tr>\n",
              "    <tr>\n",
              "      <th>2</th>\n",
              "      <td>throwitskrub8</td>\n",
              "      <td>But then again; you have to consider that all ...</td>\n",
              "      <td>agree to that part.It can also mean that gujra...</td>\n",
              "      <td>1.0</td>\n",
              "    </tr>\n",
              "    <tr>\n",
              "      <th>3</th>\n",
              "      <td>fresherthanyouuu</td>\n",
              "      <td>ughhhhh</td>\n",
              "      <td>If a guy told you he doesn't use social media ...</td>\n",
              "      <td>1.0</td>\n",
              "    </tr>\n",
              "    <tr>\n",
              "      <th>4</th>\n",
              "      <td>_kushagra</td>\n",
              "      <td>I should've put the</td>\n",
              "      <td>No; it's just a programming bug. After all; th...</td>\n",
              "      <td>0.0</td>\n",
              "    </tr>\n",
              "  </tbody>\n",
              "</table>\n",
              "</div>\n",
              "      <button class=\"colab-df-convert\" onclick=\"convertToInteractive('df-3915ed9d-ef85-4eb9-aa69-6660b4c2ed7c')\"\n",
              "              title=\"Convert this dataframe to an interactive table.\"\n",
              "              style=\"display:none;\">\n",
              "        \n",
              "  <svg xmlns=\"http://www.w3.org/2000/svg\" height=\"24px\"viewBox=\"0 0 24 24\"\n",
              "       width=\"24px\">\n",
              "    <path d=\"M0 0h24v24H0V0z\" fill=\"none\"/>\n",
              "    <path d=\"M18.56 5.44l.94 2.06.94-2.06 2.06-.94-2.06-.94-.94-2.06-.94 2.06-2.06.94zm-11 1L8.5 8.5l.94-2.06 2.06-.94-2.06-.94L8.5 2.5l-.94 2.06-2.06.94zm10 10l.94 2.06.94-2.06 2.06-.94-2.06-.94-.94-2.06-.94 2.06-2.06.94z\"/><path d=\"M17.41 7.96l-1.37-1.37c-.4-.4-.92-.59-1.43-.59-.52 0-1.04.2-1.43.59L10.3 9.45l-7.72 7.72c-.78.78-.78 2.05 0 2.83L4 21.41c.39.39.9.59 1.41.59.51 0 1.02-.2 1.41-.59l7.78-7.78 2.81-2.81c.8-.78.8-2.07 0-2.86zM5.41 20L4 18.59l7.72-7.72 1.47 1.35L5.41 20z\"/>\n",
              "  </svg>\n",
              "      </button>\n",
              "      \n",
              "  <style>\n",
              "    .colab-df-container {\n",
              "      display:flex;\n",
              "      flex-wrap:wrap;\n",
              "      gap: 12px;\n",
              "    }\n",
              "\n",
              "    .colab-df-convert {\n",
              "      background-color: #E8F0FE;\n",
              "      border: none;\n",
              "      border-radius: 50%;\n",
              "      cursor: pointer;\n",
              "      display: none;\n",
              "      fill: #1967D2;\n",
              "      height: 32px;\n",
              "      padding: 0 0 0 0;\n",
              "      width: 32px;\n",
              "    }\n",
              "\n",
              "    .colab-df-convert:hover {\n",
              "      background-color: #E2EBFA;\n",
              "      box-shadow: 0px 1px 2px rgba(60, 64, 67, 0.3), 0px 1px 3px 1px rgba(60, 64, 67, 0.15);\n",
              "      fill: #174EA6;\n",
              "    }\n",
              "\n",
              "    [theme=dark] .colab-df-convert {\n",
              "      background-color: #3B4455;\n",
              "      fill: #D2E3FC;\n",
              "    }\n",
              "\n",
              "    [theme=dark] .colab-df-convert:hover {\n",
              "      background-color: #434B5C;\n",
              "      box-shadow: 0px 1px 3px 1px rgba(0, 0, 0, 0.15);\n",
              "      filter: drop-shadow(0px 1px 2px rgba(0, 0, 0, 0.3));\n",
              "      fill: #FFFFFF;\n",
              "    }\n",
              "  </style>\n",
              "\n",
              "      <script>\n",
              "        const buttonEl =\n",
              "          document.querySelector('#df-3915ed9d-ef85-4eb9-aa69-6660b4c2ed7c button.colab-df-convert');\n",
              "        buttonEl.style.display =\n",
              "          google.colab.kernel.accessAllowed ? 'block' : 'none';\n",
              "\n",
              "        async function convertToInteractive(key) {\n",
              "          const element = document.querySelector('#df-3915ed9d-ef85-4eb9-aa69-6660b4c2ed7c');\n",
              "          const dataTable =\n",
              "            await google.colab.kernel.invokeFunction('convertToInteractive',\n",
              "                                                     [key], {});\n",
              "          if (!dataTable) return;\n",
              "\n",
              "          const docLinkHtml = 'Like what you see? Visit the ' +\n",
              "            '<a target=\"_blank\" href=https://colab.research.google.com/notebooks/data_table.ipynb>data table notebook</a>'\n",
              "            + ' to learn more about interactive tables.';\n",
              "          element.innerHTML = '';\n",
              "          dataTable['output_type'] = 'display_data';\n",
              "          await google.colab.output.renderOutput(dataTable, element);\n",
              "          const docLink = document.createElement('div');\n",
              "          docLink.innerHTML = docLinkHtml;\n",
              "          element.appendChild(docLink);\n",
              "        }\n",
              "      </script>\n",
              "    </div>\n",
              "  </div>\n",
              "  "
            ]
          },
          "metadata": {},
          "execution_count": 14
        }
      ]
    },
    {
      "cell_type": "code",
      "source": [
        "train_df.info()"
      ],
      "metadata": {
        "colab": {
          "base_uri": "https://localhost:8080/"
        },
        "id": "Iv4UuycbUYgL",
        "outputId": "8cb2f14d-0750-4d72-b357-fe855c740f62"
      },
      "execution_count": 15,
      "outputs": [
        {
          "output_type": "stream",
          "name": "stdout",
          "text": [
            "<class 'pandas.core.frame.DataFrame'>\n",
            "RangeIndex: 33890 entries, 0 to 33889\n",
            "Data columns (total 4 columns):\n",
            " #   Column           Non-Null Count  Dtype  \n",
            "---  ------           --------------  -----  \n",
            " 0   ID               33890 non-null  object \n",
            " 1   Comments         33886 non-null  object \n",
            " 2   Parent Comments  33889 non-null  object \n",
            " 3   label            33889 non-null  float64\n",
            "dtypes: float64(1), object(3)\n",
            "memory usage: 1.0+ MB\n"
          ]
        }
      ]
    },
    {
      "cell_type": "code",
      "source": [
        "test_df.info()"
      ],
      "metadata": {
        "colab": {
          "base_uri": "https://localhost:8080/"
        },
        "id": "zdcZsO5rUbfa",
        "outputId": "8cf6087a-27cc-48d1-f895-50d744a4243d"
      },
      "execution_count": 16,
      "outputs": [
        {
          "output_type": "stream",
          "name": "stdout",
          "text": [
            "<class 'pandas.core.frame.DataFrame'>\n",
            "RangeIndex: 41080 entries, 0 to 41079\n",
            "Data columns (total 3 columns):\n",
            " #   Column            Non-Null Count  Dtype \n",
            "---  ------            --------------  ----- \n",
            " 0   ID                41080 non-null  object\n",
            " 1   Comments          41077 non-null  object\n",
            " 2   Parent Comments   41079 non-null  object\n",
            "dtypes: object(3)\n",
            "memory usage: 962.9+ KB\n"
          ]
        }
      ]
    },
    {
      "cell_type": "markdown",
      "source": [
        "**Exploratory Data Analysis**"
      ],
      "metadata": {
        "id": "8yFX6sseGms9"
      }
    },
    {
      "cell_type": "code",
      "source": [
        "# to check number of sarcastic and non-sarcastic comments\n",
        "train_df['label'].value_counts()"
      ],
      "metadata": {
        "colab": {
          "base_uri": "https://localhost:8080/"
        },
        "id": "jB7HGEorDcvH",
        "outputId": "8409445b-f751-4a81-cb78-f2220d43e05f"
      },
      "execution_count": 17,
      "outputs": [
        {
          "output_type": "execute_result",
          "data": {
            "text/plain": [
              "0.0    16988\n",
              "1.0    16901\n",
              "Name: label, dtype: int64"
            ]
          },
          "metadata": {},
          "execution_count": 17
        }
      ]
    },
    {
      "cell_type": "markdown",
      "source": [
        "Almost equal number of sarcastic and non-sarcastic comments."
      ],
      "metadata": {
        "id": "uylIXRBuBEdt"
      }
    },
    {
      "cell_type": "code",
      "source": [
        "print(train_df['label'].value_counts()/len(train_df))"
      ],
      "metadata": {
        "colab": {
          "base_uri": "https://localhost:8080/"
        },
        "id": "yRYnQalNFYU4",
        "outputId": "1a97f4bf-1365-480f-d030-a864071ae966"
      },
      "execution_count": 18,
      "outputs": [
        {
          "output_type": "stream",
          "name": "stdout",
          "text": [
            "0.0    0.501269\n",
            "1.0    0.498702\n",
            "Name: label, dtype: float64\n"
          ]
        }
      ]
    },
    {
      "cell_type": "code",
      "source": [
        "plt.figure(figsize=(5,5))\n",
        "ax = sns.countplot(x='label',  data= train_df)\n",
        "ax.set(title = \"Distribution of Classes\", xlabel=\"Sarcasm Status\", ylabel = \"Total Count\")\n",
        "total = float(len(train_df))\n",
        "for p in ax.patches:\n",
        "    height = p.get_height()\n",
        "    ax.text(p.get_x()+p.get_width()/2.,\n",
        "            height + 3,\n",
        "            '{:1.1f}%'.format((height/total)*100),\n",
        "            ha=\"center\") \n",
        "plt.show()"
      ],
      "metadata": {
        "colab": {
          "base_uri": "https://localhost:8080/",
          "height": 350
        },
        "id": "B_pE94BtBSuP",
        "outputId": "2bdb5535-3d8d-4fca-9597-7e711512739c"
      },
      "execution_count": 19,
      "outputs": [
        {
          "output_type": "display_data",
          "data": {
            "text/plain": [
              "<Figure size 360x360 with 1 Axes>"
            ],
            "image/png": "[encoded data removed]"
          },
          "metadata": {
            "needs_background": "light"
          }
        }
      ]
    },
    {
      "cell_type": "code",
      "source": [
        "# To check if there is any relation between the length of the comment and its label\n",
        "#train_df.loc[train_df,'Comments'].str.len().apply(np.log1p).hist(label='sarcastic,alpha=.5)\n",
        "train_df.loc[train_df['label']==1,'Comments'].str.len().apply(np.log1p).hist(label='sarcastic', alpha=.5)\n",
        "train_df.loc[train_df['label']==0,'Comments'].str.len().apply(np.log1p).hist(label='non-sarcastic', alpha=.5)\n",
        "plt.legend()\n",
        "plt.title('Natural Log Length of Comments')\n",
        "plt.show()"
      ],
      "metadata": {
        "colab": {
          "base_uri": "https://localhost:8080/",
          "height": 281
        },
        "id": "hO5UX2J10MMb",
        "outputId": "d33ec26d-d223-4a3b-c602-17e2201577ea"
      },
      "execution_count": 20,
      "outputs": [
        {
          "output_type": "display_data",
          "data": {
            "text/plain": [
              "<Figure size 432x288 with 1 Axes>"
            ],
            "image/png": "[encoded data removed]"
          },
          "metadata": {
            "needs_background": "light"
          }
        }
      ]
    },
    {
      "cell_type": "markdown",
      "source": [
        "Sarcastic comments are normally distributed in length. Non-sarcastic comments has a right-skew."
      ],
      "metadata": {
        "id": "_9o3RzVnd70t"
      }
    },
    {
      "cell_type": "code",
      "source": [
        "# Most common words in the sarcastic comments \n",
        "wordcloud = WordCloud(background_color='black', stopwords = STOPWORDS,\n",
        "                max_words = 200, max_font_size = 100, \n",
        "                random_state = 17, width=800, height=400)\n",
        "\n",
        "plt.figure(figsize=(12, 12))\n",
        "wordcloud.generate(str(train_df.loc[train_df['label'] == 1, 'Parent Comments']))\n",
        "plt.grid(b= False)\n",
        "plt.imshow(wordcloud);"
      ],
      "metadata": {
        "colab": {
          "base_uri": "https://localhost:8080/",
          "height": 386
        },
        "id": "wOkkCnR6B939",
        "outputId": "fd76ec42-f99d-4da9-f9cd-0d9affd76693"
      },
      "execution_count": 21,
      "outputs": [
        {
          "output_type": "display_data",
          "data": {
            "text/plain": [
              "<Figure size 864x864 with 1 Axes>"
            ],
            "image/png": "[encoded data removed]"
          },
          "metadata": {
            "needs_background": "light"
          }
        }
      ]
    },
    {
      "cell_type": "code",
      "source": [
        "# Comparing sarcastic comments with Parent comments\n",
        "sarcasm_comm_len = np.array(train_df.loc[train_df['label'] == 1]['Comments'].str.len())\n",
        "parent_comm_len = np.array(train_df.loc[train_df['label'] == 1]['Parent Comments'].str.len())\n",
        "ratio_len = np.array((train_df.loc[train_df['label'] == 1]['Comments'].str.len())/(train_df.loc[train_df['label'] == 1]['Parent Comments'].str.len()))"
      ],
      "metadata": {
        "id": "G6sZoOaLCuDl"
      },
      "execution_count": 22,
      "outputs": []
    },
    {
      "cell_type": "code",
      "source": [
        "d = pd.DataFrame({'Comment Length': sarcasm_comm_len, 'Parent Comment Length': parent_comm_len, 'Ratio Length': ratio_len}, columns=['Comment Length', 'Parent Comment Length', 'Ratio Length'])"
      ],
      "metadata": {
        "id": "gRR1wNN9DIFw"
      },
      "execution_count": 23,
      "outputs": []
    },
    {
      "cell_type": "code",
      "source": [
        "ax = plt.axes()\n",
        "sns.scatterplot(data=d, x=\"Comment Length\", y=\"Parent Comment Length\",  size=ratio_len)\n",
        "ax.set_title(\"Comparing Sarcastic Comment Length with Parent Comment\")\n",
        "# control x and y limits\n",
        "plt.ylim(0, 12000)\n",
        "plt.xlim(0, 800)\n",
        "plt.show()"
      ],
      "metadata": {
        "colab": {
          "base_uri": "https://localhost:8080/",
          "height": 295
        },
        "id": "c8bNU05FDQeU",
        "outputId": "2ffca103-5cd7-4b6e-8916-762aaba0c5be"
      },
      "execution_count": 24,
      "outputs": [
        {
          "output_type": "display_data",
          "data": {
            "text/plain": [
              "<Figure size 432x288 with 1 Axes>"
            ],
            "image/png": "[encoded data removed]"
          },
          "metadata": {
            "needs_background": "light"
          }
        }
      ]
    },
    {
      "cell_type": "code",
      "source": [
        "from nltk.tokenize import word_tokenize, sent_tokenize, wordpunct_tokenize, TreebankWordTokenizer, TweetTokenizer, MWETokenizer\n",
        "from nltk.corpus import stopwords\n",
        "from nltk import ngrams\n",
        "from nltk.stem import WordNetLemmatizer\n",
        "from nltk.stem import PorterStemmer\n",
        "import pandas as pd\n",
        "from sklearn.feature_extraction.text import TfidfVectorizer"
      ],
      "metadata": {
        "id": "I9Ks4VjwDoFp"
      },
      "execution_count": 25,
      "outputs": []
    },
    {
      "cell_type": "code",
      "source": [
        "corpus = df5['Comments'].values.astype('U')"
      ],
      "metadata": {
        "id": "SF7pD1UxEPN_"
      },
      "execution_count": 73,
      "outputs": []
    },
    {
      "cell_type": "code",
      "source": [
        "corpus"
      ],
      "metadata": {
        "colab": {
          "base_uri": "https://localhost:8080/"
        },
        "id": "vYUakysLvpYJ",
        "outputId": "dec8e1c3-185d-4902-ff3f-bee88e707b87"
      },
      "execution_count": 74,
      "outputs": [
        {
          "output_type": "execute_result",
          "data": {
            "text/plain": [
              "array(['Central Illinois',\n",
              "       'To think - CNN used to be the acronym synonymous with news.',\n",
              "       \"But then again; you have to consider that all husbands suspecting adultery don't or are simply can't afford to go for a paternity test.\",\n",
              "       ..., 'I should have bEElieved',\n",
              "       \"Well; that's your choice; but I like being able to drop the soap in the shower without fear.\",\n",
              "       'In that Era even now your best players usually pitch in lower levels'],\n",
              "      dtype='<U10000')"
            ]
          },
          "metadata": {},
          "execution_count": 74
        }
      ]
    },
    {
      "cell_type": "markdown",
      "source": [
        "Tfidf vectorizer"
      ],
      "metadata": {
        "id": "WKBsY-OPAPJA"
      }
    },
    {
      "cell_type": "markdown",
      "source": [
        "Stop words removed"
      ],
      "metadata": {
        "id": "-Q8Azgz5y7oZ"
      }
    },
    {
      "cell_type": "code",
      "source": [
        "\"\"\"Tfidf vectorizer\n",
        "\n",
        "Stop words removed\n",
        "\"\"\"\n",
        "\n",
        "method=\"Binary\"\n",
        "\n",
        "from sklearn.feature_extraction.text import CountVectorizer\n",
        "\n",
        "if method==\"Tfidf\":\n",
        "    vectorizer = TfidfVectorizer(stop_words='english', ngram_range=(1,1))\n",
        "elif method==\"Binary\":\n",
        "    vectorizer = CountVectorizer(stop_words='english', ngram_range=(1,2), min_df=2)\n",
        "    \n",
        "tfidf= TfidfVectorizer(stop_words='english', ngram_range=(1,1))\n",
        "\n",
        "X = vectorizer.fit_transform(corpus)\n",
        "np.shape(X)"
      ],
      "metadata": {
        "id": "miyEGChGu7lM",
        "colab": {
          "base_uri": "https://localhost:8080/"
        },
        "outputId": "e9b89b68-c4cb-40d5-aeb1-4d9c44011d51"
      },
      "execution_count": 75,
      "outputs": [
        {
          "output_type": "execute_result",
          "data": {
            "text/plain": [
              "(33886, 19550)"
            ]
          },
          "metadata": {},
          "execution_count": 75
        }
      ]
    },
    {
      "cell_type": "code",
      "source": [
        "labels = df5['label'].to_list()"
      ],
      "metadata": {
        "id": "oNLdJXV83i_r"
      },
      "execution_count": 80,
      "outputs": []
    },
    {
      "cell_type": "code",
      "source": [
        "#print(vectorizer.get_feature_names())\n",
        "X=np.asmatrix(X)\n",
        "Countvecs=pd.DataFrame(X)\n",
        "\n",
        "print(Countvecs.head())"
      ],
      "metadata": {
        "id": "MWkkhY9Ww7N3",
        "colab": {
          "base_uri": "https://localhost:8080/"
        },
        "outputId": "3b8f9ed3-ea78-460d-d14e-1222668376ac"
      },
      "execution_count": 76,
      "outputs": [
        {
          "output_type": "stream",
          "name": "stdout",
          "text": [
            "                                                   0\n",
            "0    (0, 2548)\\t1\\n  (0, 7964)\\t1\\n  (1, 17054)\\t...\n"
          ]
        }
      ]
    },
    {
      "cell_type": "code",
      "source": [
        "bigram_vectorizer = CountVectorizer(ngram_range=(1, 2),token_pattern=r'\\b\\w+\\b', min_df=1).build_analyzer()"
      ],
      "metadata": {
        "id": "B-h47HfR0x2J"
      },
      "execution_count": 77,
      "outputs": []
    },
    {
      "cell_type": "code",
      "source": [
        "from sklearn.model_selection import train_test_split\n",
        "\n",
        "x_train, x_test, y_train, y_test = train_test_split(corpus, labels , test_size= 0.25, random_state=42)"
      ],
      "metadata": {
        "id": "G4Yp5as412tE"
      },
      "execution_count": 81,
      "outputs": []
    },
    {
      "cell_type": "code",
      "source": [
        "from os import path\n",
        "sns.set()\n",
        "from sklearn.model_selection import train_test_split\n",
        "\n",
        "from sklearn.linear_model import LogisticRegression\n",
        "from sklearn.pipeline import Pipeline\n",
        "from sklearn.metrics import accuracy_score, confusion_matrix, recall_score, precision_score, f1_score\n",
        "\n",
        "from sklearn.model_selection import cross_val_score\n",
        "from sklearn.model_selection import GridSearchCV\n",
        "import calendar\n",
        "from sklearn.feature_extraction.text import TfidfVectorizer\n",
        "from sklearn.metrics.pairwise import cosine_similarity\n",
        "%matplotlib inline\n",
        "import time"
      ],
      "metadata": {
        "id": "jCm3sht904hT"
      },
      "execution_count": 82,
      "outputs": []
    },
    {
      "cell_type": "code",
      "source": [
        "parameters = {'solver': [ 'lbfgs', 'liblinear', 'saga'], 'verbose': [0, 1, 2]}\n",
        "\n",
        "# multinomial logistic regression a.k.a softmax classifier\n",
        "logit = LogisticRegression(random_state= 42)\n",
        "\n",
        "logit_classifier = GridSearchCV(logit, parameters, cv = 5, n_jobs= 4)\n",
        "\n",
        "# sklearn's pipeline\n",
        "tfidf_logit_pipeline = Pipeline([('vectorizer', vectorizer),  ('logit_classifier', logit_classifier)])"
      ],
      "metadata": {
        "id": "vMMdQu6m07ik"
      },
      "execution_count": 83,
      "outputs": []
    },
    {
      "cell_type": "code",
      "source": [
        "start = time.time()\n",
        "tfidf_logit_pipeline.fit(x_train, y_train)\n",
        "end = time.time()\n",
        "print(end - start) "
      ],
      "metadata": {
        "colab": {
          "base_uri": "https://localhost:8080/"
        },
        "id": "rxQ8oB5P0-dg",
        "outputId": "fad517fe-8a10-4853-da86-4e641ce440d9"
      },
      "execution_count": 84,
      "outputs": [
        {
          "output_type": "stream",
          "name": "stdout",
          "text": [
            "17.053278923034668\n"
          ]
        },
        {
          "output_type": "stream",
          "name": "stderr",
          "text": [
            "/usr/local/lib/python3.7/dist-packages/sklearn/linear_model/_sag.py:354: ConvergenceWarning: The max_iter was reached which means the coef_ did not converge\n",
            "  ConvergenceWarning,\n"
          ]
        }
      ]
    },
    {
      "cell_type": "code",
      "source": [
        "print(logit_classifier.best_params_)\n",
        "print(logit_classifier.best_score_)"
      ],
      "metadata": {
        "colab": {
          "base_uri": "https://localhost:8080/"
        },
        "id": "KDRTlTbk7iUm",
        "outputId": "e0f923b0-28d6-4311-e911-dc24e0aae887"
      },
      "execution_count": 85,
      "outputs": [
        {
          "output_type": "stream",
          "name": "stdout",
          "text": [
            "{'solver': 'saga', 'verbose': 0}\n",
            "0.6312265429679984\n"
          ]
        }
      ]
    },
    {
      "cell_type": "code",
      "source": [
        "valid_pred = tfidf_logit_pipeline.predict(x_test)"
      ],
      "metadata": {
        "id": "I_nYoISO7jPF"
      },
      "execution_count": 86,
      "outputs": []
    },
    {
      "cell_type": "code",
      "source": [
        "accuracy_score(y_test, valid_pred)"
      ],
      "metadata": {
        "colab": {
          "base_uri": "https://localhost:8080/"
        },
        "id": "l5wuGryG7l9F",
        "outputId": "a46b22f1-ade2-4928-947e-b3907fb15214"
      },
      "execution_count": 87,
      "outputs": [
        {
          "output_type": "execute_result",
          "data": {
            "text/plain": [
              "0.6364494806421152"
            ]
          },
          "metadata": {},
          "execution_count": 87
        }
      ]
    },
    {
      "cell_type": "code",
      "source": [
        "# Getting the accuracy metric\n",
        "acc = accuracy_score(valid_pred, y_test)\n",
        "pre = precision_score(valid_pred, y_test)\n",
        "rec = recall_score(valid_pred, y_test)\n",
        "f1 = f1_score(valid_pred, y_test)\n",
        "\n",
        "print ('Model Performance Statistic Suite-1: ')\n",
        "print ('Accuracy: ', acc)\n",
        "print ('Precision: ', pre)\n",
        "print ('Recall: ',rec)\n",
        "print ('F1 Score: ', f1)\n",
        "\n",
        "cm = confusion_matrix(y_test,valid_pred)\n",
        "\n",
        "sensitivity = cm[0,0]/(cm[0,0]+cm[1,0])\n",
        "print('Sensitivity : ', sensitivity )\n",
        "\n",
        "specificity = cm[1,1]/(cm[0,1]+cm[1,1])\n",
        "print('Specificity : ', specificity)"
      ],
      "metadata": {
        "colab": {
          "base_uri": "https://localhost:8080/"
        },
        "id": "PvNxigMA7ogp",
        "outputId": "509bffb5-49ad-4861-bb41-a8d0b21eae12"
      },
      "execution_count": 88,
      "outputs": [
        {
          "output_type": "stream",
          "name": "stdout",
          "text": [
            "Model Performance Statistic Suite-1: \n",
            "Accuracy:  0.6364494806421152\n",
            "Precision:  0.7050831576481612\n",
            "Recall:  0.6230594079900642\n",
            "F1 Score:  0.6615384615384616\n",
            "Sensitivity :  0.6542158747596815\n",
            "Specificity :  0.6230594079900642\n"
          ]
        }
      ]
    },
    {
      "cell_type": "code",
      "source": [
        "cm =  pd.DataFrame(cm, index=['Natural','Sarcastic'],columns=['Natural','Sarcastic'])\n",
        "fig = plt.figure(figsize=(8,6))\n",
        "ax = sns.heatmap(cm,annot=True,cbar=False, cmap='Greens',linewidths=0.5,fmt='.0f')\n",
        "ax.set_title('Confusion Matrix',fontsize=16,y=1.25)\n",
        "ax.set_ylabel('Ground Truth',fontsize=14)\n",
        "ax.set_xlabel('Predicted',fontsize=14)\n",
        "ax.xaxis.set_ticks_position('top')\n",
        "ax.xaxis.set_label_position('top')\n",
        "ax.tick_params(labelsize=12)"
      ],
      "metadata": {
        "colab": {
          "base_uri": "https://localhost:8080/",
          "height": 413
        },
        "id": "lFhbO3zK7rA4",
        "outputId": "08cc04dd-9047-4fa7-9bd9-b8f0ed903b03"
      },
      "execution_count": 89,
      "outputs": [
        {
          "output_type": "display_data",
          "data": {
            "text/plain": [
              "<Figure size 576x432 with 1 Axes>"
            ],
            "image/png": "[encoded data removed]"
          },
          "metadata": {
            "needs_background": "light"
          }
        }
      ]
    }
  ]
}