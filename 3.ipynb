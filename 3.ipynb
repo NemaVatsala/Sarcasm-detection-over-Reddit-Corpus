{
 "cells": [
  {
   "cell_type": "code",
   "execution_count": 1,
   "metadata": {},
   "outputs": [],
   "source": [
    "# !pip install nltk\n",
    "# !pip install wordcloud"
   ]
  },
  {
   "cell_type": "markdown",
   "metadata": {
    "id": "gEOgEkSOG2s3"
   },
   "source": [
    "# Importing libraries"
   ]
  },
  {
   "cell_type": "code",
   "execution_count": 1,
   "metadata": {
    "id": "kCQMxr852yrE"
   },
   "outputs": [],
   "source": [
    "import pandas as pd\n",
    "import numpy as np\n",
    "from os import path\n",
    "import time\n",
    "import calendar\n",
    "import seaborn as sns\n",
    "sns.set()\n",
    "import matplotlib.pyplot as plt\n",
    "%matplotlib inline\n",
    "\n",
    "from nltk.tokenize import sent_tokenize, word_tokenize\n",
    "import csv,warnings\n",
    "  \n",
    "warnings.filterwarnings(action = 'ignore')\n",
    "  \n",
    "import gensim\n",
    "from gensim.models import Word2Vec\n",
    "\n",
    "\n",
    "#from wordcloud import WordCloud, STOPWORDS\n",
    "\n",
    "#NLTK\n",
    "from nltk import ngrams\n",
    "from nltk.corpus import stopwords\n",
    "from nltk.stem import WordNetLemmatizer\n",
    "from nltk.stem import PorterStemmer\n",
    "\n",
    "#Feature Extraction\n",
    "from sklearn.feature_extraction.text import TfidfVectorizer\n",
    "from sklearn.feature_extraction.text import CountVectorizer\n",
    "from sklearn.feature_extraction.text import TfidfTransformer\n",
    "\n",
    "#Model Training\n",
    "from sklearn.svm import SVC\n",
    "from sklearn.naive_bayes import MultinomialNB\n",
    "from sklearn.pipeline import Pipeline\n",
    "from sklearn.model_selection import train_test_split\n",
    "from sklearn.linear_model import LogisticRegression\n",
    "from sklearn.model_selection import cross_val_score\n",
    "from sklearn.model_selection import GridSearchCV\n",
    "from sklearn.metrics.pairwise import cosine_similarity\n",
    "from sklearn.metrics import accuracy_score, confusion_matrix, recall_score, precision_score, f1_score\n"
   ]
  },
  {
   "cell_type": "markdown",
   "metadata": {
    "id": "wpKD_So7G-FY"
   },
   "source": [
    "# Importing CSV files"
   ]
  },
  {
   "cell_type": "code",
   "execution_count": 3,
   "metadata": {
    "colab": {
     "base_uri": "https://localhost:8080/"
    },
    "id": "LeRSkBPZ28rQ",
    "outputId": "37704462-d8ca-4f39-b7d4-f2f9cd01912b"
   },
   "outputs": [
    {
     "name": "stderr",
     "output_type": "stream",
     "text": [
      "C:\\Users\\VATSALA NEMA\\AppData\\Local\\Temp\\ipykernel_9924\\2517431560.py:1: FutureWarning: The error_bad_lines argument has been deprecated and will be removed in a future version. Use on_bad_lines in the future.\n",
      "\n",
      "\n",
      "  train_df=pd.read_csv(\"C:/Users/VATSALA NEMA/Documents/SEM 7/NLP 2022/Project- Sarcasm detection in Soc med/Dataset/project1/project_training_data_with_class_labels.csv\" , error_bad_lines=False)\n"
     ]
    }
   ],
   "source": [
    "train_df=pd.read_csv(\"C:/Users/VATSALA NEMA/Documents/SEM 7/NLP 2022/Project- Sarcasm detection in Soc med/Dataset/project1/project_training_data_with_class_labels.csv\" , error_bad_lines=False) "
   ]
  },
  {
   "cell_type": "code",
   "execution_count": 4,
   "metadata": {
    "colab": {
     "base_uri": "https://localhost:8080/",
     "height": 424
    },
    "id": "Hk_ufL1G3Etx",
    "outputId": "05468c46-6398-4018-cf51-53e83126fe38"
   },
   "outputs": [
    {
     "data": {
      "text/html": [
       "<div>\n",
       "<style scoped>\n",
       "    .dataframe tbody tr th:only-of-type {\n",
       "        vertical-align: middle;\n",
       "    }\n",
       "\n",
       "    .dataframe tbody tr th {\n",
       "        vertical-align: top;\n",
       "    }\n",
       "\n",
       "    .dataframe thead th {\n",
       "        text-align: right;\n",
       "    }\n",
       "</style>\n",
       "<table border=\"1\" class=\"dataframe\">\n",
       "  <thead>\n",
       "    <tr style=\"text-align: right;\">\n",
       "      <th></th>\n",
       "      <th>ID</th>\n",
       "      <th>Comments</th>\n",
       "      <th>Parent Comments</th>\n",
       "      <th>Class Labels</th>\n",
       "      <th>Unnamed: 4</th>\n",
       "    </tr>\n",
       "  </thead>\n",
       "  <tbody>\n",
       "    <tr>\n",
       "      <th>0</th>\n",
       "      <td>ocxtitan</td>\n",
       "      <td>Central Illinois</td>\n",
       "      <td>Jesus; where do you live?</td>\n",
       "      <td>non-sarcastic</td>\n",
       "      <td>NaN</td>\n",
       "    </tr>\n",
       "    <tr>\n",
       "      <th>1</th>\n",
       "      <td>LeChuckly</td>\n",
       "      <td>To think - CNN used to be the acronym synonymo...</td>\n",
       "      <td>Even The CNN Staff Is Sick Of The Wall-To-Wall...</td>\n",
       "      <td>non-sarcastic</td>\n",
       "      <td>NaN</td>\n",
       "    </tr>\n",
       "    <tr>\n",
       "      <th>2</th>\n",
       "      <td>throwitskrub8</td>\n",
       "      <td>But then again; you have to consider that all ...</td>\n",
       "      <td>agree to that part.It can also mean that gujra...</td>\n",
       "      <td>non-sarcastic</td>\n",
       "      <td>NaN</td>\n",
       "    </tr>\n",
       "    <tr>\n",
       "      <th>3</th>\n",
       "      <td>fresherthanyouuu</td>\n",
       "      <td>ughhhhh</td>\n",
       "      <td>If a guy told you he doesn't use social media ...</td>\n",
       "      <td>non-sarcastic</td>\n",
       "      <td>NaN</td>\n",
       "    </tr>\n",
       "    <tr>\n",
       "      <th>4</th>\n",
       "      <td>_kushagra</td>\n",
       "      <td>I should've put the</td>\n",
       "      <td>No; it's just a programming bug. After all; th...</td>\n",
       "      <td>sarcastic</td>\n",
       "      <td>NaN</td>\n",
       "    </tr>\n",
       "    <tr>\n",
       "      <th>...</th>\n",
       "      <td>...</td>\n",
       "      <td>...</td>\n",
       "      <td>...</td>\n",
       "      <td>...</td>\n",
       "      <td>...</td>\n",
       "    </tr>\n",
       "    <tr>\n",
       "      <th>808098</th>\n",
       "      <td>Arectarius</td>\n",
       "      <td>50% hp/def elgif; impiety orb; bourn jewel che...</td>\n",
       "      <td>Hate to break it to you; but Gloomy can't do a...</td>\n",
       "      <td>sarcastic</td>\n",
       "      <td>NaN</td>\n",
       "    </tr>\n",
       "    <tr>\n",
       "      <th>808099</th>\n",
       "      <td>dale1v</td>\n",
       "      <td>Rubicon Mango.</td>\n",
       "      <td>Hey Reddit; if you could only drink one flavor...</td>\n",
       "      <td>non-sarcastic</td>\n",
       "      <td>NaN</td>\n",
       "    </tr>\n",
       "    <tr>\n",
       "      <th>808100</th>\n",
       "      <td>Semyonov</td>\n",
       "      <td>Essentially GAP insurance right?</td>\n",
       "      <td>I'm sure you can pay for it. Most insurance pl...</td>\n",
       "      <td>non-sarcastic</td>\n",
       "      <td>NaN</td>\n",
       "    </tr>\n",
       "    <tr>\n",
       "      <th>808101</th>\n",
       "      <td>futalover99</td>\n",
       "      <td>Yeah; but sometimes that weird kid keeps tryin...</td>\n",
       "      <td>Ive been subscribed to that for a while; and a...</td>\n",
       "      <td>non-sarcastic</td>\n",
       "      <td>NaN</td>\n",
       "    </tr>\n",
       "    <tr>\n",
       "      <th>808102</th>\n",
       "      <td>SuperSpartacus</td>\n",
       "      <td>Petroleum doesn't really require a terroir lik...</td>\n",
       "      <td>It must be very different for oil then. I know...</td>\n",
       "      <td>non-sarcastic</td>\n",
       "      <td>NaN</td>\n",
       "    </tr>\n",
       "  </tbody>\n",
       "</table>\n",
       "<p>808103 rows × 5 columns</p>\n",
       "</div>"
      ],
      "text/plain": [
       "                      ID                                           Comments  \\\n",
       "0               ocxtitan                                   Central Illinois   \n",
       "1              LeChuckly  To think - CNN used to be the acronym synonymo...   \n",
       "2          throwitskrub8  But then again; you have to consider that all ...   \n",
       "3       fresherthanyouuu                                            ughhhhh   \n",
       "4              _kushagra                                I should've put the   \n",
       "...                  ...                                                ...   \n",
       "808098        Arectarius  50% hp/def elgif; impiety orb; bourn jewel che...   \n",
       "808099            dale1v                                     Rubicon Mango.   \n",
       "808100          Semyonov                   Essentially GAP insurance right?   \n",
       "808101       futalover99  Yeah; but sometimes that weird kid keeps tryin...   \n",
       "808102    SuperSpartacus  Petroleum doesn't really require a terroir lik...   \n",
       "\n",
       "                                          Parent Comments  Class Labels   \\\n",
       "0                               Jesus; where do you live?  non-sarcastic   \n",
       "1       Even The CNN Staff Is Sick Of The Wall-To-Wall...  non-sarcastic   \n",
       "2       agree to that part.It can also mean that gujra...  non-sarcastic   \n",
       "3       If a guy told you he doesn't use social media ...  non-sarcastic   \n",
       "4       No; it's just a programming bug. After all; th...      sarcastic   \n",
       "...                                                   ...            ...   \n",
       "808098  Hate to break it to you; but Gloomy can't do a...      sarcastic   \n",
       "808099  Hey Reddit; if you could only drink one flavor...  non-sarcastic   \n",
       "808100  I'm sure you can pay for it. Most insurance pl...  non-sarcastic   \n",
       "808101  Ive been subscribed to that for a while; and a...  non-sarcastic   \n",
       "808102  It must be very different for oil then. I know...  non-sarcastic   \n",
       "\n",
       "       Unnamed: 4  \n",
       "0             NaN  \n",
       "1             NaN  \n",
       "2             NaN  \n",
       "3             NaN  \n",
       "4             NaN  \n",
       "...           ...  \n",
       "808098        NaN  \n",
       "808099        NaN  \n",
       "808100        NaN  \n",
       "808101        NaN  \n",
       "808102        NaN  \n",
       "\n",
       "[808103 rows x 5 columns]"
      ]
     },
     "execution_count": 4,
     "metadata": {},
     "output_type": "execute_result"
    }
   ],
   "source": [
    "train_df "
   ]
  },
  {
   "cell_type": "markdown",
   "metadata": {
    "id": "02CAARD7AhJv"
   },
   "source": [
    "# Cleaning the dataset"
   ]
  },
  {
   "cell_type": "code",
   "execution_count": 5,
   "metadata": {
    "id": "D_ytyOe33aui"
   },
   "outputs": [],
   "source": [
    "df1 = train_df[train_df.isna().any(axis=1)]"
   ]
  },
  {
   "cell_type": "code",
   "execution_count": 6,
   "metadata": {
    "colab": {
     "base_uri": "https://localhost:8080/",
     "height": 175
    },
    "id": "vGB6UGwDAYsr",
    "outputId": "88d96206-00ac-4605-9a9b-bb51d8141d52"
   },
   "outputs": [
    {
     "data": {
      "text/html": [
       "<div>\n",
       "<style scoped>\n",
       "    .dataframe tbody tr th:only-of-type {\n",
       "        vertical-align: middle;\n",
       "    }\n",
       "\n",
       "    .dataframe tbody tr th {\n",
       "        vertical-align: top;\n",
       "    }\n",
       "\n",
       "    .dataframe thead th {\n",
       "        text-align: right;\n",
       "    }\n",
       "</style>\n",
       "<table border=\"1\" class=\"dataframe\">\n",
       "  <thead>\n",
       "    <tr style=\"text-align: right;\">\n",
       "      <th></th>\n",
       "      <th>ID</th>\n",
       "      <th>Comments</th>\n",
       "      <th>Parent Comments</th>\n",
       "      <th>Class Labels</th>\n",
       "      <th>Unnamed: 4</th>\n",
       "    </tr>\n",
       "  </thead>\n",
       "  <tbody>\n",
       "    <tr>\n",
       "      <th>0</th>\n",
       "      <td>ocxtitan</td>\n",
       "      <td>Central Illinois</td>\n",
       "      <td>Jesus; where do you live?</td>\n",
       "      <td>non-sarcastic</td>\n",
       "      <td>NaN</td>\n",
       "    </tr>\n",
       "    <tr>\n",
       "      <th>1</th>\n",
       "      <td>LeChuckly</td>\n",
       "      <td>To think - CNN used to be the acronym synonymo...</td>\n",
       "      <td>Even The CNN Staff Is Sick Of The Wall-To-Wall...</td>\n",
       "      <td>non-sarcastic</td>\n",
       "      <td>NaN</td>\n",
       "    </tr>\n",
       "    <tr>\n",
       "      <th>2</th>\n",
       "      <td>throwitskrub8</td>\n",
       "      <td>But then again; you have to consider that all ...</td>\n",
       "      <td>agree to that part.It can also mean that gujra...</td>\n",
       "      <td>non-sarcastic</td>\n",
       "      <td>NaN</td>\n",
       "    </tr>\n",
       "    <tr>\n",
       "      <th>3</th>\n",
       "      <td>fresherthanyouuu</td>\n",
       "      <td>ughhhhh</td>\n",
       "      <td>If a guy told you he doesn't use social media ...</td>\n",
       "      <td>non-sarcastic</td>\n",
       "      <td>NaN</td>\n",
       "    </tr>\n",
       "    <tr>\n",
       "      <th>4</th>\n",
       "      <td>_kushagra</td>\n",
       "      <td>I should've put the</td>\n",
       "      <td>No; it's just a programming bug. After all; th...</td>\n",
       "      <td>sarcastic</td>\n",
       "      <td>NaN</td>\n",
       "    </tr>\n",
       "    <tr>\n",
       "      <th>...</th>\n",
       "      <td>...</td>\n",
       "      <td>...</td>\n",
       "      <td>...</td>\n",
       "      <td>...</td>\n",
       "      <td>...</td>\n",
       "    </tr>\n",
       "    <tr>\n",
       "      <th>808098</th>\n",
       "      <td>Arectarius</td>\n",
       "      <td>50% hp/def elgif; impiety orb; bourn jewel che...</td>\n",
       "      <td>Hate to break it to you; but Gloomy can't do a...</td>\n",
       "      <td>sarcastic</td>\n",
       "      <td>NaN</td>\n",
       "    </tr>\n",
       "    <tr>\n",
       "      <th>808099</th>\n",
       "      <td>dale1v</td>\n",
       "      <td>Rubicon Mango.</td>\n",
       "      <td>Hey Reddit; if you could only drink one flavor...</td>\n",
       "      <td>non-sarcastic</td>\n",
       "      <td>NaN</td>\n",
       "    </tr>\n",
       "    <tr>\n",
       "      <th>808100</th>\n",
       "      <td>Semyonov</td>\n",
       "      <td>Essentially GAP insurance right?</td>\n",
       "      <td>I'm sure you can pay for it. Most insurance pl...</td>\n",
       "      <td>non-sarcastic</td>\n",
       "      <td>NaN</td>\n",
       "    </tr>\n",
       "    <tr>\n",
       "      <th>808101</th>\n",
       "      <td>futalover99</td>\n",
       "      <td>Yeah; but sometimes that weird kid keeps tryin...</td>\n",
       "      <td>Ive been subscribed to that for a while; and a...</td>\n",
       "      <td>non-sarcastic</td>\n",
       "      <td>NaN</td>\n",
       "    </tr>\n",
       "    <tr>\n",
       "      <th>808102</th>\n",
       "      <td>SuperSpartacus</td>\n",
       "      <td>Petroleum doesn't really require a terroir lik...</td>\n",
       "      <td>It must be very different for oil then. I know...</td>\n",
       "      <td>non-sarcastic</td>\n",
       "      <td>NaN</td>\n",
       "    </tr>\n",
       "  </tbody>\n",
       "</table>\n",
       "<p>808093 rows × 5 columns</p>\n",
       "</div>"
      ],
      "text/plain": [
       "                      ID                                           Comments  \\\n",
       "0               ocxtitan                                   Central Illinois   \n",
       "1              LeChuckly  To think - CNN used to be the acronym synonymo...   \n",
       "2          throwitskrub8  But then again; you have to consider that all ...   \n",
       "3       fresherthanyouuu                                            ughhhhh   \n",
       "4              _kushagra                                I should've put the   \n",
       "...                  ...                                                ...   \n",
       "808098        Arectarius  50% hp/def elgif; impiety orb; bourn jewel che...   \n",
       "808099            dale1v                                     Rubicon Mango.   \n",
       "808100          Semyonov                   Essentially GAP insurance right?   \n",
       "808101       futalover99  Yeah; but sometimes that weird kid keeps tryin...   \n",
       "808102    SuperSpartacus  Petroleum doesn't really require a terroir lik...   \n",
       "\n",
       "                                          Parent Comments  Class Labels   \\\n",
       "0                               Jesus; where do you live?  non-sarcastic   \n",
       "1       Even The CNN Staff Is Sick Of The Wall-To-Wall...  non-sarcastic   \n",
       "2       agree to that part.It can also mean that gujra...  non-sarcastic   \n",
       "3       If a guy told you he doesn't use social media ...  non-sarcastic   \n",
       "4       No; it's just a programming bug. After all; th...      sarcastic   \n",
       "...                                                   ...            ...   \n",
       "808098  Hate to break it to you; but Gloomy can't do a...      sarcastic   \n",
       "808099  Hey Reddit; if you could only drink one flavor...  non-sarcastic   \n",
       "808100  I'm sure you can pay for it. Most insurance pl...  non-sarcastic   \n",
       "808101  Ive been subscribed to that for a while; and a...  non-sarcastic   \n",
       "808102  It must be very different for oil then. I know...  non-sarcastic   \n",
       "\n",
       "       Unnamed: 4  \n",
       "0             NaN  \n",
       "1             NaN  \n",
       "2             NaN  \n",
       "3             NaN  \n",
       "4             NaN  \n",
       "...           ...  \n",
       "808098        NaN  \n",
       "808099        NaN  \n",
       "808100        NaN  \n",
       "808101        NaN  \n",
       "808102        NaN  \n",
       "\n",
       "[808093 rows x 5 columns]"
      ]
     },
     "execution_count": 6,
     "metadata": {},
     "output_type": "execute_result"
    }
   ],
   "source": [
    "df1"
   ]
  },
  {
   "cell_type": "code",
   "execution_count": 7,
   "metadata": {
    "id": "dHu7ilBxAl0i"
   },
   "outputs": [],
   "source": [
    "df2= train_df.dropna()"
   ]
  },
  {
   "cell_type": "code",
   "execution_count": 8,
   "metadata": {
    "id": "6kWDOg6cCLtD"
   },
   "outputs": [
    {
     "name": "stderr",
     "output_type": "stream",
     "text": [
      "C:\\Users\\VATSALA NEMA\\AppData\\Local\\Temp\\ipykernel_9924\\3756746671.py:1: SettingWithCopyWarning: \n",
      "A value is trying to be set on a copy of a slice from a DataFrame\n",
      "\n",
      "See the caveats in the documentation: https://pandas.pydata.org/pandas-docs/stable/user_guide/indexing.html#returning-a-view-versus-a-copy\n",
      "  df2.rename(columns = {' Class Labels ':'label'}, inplace = True)\n"
     ]
    }
   ],
   "source": [
    "df2.rename(columns = {' Class Labels ':'label'}, inplace = True)"
   ]
  },
  {
   "cell_type": "code",
   "execution_count": 9,
   "metadata": {
    "id": "KpWM6NYqBFuW"
   },
   "outputs": [
    {
     "name": "stderr",
     "output_type": "stream",
     "text": [
      "C:\\Users\\VATSALA NEMA\\AppData\\Local\\Temp\\ipykernel_9924\\1160797125.py:1: SettingWithCopyWarning: \n",
      "A value is trying to be set on a copy of a slice from a DataFrame\n",
      "\n",
      "See the caveats in the documentation: https://pandas.pydata.org/pandas-docs/stable/user_guide/indexing.html#returning-a-view-versus-a-copy\n",
      "  df2['label'].replace(['non-sarcastic','sarcastic'],[1,0], inplace = True)\n"
     ]
    }
   ],
   "source": [
    "df2['label'].replace(['non-sarcastic','sarcastic'],[1,0], inplace = True)"
   ]
  },
  {
   "cell_type": "markdown",
   "metadata": {},
   "source": [
    "# Explorartory Data Analysis"
   ]
  },
  {
   "cell_type": "code",
   "execution_count": 10,
   "metadata": {
    "colab": {
     "base_uri": "https://localhost:8080/",
     "height": 206
    },
    "id": "bumL72PcDAht",
    "outputId": "dc48720b-00dd-4b03-b081-6d6af75b30b3"
   },
   "outputs": [
    {
     "data": {
      "text/html": [
       "<div>\n",
       "<style scoped>\n",
       "    .dataframe tbody tr th:only-of-type {\n",
       "        vertical-align: middle;\n",
       "    }\n",
       "\n",
       "    .dataframe tbody tr th {\n",
       "        vertical-align: top;\n",
       "    }\n",
       "\n",
       "    .dataframe thead th {\n",
       "        text-align: right;\n",
       "    }\n",
       "</style>\n",
       "<table border=\"1\" class=\"dataframe\">\n",
       "  <thead>\n",
       "    <tr style=\"text-align: right;\">\n",
       "      <th></th>\n",
       "      <th>ID</th>\n",
       "      <th>Comments</th>\n",
       "      <th>Parent Comments</th>\n",
       "      <th>label</th>\n",
       "      <th>Unnamed: 4</th>\n",
       "    </tr>\n",
       "  </thead>\n",
       "  <tbody>\n",
       "    <tr>\n",
       "      <th>72350</th>\n",
       "      <td>CatLions</td>\n",
       "      <td>heres some MATH for you fat + person = gross</td>\n",
       "      <td>Twice the size of everyone else = 3(2),non-sar...</td>\n",
       "      <td>Chaining help So i was dexnav chaining for a r...</td>\n",
       "      <td>non-sarcastic</td>\n",
       "    </tr>\n",
       "    <tr>\n",
       "      <th>104350</th>\n",
       "      <td>Nextasy</td>\n",
       "      <td>Ah yes; I remember grade seven.</td>\n",
       "      <td>Penis'',non-sarcastic\\nDemon9ne,Yeah; I rememb...</td>\n",
       "      <td>And I assume that's a big f you to all us peop...</td>\n",
       "      <td>sarcastic</td>\n",
       "    </tr>\n",
       "    <tr>\n",
       "      <th>202371</th>\n",
       "      <td>CTeam19</td>\n",
       "      <td>What is the funniest thing Coach Leech has don...</td>\n",
       "      <td>Guns Up Reddit !! I'm Coach Kliff Kingsbury AM...</td>\n",
       "      <td>When a young moderately attractive gentleman a...</td>\n",
       "      <td>non-sarcastic</td>\n",
       "    </tr>\n",
       "    <tr>\n",
       "      <th>207921</th>\n",
       "      <td>DanBRZ</td>\n",
       "      <td>Future Pro Bowl LB Ramon Humber now.</td>\n",
       "      <td>Patriots have reached a 1-year contract agreem...</td>\n",
       "      <td>Why is this so funny?</td>\n",
       "      <td>non-sarcastic</td>\n",
       "    </tr>\n",
       "    <tr>\n",
       "      <th>309630</th>\n",
       "      <td>Eternally65</td>\n",
       "      <td>We surrender!</td>\n",
       "      <td>What a lot of scoundrels! That's it!! If they ...</td>\n",
       "      <td>What about some of the other races of the cove...</td>\n",
       "      <td>non-sarcastic</td>\n",
       "    </tr>\n",
       "  </tbody>\n",
       "</table>\n",
       "</div>"
      ],
      "text/plain": [
       "                 ID                                           Comments  \\\n",
       "72350      CatLions       heres some MATH for you fat + person = gross   \n",
       "104350      Nextasy                    Ah yes; I remember grade seven.   \n",
       "202371      CTeam19  What is the funniest thing Coach Leech has don...   \n",
       "207921       DanBRZ               Future Pro Bowl LB Ramon Humber now.   \n",
       "309630  Eternally65                                      We surrender!   \n",
       "\n",
       "                                          Parent Comments  \\\n",
       "72350   Twice the size of everyone else = 3(2),non-sar...   \n",
       "104350  Penis'',non-sarcastic\\nDemon9ne,Yeah; I rememb...   \n",
       "202371  Guns Up Reddit !! I'm Coach Kliff Kingsbury AM...   \n",
       "207921  Patriots have reached a 1-year contract agreem...   \n",
       "309630  What a lot of scoundrels! That's it!! If they ...   \n",
       "\n",
       "                                                    label     Unnamed: 4  \n",
       "72350   Chaining help So i was dexnav chaining for a r...  non-sarcastic  \n",
       "104350  And I assume that's a big f you to all us peop...      sarcastic  \n",
       "202371  When a young moderately attractive gentleman a...  non-sarcastic  \n",
       "207921                              Why is this so funny?  non-sarcastic  \n",
       "309630  What about some of the other races of the cove...  non-sarcastic  "
      ]
     },
     "execution_count": 10,
     "metadata": {},
     "output_type": "execute_result"
    }
   ],
   "source": [
    "df2.head()"
   ]
  },
  {
   "cell_type": "code",
   "execution_count": 11,
   "metadata": {
    "colab": {
     "base_uri": "https://localhost:8080/"
    },
    "id": "Iv4UuycbUYgL",
    "outputId": "8cb2f14d-0750-4d72-b357-fe855c740f62"
   },
   "outputs": [
    {
     "name": "stdout",
     "output_type": "stream",
     "text": [
      "<class 'pandas.core.frame.DataFrame'>\n",
      "Int64Index: 10 entries, 72350 to 790508\n",
      "Data columns (total 5 columns):\n",
      " #   Column           Non-Null Count  Dtype \n",
      "---  ------           --------------  ----- \n",
      " 0   ID               10 non-null     object\n",
      " 1   Comments         10 non-null     object\n",
      " 2   Parent Comments  10 non-null     object\n",
      " 3   label            10 non-null     object\n",
      " 4   Unnamed: 4       10 non-null     object\n",
      "dtypes: object(5)\n",
      "memory usage: 480.0+ bytes\n"
     ]
    }
   ],
   "source": [
    "df2.info()"
   ]
  },
  {
   "cell_type": "markdown",
   "metadata": {
    "id": "8yFX6sseGms9"
   },
   "source": [
    "**Exploratory Data Analysis**"
   ]
  },
  {
   "cell_type": "code",
   "execution_count": 12,
   "metadata": {
    "colab": {
     "base_uri": "https://localhost:8080/"
    },
    "id": "jB7HGEorDcvH",
    "outputId": "8409445b-f751-4a81-cb78-f2220d43e05f"
   },
   "outputs": [
    {
     "data": {
      "text/plain": [
       "Chaining help So i was dexnav chaining for a ralts on r102 and then i got the thing \"cannot be found in the area or whatever\" so then i start walking around to reset it and thrn a wild lillipup shows up so i sneak up to it assuming that if i dont battle it it will brwka my chain. Now im in battle with it right now but its level 17 (it was my 20th chain) does incountering a different wild pokemon reset my chain? thanks.    1\n",
       "And I assume that's a big f you to all us people of color; gays; and women who voted for her instead of Bernie because we don't believe in his phoney promises; he has no history with us; and just joined the Democratic Party to us it to run; trash it and its leader; and leave again.                                                                                                                                                1\n",
       "When a young moderately attractive gentleman appears and says with a quivering voice \"Hey how are you? :}\" (x-post from r/justneckbeardthings)                                                                                                                                                                                                                                                                                            1\n",
       "Why is this so funny?                                                                                                                                                                                                                                                                                                                                                                                                                     1\n",
       "What about some of the other races of the covenant?                                                                                                                                                                                                                                                                                                                                                                                       1\n",
       "Played Skyrim for the first time...pretty sure this wasn't supposed to happen.                                                                                                                                                                                                                                                                                                                                                            1\n",
       "I want that PR manager                                                                                                                                                                                                                                                                                                                                                                                                                    1\n",
       "Israeli naval ship 'bombs Palestinian children on Gaza beach'; killing four... A journalist who saw the incident said some of the children who survived were running away when another shell seemed to be aimed at them.                                                                                                                                                                                                                  1\n",
       "If I made money per line of code; I would use the enter key more.                                                                                                                                                                                                                                                                                                                                                                         1\n",
       "Both Hitler and Stalin had mustaches. Did they fight in the name of mustaches? (Not original)                                                                                                                                                                                                                                                                                                                                             1\n",
       "Name: label, dtype: int64"
      ]
     },
     "execution_count": 12,
     "metadata": {},
     "output_type": "execute_result"
    }
   ],
   "source": [
    "# to check number of sarcastic and non-sarcastic comments\n",
    "df2['label'].value_counts()"
   ]
  },
  {
   "cell_type": "markdown",
   "metadata": {
    "id": "uylIXRBuBEdt"
   },
   "source": [
    "Almost equal number of sarcastic and non-sarcastic comments."
   ]
  },
  {
   "cell_type": "code",
   "execution_count": 13,
   "metadata": {
    "colab": {
     "base_uri": "https://localhost:8080/"
    },
    "id": "yRYnQalNFYU4",
    "outputId": "1a97f4bf-1365-480f-d030-a864071ae966"
   },
   "outputs": [
    {
     "name": "stdout",
     "output_type": "stream",
     "text": [
      "Chaining help So i was dexnav chaining for a ralts on r102 and then i got the thing \"cannot be found in the area or whatever\" so then i start walking around to reset it and thrn a wild lillipup shows up so i sneak up to it assuming that if i dont battle it it will brwka my chain. Now im in battle with it right now but its level 17 (it was my 20th chain) does incountering a different wild pokemon reset my chain? thanks.    0.1\n",
      "And I assume that's a big f you to all us people of color; gays; and women who voted for her instead of Bernie because we don't believe in his phoney promises; he has no history with us; and just joined the Democratic Party to us it to run; trash it and its leader; and leave again.                                                                                                                                                0.1\n",
      "When a young moderately attractive gentleman appears and says with a quivering voice \"Hey how are you? :}\" (x-post from r/justneckbeardthings)                                                                                                                                                                                                                                                                                            0.1\n",
      "Why is this so funny?                                                                                                                                                                                                                                                                                                                                                                                                                     0.1\n",
      "What about some of the other races of the covenant?                                                                                                                                                                                                                                                                                                                                                                                       0.1\n",
      "Played Skyrim for the first time...pretty sure this wasn't supposed to happen.                                                                                                                                                                                                                                                                                                                                                            0.1\n",
      "I want that PR manager                                                                                                                                                                                                                                                                                                                                                                                                                    0.1\n",
      "Israeli naval ship 'bombs Palestinian children on Gaza beach'; killing four... A journalist who saw the incident said some of the children who survived were running away when another shell seemed to be aimed at them.                                                                                                                                                                                                                  0.1\n",
      "If I made money per line of code; I would use the enter key more.                                                                                                                                                                                                                                                                                                                                                                         0.1\n",
      "Both Hitler and Stalin had mustaches. Did they fight in the name of mustaches? (Not original)                                                                                                                                                                                                                                                                                                                                             0.1\n",
      "Name: label, dtype: float64\n"
     ]
    }
   ],
   "source": [
    "#Checking percentage of sarcastic and non-sarcastic comments\n",
    "print(df2['label'].value_counts()/len(df2))"
   ]
  },
  {
   "cell_type": "code",
   "execution_count": 17,
   "metadata": {
    "colab": {
     "base_uri": "https://localhost:8080/",
     "height": 350
    },
    "id": "B_pE94BtBSuP",
    "outputId": "2bdb5535-3d8d-4fca-9597-7e711512739c"
   },
   "outputs": [
    {
     "data": {
      "image/png": "[encoded data removed]",
      "text/plain": [
       "<Figure size 500x500 with 1 Axes>"
      ]
     },
     "metadata": {},
     "output_type": "display_data"
    }
   ],
   "source": [
    "#Plotting percentage of sarcastic and non-sarcastic comments\n",
    "plt.figure(figsize=(5,5))\n",
    "ax = sns.countplot(x='label',  data= df2)\n",
    "ax.set(title = \"Distribution of Classes\", xlabel=\"Sarcasm Status\", ylabel = \"Total Count\")\n",
    "total = float(len(train_df))\n",
    "for p in ax.patches:\n",
    "    height = p.get_height()\n",
    "    ax.text(p.get_x()+p.get_width()/2.,\n",
    "            height + 3,\n",
    "            '{:1.1f}%'.format((height/total)*100),\n",
    "            ha=\"center\") \n",
    "plt.show()"
   ]
  },
  {
   "cell_type": "code",
   "execution_count": 18,
   "metadata": {
    "colab": {
     "base_uri": "https://localhost:8080/",
     "height": 281
    },
    "id": "hO5UX2J10MMb",
    "outputId": "d33ec26d-d223-4a3b-c602-17e2201577ea"
   },
   "outputs": [
    {
     "data": {
      "image/png": "[encoded data removed]",
      "text/plain": [
       "<Figure size 640x480 with 1 Axes>"
      ]
     },
     "metadata": {},
     "output_type": "display_data"
    }
   ],
   "source": [
    "# To check if there is any relation between the length of the comment and its label\n",
    "df2.loc[df2['label']==1,'Comments'].str.len().apply(np.log1p).hist(label='sarcastic', alpha=.5)\n",
    "df2.loc[df2['label']==0,'Comments'].str.len().apply(np.log1p).hist(label='non-sarcastic', alpha=.5)\n",
    "plt.legend()\n",
    "plt.title('Natural Log Length of Comments')\n",
    "plt.show()"
   ]
  },
  {
   "cell_type": "markdown",
   "metadata": {
    "id": "_9o3RzVnd70t"
   },
   "source": [
    "Sarcastic comments are normally distributed in length. Non-sarcastic comments has a right-skew."
   ]
  },
  {
   "cell_type": "markdown",
   "metadata": {
    "colab": {
     "base_uri": "https://localhost:8080/",
     "height": 386
    },
    "id": "wOkkCnR6B939",
    "outputId": "fd76ec42-f99d-4da9-f9cd-0d9affd76693"
   },
   "source": [
    "Finding the most common words in the sarcastic comments using wordclous\n",
    "wordcloud = WordCloud(background_color='black', stopwords = STOPWORDS,\n",
    "                max_words = 200, max_font_size = 100, \n",
    "                random_state = 17, width=800, height=400)\n",
    "\n",
    "plt.figure(figsize=(12, 12))\n",
    "wordcloud.generate(str(df2.loc[df2['label'] == 1, 'Parent Comments']))\n",
    "plt.grid(b= False)\n",
    "plt.imshow(wordcloud);"
   ]
  },
  {
   "cell_type": "code",
   "execution_count": null,
   "metadata": {
    "id": "G6sZoOaLCuDl"
   },
   "outputs": [],
   "source": [
    "# Comparing sarcastic comments with Parent comments\n",
    "sarcasm_comm_len = np.array(df2.loc[df2['label'] == 1]['Comments'].str.len())\n",
    "parent_comm_len = np.array(df2.loc[df2['label'] == 1]['Parent Comments'].str.len())\n",
    "ratio_len = np.array((df2.loc[df2['label'] == 1]['Comments'].str.len())/(df2.loc[df2['label'] == 1]['Parent Comments'].str.len()))"
   ]
  },
  {
   "cell_type": "code",
   "execution_count": null,
   "metadata": {
    "id": "gRR1wNN9DIFw"
   },
   "outputs": [],
   "source": [
    "d = pd.DataFrame({'Comment Length': sarcasm_comm_len, 'Parent Comment Length': parent_comm_len, 'Ratio Length': ratio_len}, columns=['Comment Length', 'Parent Comment Length', 'Ratio Length'])"
   ]
  },
  {
   "cell_type": "code",
   "execution_count": null,
   "metadata": {
    "colab": {
     "base_uri": "https://localhost:8080/",
     "height": 295
    },
    "id": "c8bNU05FDQeU",
    "outputId": "2ffca103-5cd7-4b6e-8916-762aaba0c5be"
   },
   "outputs": [],
   "source": [
    "ax = plt.axes()\n",
    "sns.scatterplot(data=d, x=\"Comment Length\", y=\"Parent Comment Length\",  size=ratio_len)\n",
    "ax.set_title(\"Comparing Sarcastic Comment Length with Parent Comment\")\n",
    "# control x and y limits\n",
    "plt.ylim(0, 12000)\n",
    "plt.xlim(0, 800)\n",
    "plt.show()"
   ]
  },
  {
   "cell_type": "markdown",
   "metadata": {},
   "source": [
    "We find that parent comment length and comment length of sarcastic comments is almost same and there is no new information revealed with parent comments. So, we will use 'Comments' in further analysis."
   ]
  },
  {
   "cell_type": "markdown",
   "metadata": {},
   "source": [
    "# Feature Extraction"
   ]
  },
  {
   "cell_type": "markdown",
   "metadata": {},
   "source": [
    "***Bag of Words Model***"
   ]
  },
  {
   "cell_type": "markdown",
   "metadata": {},
   "source": [
    "To look at the most frequent words in the Comments using bag of words model"
   ]
  },
  {
   "cell_type": "code",
   "execution_count": null,
   "metadata": {},
   "outputs": [],
   "source": [
    "vectorizer_1 = CountVectorizer(stop_words='english', ngram_range=(1, 1)) #unigram\n",
    "vectorizer_2 = CountVectorizer(stop_words='english', ngram_range=(2, 2)) #bigram"
   ]
  },
  {
   "cell_type": "code",
   "execution_count": null,
   "metadata": {},
   "outputs": [],
   "source": [
    "#vectorizer_1 = CountVectorizer(ngram_range=(1, 1)) #unigram\n",
    "#vectorizer_2 = CountVectorizer (ngram_range=(2, 2)) #bigram"
   ]
  },
  {
   "cell_type": "code",
   "execution_count": null,
   "metadata": {},
   "outputs": [],
   "source": [
    "# Function to calculate frequency of words in comments\n",
    "def freq_words(vectorizer, data):\n",
    "    X = vectorizer.fit_transform(data)\n",
    "    freqs = zip(vectorizer.get_feature_names(), np.asarray(X.sum(axis=0)).ravel())\n",
    "    return sorted(freqs, key = lambda x: x[1], reverse=True)[:10]"
   ]
  },
  {
   "cell_type": "code",
   "execution_count": null,
   "metadata": {},
   "outputs": [],
   "source": [
    "# For unigrams from comments\n",
    "l = [freq_words(vectorizer_1, df2[df2['label']==1]['Comments']),\n",
    "     freq_words(vectorizer_1, df2[df2['label']==0]['Comments'])]\n",
    "list(map(list, zip(*l)))"
   ]
  },
  {
   "cell_type": "markdown",
   "metadata": {},
   "source": [
    "Here, the first column shows sarcastic comments and second column shows non-sarcastic comments. Since we have not removed stopwords, we are geeting a lot of stopwords as unigrams here. Also, Unigramms from the sarcastic comments are mostly same as from the non-sarcastic comments, hence these unigramms do not help in seprating sarcastic comments from non-sarcastic comments.   "
   ]
  },
  {
   "cell_type": "code",
   "execution_count": null,
   "metadata": {},
   "outputs": [],
   "source": [
    "#bigrams\n",
    "l = [freq_words(vectorizer_2, df2[df2['label']==1]['Comments']),\n",
    "     freq_words(vectorizer_2, df2[df2['label']==0]['Comments'])]\n",
    "list(map(list, zip(*l)))"
   ]
  },
  {
   "cell_type": "markdown",
   "metadata": {},
   "source": [
    "As we can see that the  bigramms vectorizer shows us better (more specific) results as compared to unigrams."
   ]
  },
  {
   "cell_type": "code",
   "execution_count": null,
   "metadata": {
    "id": "I9Ks4VjwDoFp"
   },
   "outputs": [],
   "source": [
    "df2 = df2[:5000] #RAM crashes if we take more dataset"
   ]
  },
  {
   "cell_type": "code",
   "execution_count": null,
   "metadata": {
    "id": "SF7pD1UxEPN_"
   },
   "outputs": [],
   "source": [
    "corpus = df2['Comments'].values.astype('U') # converting to unicode because system unable to identify special characters."
   ]
  },
  {
   "cell_type": "code",
   "execution_count": null,
   "metadata": {
    "colab": {
     "base_uri": "https://localhost:8080/"
    },
    "id": "vYUakysLvpYJ",
    "outputId": "dec8e1c3-185d-4902-ff3f-bee88e707b87"
   },
   "outputs": [],
   "source": [
    "corpus"
   ]
  },
  {
   "cell_type": "code",
   "execution_count": null,
   "metadata": {
    "id": "oNLdJXV83i_r"
   },
   "outputs": [],
   "source": [
    "labels = df2['label'].to_list()"
   ]
  },
  {
   "cell_type": "markdown",
   "metadata": {},
   "source": [
    "***Tf-idf Vectorizer***"
   ]
  },
  {
   "cell_type": "code",
   "execution_count": null,
   "metadata": {
    "colab": {
     "base_uri": "https://localhost:8080/"
    },
    "id": "miyEGChGu7lM",
    "outputId": "e9b89b68-c4cb-40d5-aeb1-4d9c44011d51"
   },
   "outputs": [],
   "source": [
    "#vectorizer = TfidfVectorizer(stop_words='english', ngram_range=(1,1))\n",
    "vectorizer = TfidfVectorizer(ngram_range=(1,1))\n",
    "\n",
    "tfidf = vectorizer.fit_transform(corpus)"
   ]
  },
  {
   "cell_type": "code",
   "execution_count": null,
   "metadata": {},
   "outputs": [],
   "source": [
    "tfidf = tfidf.toarray()"
   ]
  },
  {
   "cell_type": "code",
   "execution_count": null,
   "metadata": {
    "colab": {
     "base_uri": "https://localhost:8080/"
    },
    "id": "MWkkhY9Ww7N3",
    "outputId": "3b8f9ed3-ea78-460d-d14e-1222668376ac"
   },
   "outputs": [],
   "source": [
    "# cv_dataframe=pd.DataFrame(X.toarray(),columns=vectorizer.get_feature_names())\n",
    "# #print(cv_dataframe)"
   ]
  },
  {
   "cell_type": "markdown",
   "metadata": {},
   "source": [
    "**Word Embeddings**"
   ]
  },
  {
   "cell_type": "code",
   "execution_count": 4,
   "metadata": {},
   "outputs": [],
   "source": [
    "f1=open('C:/Users/VATSALA NEMA/Documents/SEM 7/NLP 2022/Project- Sarcasm detection in Soc med/Dataset/project1/project_training_data_with_class_labels.csv')\n",
    "#f1['Class Labels'].replace(['non-sarcastic','sarcastic'],[1,0], inplace = True)\n",
    "reader = list(csv.reader(f1, delimiter='\\t'))\n",
    "text=''\n",
    "labels=[]\n",
    "\n"
   ]
  },
  {
   "cell_type": "code",
   "execution_count": 6,
   "metadata": {},
   "outputs": [
    {
     "data": {
      "text/plain": [
       "['ID,Comments,Parent Comments, Class Labels ,']"
      ]
     },
     "execution_count": 6,
     "metadata": {},
     "output_type": "execute_result"
    }
   ],
   "source": [
    "reader[0]"
   ]
  },
  {
   "cell_type": "code",
   "execution_count": 11,
   "metadata": {},
   "outputs": [
    {
     "ename": "KeyboardInterrupt",
     "evalue": "",
     "output_type": "error",
     "traceback": [
      "\u001b[1;31m---------------------------------------------------------------------------\u001b[0m",
      "\u001b[1;31mKeyboardInterrupt\u001b[0m                         Traceback (most recent call last)",
      "Input \u001b[1;32mIn [11]\u001b[0m, in \u001b[0;36m<cell line: 1>\u001b[1;34m()\u001b[0m\n\u001b[0;32m      4\u001b[0m     \u001b[38;5;28;01melse\u001b[39;00m:\n\u001b[0;32m      5\u001b[0m         labels\u001b[38;5;241m.\u001b[39mappend(\u001b[38;5;241m0\u001b[39m)\n\u001b[1;32m----> 6\u001b[0m     text\u001b[38;5;241m+\u001b[39m\u001b[38;5;241m=\u001b[39mitem[\u001b[38;5;241m0\u001b[39m]\u001b[38;5;241m+\u001b[39m\u001b[38;5;124m'\u001b[39m\u001b[38;5;124m. \u001b[39m\u001b[38;5;124m'\u001b[39m\n\u001b[0;32m      8\u001b[0m \u001b[38;5;28;01mfor\u001b[39;00m sentence \u001b[38;5;129;01min\u001b[39;00m sent_tokenize(text):\n\u001b[0;32m      9\u001b[0m     words \u001b[38;5;241m=\u001b[39m []    \n",
      "\u001b[1;31mKeyboardInterrupt\u001b[0m: "
     ]
    }
   ],
   "source": [
    "for item in reader:\n",
    "    if item[0]=='Sarcastic':\n",
    "        labels.append(1)\n",
    "    else:\n",
    "        labels.append(0)\n",
    "    text+=item[0]+'. '\n",
    "\n",
    "for sentence in sent_tokenize(text):\n",
    "    words = []    \n",
    "    for word in word_tokenize(sentence):  # tokenize the sentence into words\n",
    "        words.append(word.lower()) \n",
    "    data.append(words)\n",
    "\n",
    "model = Word2Vec(words, min_count=1)\n",
    "\n",
    "print(model)\n",
    "\n",
    "words2=list(model.wv.vocab)\n",
    "print(words2)\n",
    "\n",
    "print(model['sentence'])\n",
    "\n",
    "model.save('model.bin')\n",
    "\n",
    "new_model=Word2Vec.load('model.bin')\n",
    "print(new_model)\n",
    "\n"
   ]
  },
  {
   "cell_type": "code",
   "execution_count": null,
   "metadata": {},
   "outputs": [],
   "source": [
    "#Visualizing the word vectors\n",
    "X = model[model.wv.vocab]\n",
    "\n",
    "# fit a 2d PCA model to the vectors\n",
    "pca = PCA(n_components=2)\n",
    "result = pca.fit_transform(X)\n",
    "\n",
    "# create a scatter plot of the projection\n",
    "pyplot.scatter(result[:, 0], result[:, 1])\n",
    "\n",
    "for i, word in enumerate(words2):\n",
    "\tplt.annotate(word, xy=(result[i, 0], result[i, 1]))\n",
    "\n",
    "plt.show()"
   ]
  },
  {
   "cell_type": "code",
   "execution_count": 12,
   "metadata": {},
   "outputs": [
    {
     "ename": "ValueError",
     "evalue": "not enough values to unpack (expected 2, got 0)",
     "output_type": "error",
     "traceback": [
      "\u001b[1;31m---------------------------------------------------------------------------\u001b[0m",
      "\u001b[1;31mValueError\u001b[0m                                Traceback (most recent call last)",
      "Input \u001b[1;32mIn [12]\u001b[0m, in \u001b[0;36m<cell line: 4>\u001b[1;34m()\u001b[0m\n\u001b[0;32m      2\u001b[0m \u001b[38;5;28;01mfrom\u001b[39;00m \u001b[38;5;21;01mgensim\u001b[39;00m\u001b[38;5;21;01m.\u001b[39;00m\u001b[38;5;21;01mmodels\u001b[39;00m \u001b[38;5;28;01mimport\u001b[39;00m KeyedVectors\n\u001b[0;32m      3\u001b[0m filename \u001b[38;5;241m=\u001b[39m \u001b[38;5;124m'\u001b[39m\u001b[38;5;124mGoogleNews-vectors-negative300.bin\u001b[39m\u001b[38;5;124m'\u001b[39m\n\u001b[1;32m----> 4\u001b[0m model \u001b[38;5;241m=\u001b[39m \u001b[43mKeyedVectors\u001b[49m\u001b[38;5;241;43m.\u001b[39;49m\u001b[43mload_word2vec_format\u001b[49m\u001b[43m(\u001b[49m\u001b[43mf1\u001b[49m\u001b[43m,\u001b[49m\u001b[43m \u001b[49m\u001b[43mbinary\u001b[49m\u001b[38;5;241;43m=\u001b[39;49m\u001b[38;5;28;43;01mTrue\u001b[39;49;00m\u001b[43m)\u001b[49m\n",
      "File \u001b[1;32mC:\\Apps\\Conda\\lib\\site-packages\\gensim\\models\\keyedvectors.py:1723\u001b[0m, in \u001b[0;36mKeyedVectors.load_word2vec_format\u001b[1;34m(cls, fname, fvocab, binary, encoding, unicode_errors, limit, datatype, no_header)\u001b[0m\n\u001b[0;32m   1676\u001b[0m \u001b[38;5;129m@classmethod\u001b[39m\n\u001b[0;32m   1677\u001b[0m \u001b[38;5;28;01mdef\u001b[39;00m \u001b[38;5;21mload_word2vec_format\u001b[39m(\n\u001b[0;32m   1678\u001b[0m         \u001b[38;5;28mcls\u001b[39m, fname, fvocab\u001b[38;5;241m=\u001b[39m\u001b[38;5;28;01mNone\u001b[39;00m, binary\u001b[38;5;241m=\u001b[39m\u001b[38;5;28;01mFalse\u001b[39;00m, encoding\u001b[38;5;241m=\u001b[39m\u001b[38;5;124m'\u001b[39m\u001b[38;5;124mutf8\u001b[39m\u001b[38;5;124m'\u001b[39m, unicode_errors\u001b[38;5;241m=\u001b[39m\u001b[38;5;124m'\u001b[39m\u001b[38;5;124mstrict\u001b[39m\u001b[38;5;124m'\u001b[39m,\n\u001b[0;32m   1679\u001b[0m         limit\u001b[38;5;241m=\u001b[39m\u001b[38;5;28;01mNone\u001b[39;00m, datatype\u001b[38;5;241m=\u001b[39mREAL, no_header\u001b[38;5;241m=\u001b[39m\u001b[38;5;28;01mFalse\u001b[39;00m,\n\u001b[0;32m   1680\u001b[0m     ):\n\u001b[0;32m   1681\u001b[0m     \u001b[38;5;124;03m\"\"\"Load KeyedVectors from a file produced by the original C word2vec-tool format.\u001b[39;00m\n\u001b[0;32m   1682\u001b[0m \n\u001b[0;32m   1683\u001b[0m \u001b[38;5;124;03m    Warnings\u001b[39;00m\n\u001b[1;32m   (...)\u001b[0m\n\u001b[0;32m   1721\u001b[0m \n\u001b[0;32m   1722\u001b[0m \u001b[38;5;124;03m    \"\"\"\u001b[39;00m\n\u001b[1;32m-> 1723\u001b[0m     \u001b[38;5;28;01mreturn\u001b[39;00m \u001b[43m_load_word2vec_format\u001b[49m\u001b[43m(\u001b[49m\n\u001b[0;32m   1724\u001b[0m \u001b[43m        \u001b[49m\u001b[38;5;28;43mcls\u001b[39;49m\u001b[43m,\u001b[49m\u001b[43m \u001b[49m\u001b[43mfname\u001b[49m\u001b[43m,\u001b[49m\u001b[43m \u001b[49m\u001b[43mfvocab\u001b[49m\u001b[38;5;241;43m=\u001b[39;49m\u001b[43mfvocab\u001b[49m\u001b[43m,\u001b[49m\u001b[43m \u001b[49m\u001b[43mbinary\u001b[49m\u001b[38;5;241;43m=\u001b[39;49m\u001b[43mbinary\u001b[49m\u001b[43m,\u001b[49m\u001b[43m \u001b[49m\u001b[43mencoding\u001b[49m\u001b[38;5;241;43m=\u001b[39;49m\u001b[43mencoding\u001b[49m\u001b[43m,\u001b[49m\u001b[43m \u001b[49m\u001b[43municode_errors\u001b[49m\u001b[38;5;241;43m=\u001b[39;49m\u001b[43municode_errors\u001b[49m\u001b[43m,\u001b[49m\n\u001b[0;32m   1725\u001b[0m \u001b[43m        \u001b[49m\u001b[43mlimit\u001b[49m\u001b[38;5;241;43m=\u001b[39;49m\u001b[43mlimit\u001b[49m\u001b[43m,\u001b[49m\u001b[43m \u001b[49m\u001b[43mdatatype\u001b[49m\u001b[38;5;241;43m=\u001b[39;49m\u001b[43mdatatype\u001b[49m\u001b[43m,\u001b[49m\u001b[43m \u001b[49m\u001b[43mno_header\u001b[49m\u001b[38;5;241;43m=\u001b[39;49m\u001b[43mno_header\u001b[49m\u001b[43m,\u001b[49m\n\u001b[0;32m   1726\u001b[0m \u001b[43m    \u001b[49m\u001b[43m)\u001b[49m\n",
      "File \u001b[1;32mC:\\Apps\\Conda\\lib\\site-packages\\gensim\\models\\keyedvectors.py:2063\u001b[0m, in \u001b[0;36m_load_word2vec_format\u001b[1;34m(cls, fname, fvocab, binary, encoding, unicode_errors, limit, datatype, no_header, binary_chunk_size)\u001b[0m\n\u001b[0;32m   2061\u001b[0m \u001b[38;5;28;01melse\u001b[39;00m:\n\u001b[0;32m   2062\u001b[0m     header \u001b[38;5;241m=\u001b[39m utils\u001b[38;5;241m.\u001b[39mto_unicode(fin\u001b[38;5;241m.\u001b[39mreadline(), encoding\u001b[38;5;241m=\u001b[39mencoding)\n\u001b[1;32m-> 2063\u001b[0m     vocab_size, vector_size \u001b[38;5;241m=\u001b[39m [\u001b[38;5;28mint\u001b[39m(x) \u001b[38;5;28;01mfor\u001b[39;00m x \u001b[38;5;129;01min\u001b[39;00m header\u001b[38;5;241m.\u001b[39msplit()]  \u001b[38;5;66;03m# throws for invalid file format\u001b[39;00m\n\u001b[0;32m   2064\u001b[0m \u001b[38;5;28;01mif\u001b[39;00m limit:\n\u001b[0;32m   2065\u001b[0m     vocab_size \u001b[38;5;241m=\u001b[39m \u001b[38;5;28mmin\u001b[39m(vocab_size, limit)\n",
      "\u001b[1;31mValueError\u001b[0m: not enough values to unpack (expected 2, got 0)"
     ]
    }
   ],
   "source": [
    "#Since, training our own word vectors is very time consuming, we train it on Google's pre-trained word2vec model\n",
    "from gensim.models import KeyedVectors\n",
    "filename = 'GoogleNews-vectors-negative300.bin'\n",
    "model = KeyedVectors.load_word2vec_format(words, binary=True)\n",
    "\n"
   ]
  },
  {
   "cell_type": "markdown",
   "metadata": {},
   "source": [
    "## Not removing stopwords"
   ]
  },
  {
   "cell_type": "markdown",
   "metadata": {},
   "source": [
    "*Training the model*"
   ]
  },
  {
   "cell_type": "markdown",
   "metadata": {},
   "source": [
    "*Logistic Regression*"
   ]
  },
  {
   "cell_type": "code",
   "execution_count": null,
   "metadata": {
    "id": "vMMdQu6m07ik"
   },
   "outputs": [],
   "source": [
    "# parameters = {'solver': [ 'lbfgs', 'liblinear', 'saga'], 'verbose': [0, 1, 2]}\n",
    "\n",
    "# # multinomial logistic regression a.k.a softmax classifier\n",
    "# logit = LogisticRegression(random_state= 42)\n",
    "\n",
    "# logit_classifier = GridSearchCV(logit, parameters, cv = 10, n_jobs= 4)\n",
    "\n",
    "# # sklearn's pipeline\n",
    "# tfidf_logit_pipeline = Pipeline([('vectorizer', vectorizer), \n",
    "# ('tfidf', TfidfTransformer(use_idf=True,smooth_idf=True)), ('logit_classifier', logit_classifier)])\n",
    "\n",
    "# start = time.time()\n",
    "# tfidf_logit_pipeline.fit(x_train, y_train)\n",
    "# end = time.time()\n",
    "# print(end - start) \n",
    "\n",
    "# print(logit_classifier.best_params_)\n",
    "# print(logit_classifier.best_score_)"
   ]
  },
  {
   "cell_type": "code",
   "execution_count": null,
   "metadata": {},
   "outputs": [],
   "source": [
    "train_x, test_x, train_y, test_y = train_test_split(corpus, labels, test_size=0.20, random_state=42,stratify=labels)\n",
    "#Classifier\n",
    "clf_lr=LogisticRegression(class_weight='balanced') \n",
    "clf_lr_parameters = {'clf__solver':('newton-cg','lbfgs','liblinear','saga')}    \n",
    "        \n",
    "#Feature Extraction\n",
    "pipeline = Pipeline([\n",
    "('vect', CountVectorizer(token_pattern=r'\\b\\w+\\b')),\n",
    "('tfidf', TfidfTransformer(use_idf=True,smooth_idf=True)),     \n",
    "('clf', clf_lr),]) \n",
    "\n",
    "\n",
    "#Classificaion\n",
    "parameters={**clf_lr_parameters} \n",
    "grid = GridSearchCV(pipeline,parameters,scoring='f1_micro',cv=10)          \n",
    "grid.fit(train_x,train_y)     \n",
    "clf= grid.best_estimator_  \n",
    "print('********* Best Set of Parameters ********* \\n\\n')\n",
    "print(clf)\n",
    "\n",
    "predicted = clf.predict(test_x)\n",
    "predicted =list(predicted)"
   ]
  },
  {
   "cell_type": "code",
   "execution_count": null,
   "metadata": {
    "colab": {
     "base_uri": "https://localhost:8080/"
    },
    "id": "l5wuGryG7l9F",
    "outputId": "a46b22f1-ade2-4928-947e-b3907fb15214"
   },
   "outputs": [],
   "source": [
    "accuracy_lr1 = accuracy_score(test_y, predicted)\n"
   ]
  },
  {
   "cell_type": "code",
   "execution_count": null,
   "metadata": {
    "colab": {
     "base_uri": "https://localhost:8080/"
    },
    "id": "PvNxigMA7ogp",
    "outputId": "509bffb5-49ad-4861-bb41-a8d0b21eae12"
   },
   "outputs": [],
   "source": [
    "# Getting the accuracy metric\n",
    "acc = accuracy_score(predicted, test_y)\n",
    "pre = precision_score(predicted, test_y, average = 'micro')\n",
    "rec = recall_score(predicted, test_y)\n",
    "f1 = f1_score(predicted, test_y)\n",
    "micro_f1 = f1_score(predicted, test_y, average = 'micro')\n",
    "\n",
    "print ('Model Performance Statistic Suite-1 (Logistic Regression): ')\n",
    "print ('Accuracy: ', acc)\n",
    "print ('Precision: ', pre)\n",
    "print ('Recall: ',rec)\n",
    "print ('F1 Score: ', f1)\n",
    "print('Micro f1: ', micro_f1)\n",
    "\n",
    "cm = confusion_matrix(test_y,predicted)\n"
   ]
  },
  {
   "cell_type": "code",
   "execution_count": null,
   "metadata": {
    "colab": {
     "base_uri": "https://localhost:8080/",
     "height": 413
    },
    "id": "lFhbO3zK7rA4",
    "outputId": "08cc04dd-9047-4fa7-9bd9-b8f0ed903b03"
   },
   "outputs": [],
   "source": [
    "cm =  pd.DataFrame(cm, index=['Non-sarcastic','Sarcastic'],columns=['Non-sarcastic','Sarcastic'])\n",
    "fig = plt.figure(figsize=(8,6))\n",
    "ax = sns.heatmap(cm,annot=True,cbar=False, cmap='Greens',linewidths=0.5,fmt='.0f')\n",
    "ax.set_title('Confusion Matrix',fontsize=16,y=1.25)\n",
    "ax.set_ylabel('Actual',fontsize=14)\n",
    "ax.set_xlabel('Predicted',fontsize=14)\n",
    "ax.xaxis.set_ticks_position('top')\n",
    "ax.xaxis.set_label_position('top')\n",
    "ax.tick_params(labelsize=12)"
   ]
  },
  {
   "cell_type": "markdown",
   "metadata": {},
   "source": [
    "*Support Vector Machine*"
   ]
  },
  {
   "cell_type": "code",
   "execution_count": null,
   "metadata": {},
   "outputs": [],
   "source": [
    "train_x, test_x, train_y, test_y = train_test_split(corpus, labels, test_size=0.20, random_state=42,stratify=labels)\n",
    "#Classifier\n",
    "\n",
    "clf_svm=SVC()\n",
    "\n",
    "clf_parameters = {'clf__kernel':('linear', 'poly'),#, 'rbf', 'sigmoid'),\n",
    "                  'clf__C' : (0,1),#,3,5,10)}    \n",
    "        \n",
    "#Feature Extraction\n",
    "pipeline = Pipeline([\n",
    "('vect', CountVectorizer(token_pattern=r'\\b\\w+\\b')),\n",
    "('tfidf', TfidfTransformer(use_idf=True,smooth_idf=True)),     \n",
    "('clf', clf_svm),]) \n",
    "    \n",
    "#Classificaion\n",
    "parameters={**clf_parameters} \n",
    "grid = GridSearchCV(pipeline,parameters,scoring='f1_micro',cv=10)          \n",
    "grid.fit(train_x,train_y)     \n",
    "clf= grid.best_estimator_  \n",
    "print('********* Best Set of Parameters ********* \\n\\n')\n",
    "print(clf)\n",
    "\n",
    "predicted = clf.predict(test_x)\n",
    "predicted =list(predicted)\n"
   ]
  },
  {
   "cell_type": "code",
   "execution_count": null,
   "metadata": {},
   "outputs": [],
   "source": [
    "accuracy_svm1 = accuracy_score(test_y, predicted)"
   ]
  },
  {
   "cell_type": "code",
   "execution_count": null,
   "metadata": {},
   "outputs": [],
   "source": [
    "# Getting the accuracy metric\n",
    "acc = accuracy_score(predicted, test_y)\n",
    "pre = precision_score(predicted, test_y, average = 'micro')\n",
    "rec = recall_score(predicted, test_y)\n",
    "f1 = f1_score(predicted, test_y)\n",
    "micro_f1 = f1_score(predicted, test_y, average = 'micro')\n",
    "\n",
    "print ('Model Performance Statistic Suite-1 (SVM): ')\n",
    "print ('Accuracy: ', acc)\n",
    "print ('Precision: ', pre)\n",
    "print ('Recall: ',rec)\n",
    "print ('F1 Score: ', f1)\n",
    "print('Micro f1: ', micro_f1)\n",
    "\n",
    "cm = confusion_matrix(predicted, test_y)\n",
    "\n",
    "sensitivity = cm[0,0]/(cm[0,0]+cm[1,0])\n",
    "print('Sensitivity : ', sensitivity )\n",
    "\n",
    "specificity = cm[1,1]/(cm[0,1]+cm[1,1])\n",
    "print('Specificity : ', specificity)"
   ]
  },
  {
   "cell_type": "code",
   "execution_count": null,
   "metadata": {},
   "outputs": [],
   "source": [
    "cm =  pd.DataFrame(cm, index=['Non-sarcastic','Sarcastic'],columns=['Non-sarcastic','Sarcastic'])\n",
    "fig = plt.figure(figsize=(8,6))\n",
    "ax = sns.heatmap(cm,annot=True,cbar=False, cmap='Greens',linewidths=0.5,fmt='.0f')\n",
    "ax.set_title('Confusion Matrix',fontsize=16,y=1.25)\n",
    "ax.set_ylabel('Actual',fontsize=14)\n",
    "ax.set_xlabel('Predicted',fontsize=14)\n",
    "ax.xaxis.set_ticks_position('top')\n",
    "ax.xaxis.set_label_position('top')\n",
    "ax.tick_params(labelsize=12)"
   ]
  },
  {
   "cell_type": "markdown",
   "metadata": {},
   "source": [
    "*Multinomial Naive Bayes*"
   ]
  },
  {
   "cell_type": "code",
   "execution_count": null,
   "metadata": {},
   "outputs": [],
   "source": [
    "train_x, test_x, train_y, test_y = train_test_split(corpus, labels, test_size=0.20, random_state=42,stratify=labels)\n",
    "#Classifier\n",
    "\n",
    "clf_mnb=MultinomialNB(fit_prior=True, class_prior=None)\n",
    "\n",
    "\n",
    "clf_parameters = {'clf__alpha':(0,1,2),}   \n",
    "        \n",
    "#Feature Extraction\n",
    "pipeline = Pipeline([\n",
    "('vect', CountVectorizer(token_pattern=r'\\b\\w+\\b')),\n",
    "('tfidf', TfidfTransformer(use_idf=True,smooth_idf=True)),     \n",
    "('clf', clf_mnb),]) \n",
    "    \n",
    "\n",
    "\n",
    "#Classificaion\n",
    "parameters={**clf_parameters} \n",
    "grid = GridSearchCV(pipeline,parameters,scoring='f1_micro',cv=10)          \n",
    "grid.fit(train_x,train_y)     \n",
    "clf= grid.best_estimator_  \n",
    "print('********* Best Set of Parameters ********* \\n\\n')\n",
    "print(clf)\n",
    "\n",
    "predicted = clf.predict(test_x)\n",
    "predicted =list(predicted)\n"
   ]
  },
  {
   "cell_type": "code",
   "execution_count": null,
   "metadata": {},
   "outputs": [],
   "source": [
    "accuracy_mnb1 = accuracy_score(test_y, predicted)"
   ]
  },
  {
   "cell_type": "code",
   "execution_count": null,
   "metadata": {},
   "outputs": [],
   "source": [
    "# Getting the accuracy metric\n",
    "acc = accuracy_score(predicted, test_y)\n",
    "pre = precision_score(predicted, test_y, average = 'micro')\n",
    "rec = recall_score(predicted, test_y)\n",
    "f1 = f1_score(predicted, test_y)\n",
    "micro_f1 = f1_score(predicted, test_y, average = 'micro')\n",
    "\n",
    "print ('Model Performance Statistic Suite-1 (MNB): ')\n",
    "print ('Accuracy: ', acc)\n",
    "print ('Precision: ', pre)\n",
    "print ('Recall: ',rec)\n",
    "print ('F1 Score: ', f1)\n",
    "print('Micro f1: ', micro_f1)\n",
    "\n",
    "cm = confusion_matrix(predicted, test_y)\n",
    "\n",
    "sensitivity = cm[0,0]/(cm[0,0]+cm[1,0])\n",
    "print('Sensitivity : ', sensitivity )\n",
    "\n",
    "specificity = cm[1,1]/(cm[0,1]+cm[1,1])\n",
    "print('Specificity : ', specificity)"
   ]
  },
  {
   "cell_type": "code",
   "execution_count": null,
   "metadata": {},
   "outputs": [],
   "source": [
    "cm =  pd.DataFrame(cm, index=['Non-sarcastic','Sarcastic'],columns=['Non-sarcastic','Sarcastic'])\n",
    "fig = plt.figure(figsize=(8,6))\n",
    "ax = sns.heatmap(cm,annot=True,cbar=False, cmap='Greens',linewidths=0.5,fmt='.0f')\n",
    "ax.set_title('Confusion Matrix',fontsize=16,y=1.25)\n",
    "ax.set_ylabel('Actual',fontsize=14)\n",
    "ax.set_xlabel('Predicted',fontsize=14)\n",
    "ax.xaxis.set_ticks_position('top')\n",
    "ax.xaxis.set_label_position('top')\n",
    "ax.tick_params(labelsize=12)"
   ]
  },
  {
   "cell_type": "code",
   "execution_count": null,
   "metadata": {},
   "outputs": [],
   "source": [
    "print ('Training Accuracies for comments without removing stop-words : ')\n",
    "print ('Logistic Regression: ', accuracy_lr1)\n",
    "print ('Support Vector Machine: ', accuracy_svm1)\n",
    "print ('Multinomial Naive Bayes ', accuracy_mnb1)\n"
   ]
  },
  {
   "cell_type": "markdown",
   "metadata": {},
   "source": [
    "## With stopwords"
   ]
  },
  {
   "cell_type": "markdown",
   "metadata": {},
   "source": [
    "*Logistic Regression*"
   ]
  },
  {
   "cell_type": "code",
   "execution_count": null,
   "metadata": {},
   "outputs": [],
   "source": [
    "vectorizer_1 = CountVectorizer(stop_words='english', ngram_range=(1, 1)) #unigram\n",
    "vectorizer_2 = CountVectorizer(stop_words='english', ngram_range=(2, 2)) #bigram"
   ]
  },
  {
   "cell_type": "code",
   "execution_count": null,
   "metadata": {},
   "outputs": [],
   "source": [
    "vectorizer = TfidfVectorizer(stop_words='english', ngram_range=(1,1))\n",
    "\n",
    "X = vectorizer.fit_transform(corpus)"
   ]
  },
  {
   "cell_type": "code",
   "execution_count": null,
   "metadata": {},
   "outputs": [],
   "source": [
    "train_x, test_x, train_y, test_y = train_test_split(corpus, labels, test_size=0.20, random_state=42,stratify=labels)\n",
    "#Classifier\n",
    "clf_lr=LogisticRegression(class_weight='balanced') \n",
    "clf_lr_parameters = {'clf__solver':('newton-cg','lbfgs','liblinear','saga')}    \n",
    "        \n",
    "#Feature Extraction\n",
    "pipeline = Pipeline([\n",
    "('vect', CountVectorizer(token_pattern=r'\\b\\w+\\b')),\n",
    "('tfidf', TfidfTransformer(use_idf=True,smooth_idf=True)),     \n",
    "('clf', clf_lr),]) \n",
    "\n",
    "feature_parameters = {\n",
    "\"vect__stop_words\": (None, 'english'),\n",
    "'vect__ngram_range': ((1,1),(1, 2)),  # Unigrams, Bigrams or Trigrams\n",
    "}\n",
    "\n",
    "#Classificaion\n",
    "parameters={**feature_parameters,**clf_lr_parameters} \n",
    "grid = GridSearchCV(pipeline,parameters,scoring='f1_micro',cv=10)          \n",
    "grid.fit(train_x,train_y)     \n",
    "clf= grid.best_estimator_  \n",
    "print('********* Best Set of Parameters ********* \\n\\n')\n",
    "print(clf)\n",
    "\n",
    "predicted = clf.predict(test_x)\n",
    "predicted =list(predicted)"
   ]
  },
  {
   "cell_type": "code",
   "execution_count": null,
   "metadata": {},
   "outputs": [],
   "source": [
    "accuracy_lr2 = accuracy_score(test_y, predicted)"
   ]
  },
  {
   "cell_type": "code",
   "execution_count": null,
   "metadata": {},
   "outputs": [],
   "source": [
    "cm =  pd.DataFrame(cm, index=['Non-sarcastic','Sarcastic'],columns=['Non-sarcastic','Sarcastic'])\n",
    "fig = plt.figure(figsize=(8,6))\n",
    "ax = sns.heatmap(cm,annot=True,cbar=False, cmap='Greens',linewidths=0.5,fmt='.0f')\n",
    "ax.set_title('Confusion Matrix',fontsize=16,y=1.25)\n",
    "ax.set_ylabel('Actual',fontsize=14)\n",
    "ax.set_xlabel('Predicted',fontsize=14)\n",
    "ax.xaxis.set_ticks_position('top')\n",
    "ax.xaxis.set_label_position('top')\n",
    "ax.tick_params(labelsize=12)"
   ]
  },
  {
   "cell_type": "markdown",
   "metadata": {},
   "source": [
    "*SVM*"
   ]
  },
  {
   "cell_type": "code",
   "execution_count": null,
   "metadata": {},
   "outputs": [],
   "source": [
    "train_x, test_x, train_y, test_y = train_test_split(corpus, labels, test_size=0.20, random_state=42,stratify=labels)\n",
    "#Classifier\n",
    "\n",
    "clf=SVC()\n",
    "\n",
    "clf_parameters = {'clf__kernel':('linear', 'poly'),#, 'rbf', 'sigmoid'),\n",
    "                  'clf__C' : (0,1),#,3,5,10),\n",
    "                  }    \n",
    "        \n",
    "#Feature Extraction\n",
    "pipeline = Pipeline([\n",
    "('vect', CountVectorizer(token_pattern=r'\\b\\w+\\b')),\n",
    "('tfidf', TfidfTransformer(use_idf=True,smooth_idf=True)),     \n",
    "('clf', clf),]) \n",
    "\n",
    "feature_parameters = {\n",
    "\"vect__stop_words\": (None, 'english'),\n",
    "'vect__ngram_range': ((1,1),(1, 2)),  # Unigrams, Bigrams or Trigrams\n",
    "}\n",
    "\n",
    "#Classificaion\n",
    "parameters={**clf_parameters} \n",
    "grid = GridSearchCV(pipeline,parameters,scoring='f1_micro',cv=10)          \n",
    "grid.fit(train_x,train_y)     \n",
    "clf= grid.best_estimator_  \n",
    "print('********* Best Set of Parameters ********* \\n\\n')\n",
    "print(clf)\n",
    "\n",
    "predicted = clf.predict(test_x)\n",
    "predicted =list(predicted)\n"
   ]
  },
  {
   "cell_type": "code",
   "execution_count": null,
   "metadata": {},
   "outputs": [],
   "source": [
    "accuracy_svm2 = accuracy_score(test_y, predicted)"
   ]
  },
  {
   "cell_type": "code",
   "execution_count": null,
   "metadata": {},
   "outputs": [],
   "source": [
    "# Getting the accuracy metric\n",
    "acc = accuracy_score(predicted, test_y)\n",
    "pre = precision_score(predicted, test_y, average = 'micro')\n",
    "rec = recall_score(predicted, test_y)\n",
    "f1 = f1_score(predicted, test_y)\n",
    "micro_f1 = f1_score(predicted, test_y, average = 'micro')\n",
    "\n",
    "print ('Model Performance Statistic Suite-2 (MNB): ')\n",
    "print ('Accuracy: ', acc)\n",
    "print ('Precision: ', pre)\n",
    "print ('Recall: ',rec)\n",
    "print ('F1 Score: ', f1)\n",
    "print('Micro f1: ', micro_f1)\n",
    "\n",
    "cm = confusion_matrix(predicted, test_y)\n",
    "\n",
    "sensitivity = cm[0,0]/(cm[0,0]+cm[1,0])\n",
    "print('Sensitivity : ', sensitivity )\n",
    "\n",
    "specificity = cm[1,1]/(cm[0,1]+cm[1,1])\n",
    "print('Specificity : ', specificity)"
   ]
  },
  {
   "cell_type": "code",
   "execution_count": null,
   "metadata": {},
   "outputs": [],
   "source": [
    "cm =  pd.DataFrame(cm, index=['Non-sarcastic','Sarcastic'],columns=['Non-sarcastic','Sarcastic'])\n",
    "fig = plt.figure(figsize=(8,6))\n",
    "ax = sns.heatmap(cm,annot=True,cbar=False, cmap='Greens',linewidths=0.5,fmt='.0f')\n",
    "ax.set_title('Confusion Matrix',fontsize=16,y=1.25)\n",
    "ax.set_ylabel('Actual',fontsize=14)\n",
    "ax.set_xlabel('Predicted',fontsize=14)\n",
    "ax.xaxis.set_ticks_position('top')\n",
    "ax.xaxis.set_label_position('top')\n",
    "ax.tick_params(labelsize=12)"
   ]
  },
  {
   "cell_type": "markdown",
   "metadata": {},
   "source": [
    "*Multinomial Naive Bayes*"
   ]
  },
  {
   "cell_type": "code",
   "execution_count": null,
   "metadata": {},
   "outputs": [],
   "source": [
    "train_x, test_x, train_y, test_y = train_test_split(corpus, labels, test_size=0.20, random_state=42,stratify=labels)\n",
    "#Classifier\n",
    "\n",
    "clf=MultinomialNB(fit_prior=True, class_prior=None)\n",
    "\n",
    "\n",
    "clf_parameters = {'clf__alpha':(0,1,2),}   \n",
    "        \n",
    "#Feature Extraction\n",
    "pipeline = Pipeline([\n",
    "('vect', CountVectorizer(token_pattern=r'\\b\\w+\\b')),\n",
    "('tfidf', TfidfTransformer(use_idf=True,smooth_idf=True)),     \n",
    "('clf', clf),]) \n",
    "\n",
    "feature_parameters = {\n",
    "\"vect__stop_words\": (None, 'english'),\n",
    "'vect__ngram_range': ((1,1),(1, 2)),  # Unigrams, Bigrams or Trigrams\n",
    "}\n",
    "\n",
    "\n",
    "\n",
    "#Classificaion\n",
    "parameters={**feature_parameters,**clf_parameters} \n",
    "grid = GridSearchCV(pipeline,parameters,scoring='f1_micro',cv=10)          \n",
    "grid.fit(train_x,train_y)     \n",
    "clf= grid.best_estimator_  \n",
    "print('********* Best Set of Parameters ********* \\n\\n')\n",
    "print(clf)\n",
    "\n",
    "predicted = clf.predict(test_x)\n",
    "predicted =list(predicted)\n"
   ]
  },
  {
   "cell_type": "code",
   "execution_count": null,
   "metadata": {},
   "outputs": [],
   "source": [
    "accuracy_mnb2 = accuracy_score(test_y, predicted)"
   ]
  },
  {
   "cell_type": "code",
   "execution_count": null,
   "metadata": {},
   "outputs": [],
   "source": [
    "# Getting the accuracy metric\n",
    "acc = accuracy_score(predicted, test_y)\n",
    "pre = precision_score(predicted, test_y, average = 'micro')\n",
    "rec = recall_score(predicted, test_y)\n",
    "f1 = f1_score(predicted, test_y)\n",
    "micro_f1 = f1_score(predicted, test_y, average = 'micro')\n",
    "\n",
    "print ('Model Performance Statistic Suite-2 (MNB): ')\n",
    "print ('Accuracy: ', acc)\n",
    "print ('Precision: ', pre)\n",
    "print ('Recall: ',rec)\n",
    "print ('F1 Score: ', f1)\n",
    "print('Micro f1: ', micro_f1)\n",
    "\n",
    "cm = confusion_matrix(predicted, test_y)\n",
    "\n",
    "sensitivity = cm[0,0]/(cm[0,0]+cm[1,0])\n",
    "print('Sensitivity : ', sensitivity )\n",
    "\n",
    "specificity = cm[1,1]/(cm[0,1]+cm[1,1])\n",
    "print('Specificity : ', specificity)"
   ]
  },
  {
   "cell_type": "code",
   "execution_count": null,
   "metadata": {},
   "outputs": [],
   "source": [
    "cm =  pd.DataFrame(cm, index=['Non-sarcastic','Sarcastic'],columns=['Non-sarcastic','Sarcastic'])\n",
    "fig = plt.figure(figsize=(8,6))\n",
    "ax = sns.heatmap(cm,annot=True,cbar=False, cmap='Greens',linewidths=0.5,fmt='.0f')\n",
    "ax.set_title('Confusion Matrix',fontsize=16,y=1.25)\n",
    "ax.set_ylabel('Actual',fontsize=14)\n",
    "ax.set_xlabel('Predicted',fontsize=14)\n",
    "ax.xaxis.set_ticks_position('top')\n",
    "ax.xaxis.set_label_position('top')\n",
    "ax.tick_params(labelsize=12)"
   ]
  },
  {
   "cell_type": "code",
   "execution_count": null,
   "metadata": {},
   "outputs": [],
   "source": [
    "print ('Training Accuracies for comments without removing stop-words : ')\n",
    "print ('Logistic Regression: ', accuracy_lr2)\n",
    "print ('Support Vector Machine: ', accuracy_svm2)\n",
    "print ('Multinomial Naive Bayes ', accuracy_mnb2)\n"
   ]
  },
  {
   "cell_type": "markdown",
   "metadata": {},
   "source": [
    "When we applied stop words, number of words decreased and in most cases the meaning of the comments ight have also changed that's why the accuracy of all the 3 classifiers has decreased on removing stopwords."
   ]
  },
  {
   "cell_type": "markdown",
   "metadata": {},
   "source": [
    "## Stemming"
   ]
  },
  {
   "cell_type": "code",
   "execution_count": null,
   "metadata": {},
   "outputs": [],
   "source": [
    "# Function for stemming words in comments\n",
    "analyzer = CountVectorizer().build_analyzer()\n",
    "def stemmed_words(doc):\n",
    "  return (PorterStemmer().stem(w) for w in analyzer(doc))"
   ]
  },
  {
   "cell_type": "markdown",
   "metadata": {},
   "source": [
    "*Logistic Regression*"
   ]
  },
  {
   "cell_type": "code",
   "execution_count": null,
   "metadata": {},
   "outputs": [],
   "source": [
    "train_x, test_x, train_y, test_y = train_test_split(tfidf, labels, test_size=0.20, random_state=42,stratify=labels)\n",
    "\n",
    "#classifier\n",
    "clf=LogisticRegression(random_state=42)  \n",
    "vectorizer=TfidfVectorizer(analyzer = stemmed_words, ngram_range=(1,1), token_pattern=r'\\b\\w+\\b')\n",
    "tfidf = vectorizer.fit_transform(corpus)\n",
    "tfidf = tfidf.toarray()\n",
    "\n",
    "#classification\n",
    "clf.fit(train_x,train_y)\n",
    "predicted = clf.predict(test_x)\n",
    "predicted =list(predicted)"
   ]
  },
  {
   "cell_type": "code",
   "execution_count": null,
   "metadata": {},
   "outputs": [],
   "source": [
    "accuracy_lr3 = accuracy_score(test_y, predicted)"
   ]
  },
  {
   "cell_type": "code",
   "execution_count": null,
   "metadata": {},
   "outputs": [],
   "source": [
    "# Getting the accuracy metric\n",
    "acc = accuracy_score(predicted, test_y)\n",
    "pre = precision_score(predicted, test_y, average = 'micro')\n",
    "rec = recall_score(predicted, test_y)\n",
    "f1 = f1_score(predicted, test_y)\n",
    "#micro_f1 = f1_score(predicted, test_y, average = 'micro')\n",
    "\n",
    "print ('Model Performance Statistic Suite-3 (LR): ')\n",
    "print ('Accuracy: ', acc)\n",
    "print ('Precision: ', pre)\n",
    "print ('Recall: ',rec)\n",
    "print ('F1 Score: ', f1)\n",
    "print('Micro f1: ', micro_f1)\n",
    "\n",
    "cm = confusion_matrix(predicted, test_y)\n"
   ]
  },
  {
   "cell_type": "code",
   "execution_count": null,
   "metadata": {},
   "outputs": [],
   "source": [
    "cm =  pd.DataFrame(cm, index=['Non-sarcastic','Sarcastic'],columns=['Non-sarcastic','Sarcastic'])\n",
    "fig = plt.figure(figsize=(8,6))\n",
    "ax = sns.heatmap(cm,annot=True,cbar=False, cmap='Greens',linewidths=0.5,fmt='.0f')\n",
    "ax.set_title('Confusion Matrix',fontsize=16,y=1.25)\n",
    "ax.set_ylabel('Actual',fontsize=14)\n",
    "ax.set_xlabel('Predicted',fontsize=14)\n",
    "ax.xaxis.set_ticks_position('top')\n",
    "ax.xaxis.set_label_position('top')\n",
    "ax.tick_params(labelsize=12)"
   ]
  },
  {
   "cell_type": "markdown",
   "metadata": {},
   "source": [
    "*SVM*"
   ]
  },
  {
   "cell_type": "code",
   "execution_count": null,
   "metadata": {},
   "outputs": [],
   "source": [
    "train_x, test_x, train_y, test_y = train_test_split(tfidf, labels, test_size=0.20, random_state=42,stratify=labels)\n",
    "\n",
    "#classifier\n",
    "clf=SVC()\n",
    "vectorizer=TfidfVectorizer(analyzer = stemmed_words, ngram_range=(1,1), token_pattern=r'\\b\\w+\\b')\n",
    "tfidf = vectorizer.fit_transform(corpus)\n",
    "tfidf = tfidf.toarray()\n",
    "\n",
    "#classification\n",
    "clf.fit(train_x,train_y)\n",
    "predicted = clf.predict(test_x)\n",
    "predicted =list(predicted)"
   ]
  },
  {
   "cell_type": "code",
   "execution_count": null,
   "metadata": {},
   "outputs": [],
   "source": [
    "accuracy_svm3 = accuracy_score(test_y, predicted)"
   ]
  },
  {
   "cell_type": "code",
   "execution_count": null,
   "metadata": {},
   "outputs": [],
   "source": [
    "# Getting the accuracy metric\n",
    "acc = accuracy_score(predicted, test_y)\n",
    "pre = precision_score(predicted, test_y, average = 'micro')\n",
    "rec = recall_score(predicted, test_y)\n",
    "f1 = f1_score(predicted, test_y)\n",
    "micro_f1 = f1_score(predicted, test_y, average = 'micro')\n",
    "\n",
    "print ('Model Performance Statistic Suite-3 (SVM): ')\n",
    "print ('Accuracy: ', acc)\n",
    "print ('Precision: ', pre)\n",
    "print ('Recall: ',rec)\n",
    "print ('F1 Score: ', f1)\n",
    "print('Micro f1: ', micro_f1)\n",
    "\n",
    "cm = confusion_matrix(predicted, test_y)\n",
    "\n",
    "sensitivity = cm[0,0]/(cm[0,0]+cm[1,0])\n",
    "print('Sensitivity : ', sensitivity )\n",
    "\n",
    "specificity = cm[1,1]/(cm[0,1]+cm[1,1])\n",
    "print('Specificity : ', specificity)"
   ]
  },
  {
   "cell_type": "code",
   "execution_count": null,
   "metadata": {},
   "outputs": [],
   "source": [
    "cm =  pd.DataFrame(cm, index=['Non-sarcastic','Sarcastic'],columns=['Non-sarcastic','Sarcastic'])\n",
    "fig = plt.figure(figsize=(8,6))\n",
    "ax = sns.heatmap(cm,annot=True,cbar=False, cmap='Greens',linewidths=0.5,fmt='.0f')\n",
    "ax.set_title('Confusion Matrix',fontsize=16,y=1.25)\n",
    "ax.set_ylabel('Actual',fontsize=14)\n",
    "ax.set_xlabel('Predicted',fontsize=14)\n",
    "ax.xaxis.set_ticks_position('top')\n",
    "ax.xaxis.set_label_position('top')\n",
    "ax.tick_params(labelsize=12)"
   ]
  },
  {
   "cell_type": "markdown",
   "metadata": {},
   "source": [
    "*Mutlinomial Naive Bayes*"
   ]
  },
  {
   "cell_type": "code",
   "execution_count": null,
   "metadata": {},
   "outputs": [],
   "source": [
    "train_x, test_x, train_y, test_y = train_test_split(tfidf, labels, test_size=0.20, random_state=42,stratify=labels)\n",
    "\n",
    "#classifier\n",
    "clf=MultinomialNB(alpha=0,fit_prior=True, class_prior=None)  \n",
    "vectorizer=TfidfVectorizer(analyzer = stemmed_words, ngram_range=(1,1), token_pattern=r'\\b\\w+\\b')\n",
    "tfidf = vectorizer.fit_transform(corpus)\n",
    "tfidf = tfidf.toarray()\n",
    "\n",
    "#classification\n",
    "clf.fit(train_x,train_y)\n",
    "predicted = clf.predict(test_x)\n",
    "predicted =list(predicted)"
   ]
  },
  {
   "cell_type": "code",
   "execution_count": null,
   "metadata": {},
   "outputs": [],
   "source": [
    "accuracy_mnb3 = accuracy_score(test_y, predicted)"
   ]
  },
  {
   "cell_type": "code",
   "execution_count": null,
   "metadata": {},
   "outputs": [],
   "source": [
    "# Getting the accuracy metric\n",
    "acc = accuracy_score(predicted, test_y)\n",
    "pre = precision_score(predicted, test_y, average = 'micro')\n",
    "rec = recall_score(predicted, test_y)\n",
    "f1 = f1_score(predicted, test_y)\n",
    "micro_f1 = f1_score(predicted, test_y, average = 'micro')\n",
    "\n",
    "print ('Model Performance Statistic Suite-3 (MNB): ')\n",
    "print ('Accuracy: ', acc)\n",
    "print ('Precision: ', pre)\n",
    "print ('Recall: ',rec)\n",
    "print ('F1 Score: ', f1)\n",
    "print('Micro f1: ', micro_f1)\n",
    "\n",
    "cm = confusion_matrix(predicted, test_y)\n",
    "\n",
    "sensitivity = cm[0,0]/(cm[0,0]+cm[1,0])\n",
    "print('Sensitivity : ', sensitivity )\n",
    "\n",
    "specificity = cm[1,1]/(cm[0,1]+cm[1,1])\n",
    "print('Specificity : ', specificity)"
   ]
  },
  {
   "cell_type": "code",
   "execution_count": null,
   "metadata": {},
   "outputs": [],
   "source": [
    "cm =  pd.DataFrame(cm, index=['Non-sarcastic','Sarcastic'],columns=['Non-sarcastic','Sarcastic'])\n",
    "fig = plt.figure(figsize=(8,6))\n",
    "ax = sns.heatmap(cm,annot=True,cbar=False, cmap='Greens',linewidths=0.5,fmt='.0f')\n",
    "ax.set_title('Confusion Matrix',fontsize=16,y=1.25)\n",
    "ax.set_ylabel('Actual',fontsize=14)\n",
    "ax.set_xlabel('Predicted',fontsize=14)\n",
    "ax.xaxis.set_ticks_position('top')\n",
    "ax.xaxis.set_label_position('top')\n",
    "ax.tick_params(labelsize=12)"
   ]
  },
  {
   "cell_type": "code",
   "execution_count": null,
   "metadata": {},
   "outputs": [],
   "source": [
    "print ('Training Accuracies for comments without removing stop-words : ')\n",
    "print ('Logistic Regression: ', accuracy_lr3)\n",
    "print ('Support Vector Machine: ', accuracy_svm3)\n",
    "print ('Multinomial Naive Bayes ', accuracy_mnb3)\n"
   ]
  },
  {
   "cell_type": "markdown",
   "metadata": {},
   "source": [
    "## Lemmatization"
   ]
  },
  {
   "cell_type": "code",
   "execution_count": null,
   "metadata": {},
   "outputs": [],
   "source": [
    "analyzer = CountVectorizer().build_analyzer()\n",
    "def lemmatized_words(doc):\n",
    "  return (WordNetLemmatizer().lemmatize(w) for w in analyzer(doc))"
   ]
  },
  {
   "cell_type": "code",
   "execution_count": null,
   "metadata": {},
   "outputs": [],
   "source": [
    "clf=LogisticRegression()  \n",
    "vectorizer=TfidfVectorizer(analyzer = lemmatized_words,ngram_range=(1,1),token_pattern=r'\\b\\w+\\b')\n",
    "tfidf = vectorizer.fit_transform(corpus)\n",
    "tfidf = tfidf.toarray()\n",
    "# Training and Test Split           \n",
    "  \n",
    "train_x, test_x, train_y, test_y = train_test_split(tfidf, labels, test_size=0.20, random_state=42,stratify=labels)\n",
    "\n",
    "#Classificaion    \n",
    "clf.fit(train_x,train_y)\n",
    "predicted = clf.predict(test_x)\n",
    "predicted =list(predicted)"
   ]
  },
  {
   "cell_type": "code",
   "execution_count": null,
   "metadata": {},
   "outputs": [],
   "source": [
    "accuracy_lr4 = accuracy_score(test_y, predicted)"
   ]
  },
  {
   "cell_type": "code",
   "execution_count": null,
   "metadata": {},
   "outputs": [],
   "source": [
    "# Getting the accuracy metric\n",
    "acc = accuracy_score(predicted, test_y)\n",
    "pre = precision_score(predicted, test_y, average = 'micro')\n",
    "rec = recall_score(predicted, test_y)\n",
    "f1 = f1_score(predicted, test_y)\n",
    "micro_f1 = f1_score(predicted, test_y, average = 'micro')\n",
    "\n",
    "print ('Model Performance Statistic Suite-4(LR): ')\n",
    "print ('Accuracy: ', acc)\n",
    "print ('Precision: ', pre)\n",
    "print ('Recall: ',rec)\n",
    "print ('F1 Score: ', f1)\n",
    "print('Micro f1: ', micro_f1)\n",
    "\n",
    "cm = confusion_matrix(predicted, test_y)\n",
    "\n",
    "sensitivity = cm[0,0]/(cm[0,0]+cm[1,0])\n",
    "print('Sensitivity : ', sensitivity )\n",
    "\n",
    "specificity = cm[1,1]/(cm[0,1]+cm[1,1])\n",
    "print('Specificity : ', specificity)"
   ]
  },
  {
   "cell_type": "code",
   "execution_count": null,
   "metadata": {},
   "outputs": [],
   "source": [
    "cm =  pd.DataFrame(cm, index=['Non-sarcastic','Sarcastic'],columns=['Non-sarcastic','Sarcastic'])\n",
    "fig = plt.figure(figsize=(8,6))\n",
    "ax = sns.heatmap(cm,annot=True,cbar=False, cmap='Greens',linewidths=0.5,fmt='.0f')\n",
    "ax.set_title('Confusion Matrix',fontsize=16,y=1.25)\n",
    "ax.set_ylabel('Actual',fontsize=14)\n",
    "ax.set_xlabel('Predicted',fontsize=14)\n",
    "ax.xaxis.set_ticks_position('top')\n",
    "ax.xaxis.set_label_position('top')\n",
    "ax.tick_params(labelsize=12)"
   ]
  },
  {
   "cell_type": "code",
   "execution_count": null,
   "metadata": {},
   "outputs": [],
   "source": [
    "clf=SVC()  \n",
    "vectorizer=TfidfVectorizer(analyzer = lemmatized_words,ngram_range=(1,1),token_pattern=r'\\b\\w+\\b')\n",
    "tfidf = vectorizer.fit_transform(corpus)\n",
    "tfidf = tfidf.toarray()\n",
    "# Training and Test Split           \n",
    "  \n",
    "train_x, test_x, train_y, test_y = train_test_split(tfidf, labels, test_size=0.20, random_state=42,stratify=labels)\n",
    "\n",
    "#Classificaion    \n",
    "clf.fit(train_x,train_y)\n",
    "predicted = clf.predict(test_x)\n",
    "predicted =list(predicted)"
   ]
  },
  {
   "cell_type": "code",
   "execution_count": null,
   "metadata": {},
   "outputs": [],
   "source": [
    "accuracy_svm4 = accuracy_score(test_y, predicted)"
   ]
  },
  {
   "cell_type": "code",
   "execution_count": null,
   "metadata": {},
   "outputs": [],
   "source": [
    "# Getting the accuracy metric\n",
    "acc = accuracy_score(predicted, test_y)\n",
    "pre = precision_score(predicted, test_y, average = 'micro')\n",
    "rec = recall_score(predicted, test_y)\n",
    "f1 = f1_score(predicted, test_y)\n",
    "micro_f1 = f1_score(predicted, test_y, average = 'micro')\n",
    "\n",
    "print ('Model Performance Statistic Suite-4 (SVM): ')\n",
    "print ('Accuracy: ', acc)\n",
    "print ('Precision: ', pre)\n",
    "print ('Recall: ',rec)\n",
    "print ('F1 Score: ', f1)\n",
    "print('Micro f1: ', micro_f1)\n",
    "\n",
    "cm = confusion_matrix(predicted, test_y)\n",
    "\n",
    "sensitivity = cm[0,0]/(cm[0,0]+cm[1,0])\n",
    "print('Sensitivity : ', sensitivity )\n",
    "\n",
    "specificity = cm[1,1]/(cm[0,1]+cm[1,1])\n",
    "print('Specificity : ', specificity)"
   ]
  },
  {
   "cell_type": "code",
   "execution_count": null,
   "metadata": {},
   "outputs": [],
   "source": [
    "cm =  pd.DataFrame(cm, index=['Non-sarcastic','Sarcastic'],columns=['Non-sarcastic','Sarcastic'])\n",
    "fig = plt.figure(figsize=(8,6))\n",
    "ax = sns.heatmap(cm,annot=True,cbar=False, cmap='Greens',linewidths=0.5,fmt='.0f')\n",
    "ax.set_title('Confusion Matrix',fontsize=16,y=1.25)\n",
    "ax.set_ylabel('Actual',fontsize=14)\n",
    "ax.set_xlabel('Predicted',fontsize=14)\n",
    "ax.xaxis.set_ticks_position('top')\n",
    "ax.xaxis.set_label_position('top')\n",
    "ax.tick_params(labelsize=12)"
   ]
  },
  {
   "cell_type": "markdown",
   "metadata": {},
   "source": [
    "*MNB*"
   ]
  },
  {
   "cell_type": "code",
   "execution_count": null,
   "metadata": {},
   "outputs": [],
   "source": [
    "clf=MultinomialNB(alpha=0,fit_prior=True, class_prior=None)  \n",
    "vectorizer=TfidfVectorizer(analyzer = lemmatized_words,ngram_range=(1,1),token_pattern=r'\\b\\w+\\b')\n",
    "tfidf = vectorizer.fit_transform(corpus)\n",
    "tfidf = tfidf.toarray()\n",
    "# Training and Test Split           \n",
    "  \n",
    "train_x, test_x, train_y, test_y = train_test_split(tfidf, labels, test_size=0.20, random_state=42,stratify=labels)\n",
    "\n",
    "#Classificaion    \n",
    "clf.fit(train_x,train_y)\n",
    "predicted = clf.predict(test_x)\n",
    "predicted =list(predicted)"
   ]
  },
  {
   "cell_type": "code",
   "execution_count": null,
   "metadata": {},
   "outputs": [],
   "source": [
    "accuracy_mnb4 = accuracy_score(test_y, predicted)"
   ]
  },
  {
   "cell_type": "code",
   "execution_count": null,
   "metadata": {},
   "outputs": [],
   "source": [
    "# Getting the accuracy metric\n",
    "acc = accuracy_score(predicted, test_y)\n",
    "pre = precision_score(predicted, test_y, average = 'micro')\n",
    "rec = recall_score(predicted, test_y)\n",
    "f1 = f1_score(predicted, test_y)\n",
    "micro_f1 = f1_score(predicted, test_y, average = 'micro')\n",
    "\n",
    "print ('Model Performance Statistic Suite-5: ')\n",
    "print ('Accuracy: ', acc)\n",
    "print ('Precision: ', pre)\n",
    "print ('Recall: ',rec)\n",
    "print ('F1 Score: ', f1)\n",
    "print('Micro f1: ', micro_f1)\n",
    "\n",
    "cm = confusion_matrix(predicted, test_y)\n",
    "\n",
    "sensitivity = cm[0,0]/(cm[0,0]+cm[1,0])\n",
    "print('Sensitivity : ', sensitivity )\n",
    "\n",
    "specificity = cm[1,1]/(cm[0,1]+cm[1,1])\n",
    "print('Specificity : ', specificity)"
   ]
  },
  {
   "cell_type": "code",
   "execution_count": null,
   "metadata": {},
   "outputs": [],
   "source": [
    "cm =  pd.DataFrame(cm, index=['Non-sarcastic','Sarcastic'],columns=['Non-sarcastic','Sarcastic'])\n",
    "fig = plt.figure(figsize=(8,6))\n",
    "ax = sns.heatmap(cm,annot=True,cbar=False, cmap='Greens',linewidths=0.5,fmt='.0f')\n",
    "ax.set_title('Confusion Matrix',fontsize=16,y=1.25)\n",
    "ax.set_ylabel('Actual',fontsize=14)\n",
    "ax.set_xlabel('Predicted',fontsize=14)\n",
    "ax.xaxis.set_ticks_position('top')\n",
    "ax.xaxis.set_label_position('top')\n",
    "ax.tick_params(labelsize=12)"
   ]
  },
  {
   "cell_type": "code",
   "execution_count": null,
   "metadata": {},
   "outputs": [],
   "source": [
    "print ('Training Accuracies for comments without removing stop-words : ')\n",
    "print ('Logistic Regression: ', accuracy_lr4)\n",
    "print ('Support Vector Machine: ', accuracy_svm4)\n",
    "print ('Multinomial Naive Bayes ', accuracy_mnb4)\n"
   ]
  },
  {
   "cell_type": "code",
   "execution_count": null,
   "metadata": {},
   "outputs": [],
   "source": [
    "# Y_pred = logit_classifier.predict(X_test)\n",
    "# report = classification_report(Y_pred,Y_test, output_dict=True)\n",
    "# report = pd.DataFrame(report).transpose()\n",
    "# report = report.rename({\"0\": \"Sarcastic Comments\", \"1\": \"Non Sarcastic Comments\"})\n",
    "# report"
   ]
  },
  {
   "cell_type": "code",
   "execution_count": null,
   "metadata": {},
   "outputs": [],
   "source": [
    "# #pipeline parameters\n",
    "# parameters = \\\n",
    "# [ \\\n",
    "#     {\n",
    "#         'clf': [MultinomialNB()],\n",
    "#         'tf-idf__stop_words': ['english', None],\n",
    "#         'clf__alpha': [0.001, 0.1, 1, 10, 100]\n",
    "#     },\n",
    "\n",
    "#     {\n",
    "#         'clf': [SVC()],\n",
    "#         'tf-idf__stop_words': ['english', None],\n",
    "#         'clf__C': [0.001, 0.1, 1, 10, 100, 10e5],\n",
    "#         'clf__kernel': ['linear', 'rbf'],\n",
    "#         'clf__class_weight': ['balanced'],\n",
    "#         'clf__probability': [True]\n",
    "#     },\n",
    "\n",
    "#     {\n",
    "#         'clf': [LogisticRegression()],\n",
    "#         'tf-idf__stop_words': ['english', None],\n",
    "#         'clf__criterion': ['gini','entropy'],\n",
    "#         'clf__splitter': ['best','random'],\n",
    "#         'clf__class_weight':['balanced', None]\n",
    "#     }\n",
    "# ]\n",
    "\n",
    "# #evaluating multiple classifiers\n",
    "# #based on pipeline parameters\n",
    "# #-------------------------------\n",
    "# result=[]\n",
    "\n",
    "# for params in parameters:\n",
    "\n",
    "# #classifier\n",
    "#     clf = params['clf'][0]\n",
    "\n",
    "# #getting arguments by\n",
    "# #popping out classifier\n",
    "#     params.pop('clf')\n",
    "\n",
    "# #pipeline\n",
    "#     steps = [('tf-idf', TfidfVectorizer()), ('clf',clf)]\n",
    "\n",
    "# #cross validation using\n",
    "# #Grid Search\n",
    "#     grid = GridSearchCV(Pipeline(steps), param_grid=params, cv=10)\n",
    "#     grid.fit(corpus, labels)\n",
    "\n",
    "# #storing result\n",
    "#     result.append\\\n",
    "#     (\n",
    "#         {\n",
    "#             'grid': grid,\n",
    "#             'classifier': grid.best_estimator_,\n",
    "#             'best score': grid.best_score_,\n",
    "#             'best params': grid.best_params_,\n",
    "#             'cv': grid.cv\n",
    "#         }\n",
    "#     )   \n",
    "\n",
    "# #sorting result by best score\n",
    "# result = sorted(result, key=itemgetter('best score'),reverse=True)\n",
    "\n",
    "# #saving best classifier\n",
    "# grid = result[0]['grid']\n",
    "# print(grid)"
   ]
  },
  {
   "cell_type": "code",
   "execution_count": null,
   "metadata": {},
   "outputs": [],
   "source": []
  }
 ],
 "metadata": {
  "accelerator": "GPU",
  "colab": {
   "provenance": []
  },
  "gpuClass": "standard",
  "kernelspec": {
   "display_name": "Python 3 (ipykernel)",
   "language": "python",
   "name": "python3"
  },
  "language_info": {
   "codemirror_mode": {
    "name": "ipython",
    "version": 3
   },
   "file_extension": ".py",
   "mimetype": "text/x-python",
   "name": "python",
   "nbconvert_exporter": "python",
   "pygments_lexer": "ipython3",
   "version": "3.8.13"
  },
  "vscode": {
   "interpreter": {
    "hash": "75928846f1438bd0b6894eb0040c4d941884db636ea88b91a2a5a933625e1a6b"
   }
  }
 },
 "nbformat": 4,
 "nbformat_minor": 1
}
